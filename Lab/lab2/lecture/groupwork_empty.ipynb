{
 "cells": [
  {
   "cell_type": "markdown",
   "id": "f6f8ceb4",
   "metadata": {},
   "source": [
    "# Pandas Exercise\n",
    "\n",
    "In this exercise, we will be using the California `babynames` data from lecture, but we will be making different data queries.\n",
    "\n",
    "The following are 5 tasks that require relatively complex queries. Please work in a group and discuss best strategies to accomplish the task (in terms of code efficiency, conciseness, etc.) \n",
    " \n",
    "If time permits, we will discuss our responses as a class and consider alternatives."
   ]
  },
  {
   "cell_type": "code",
   "execution_count": 1,
   "id": "5d8978f3",
   "metadata": {},
   "outputs": [],
   "source": [
    "import numpy as np\n",
    "import pandas as pd"
   ]
  },
  {
   "cell_type": "code",
   "execution_count": 2,
   "id": "a2404a69",
   "metadata": {},
   "outputs": [],
   "source": [
    "# loading up the California baby names data\n",
    "\n",
    "import urllib.request\n",
    "import os.path\n",
    "import zipfile\n",
    "\n",
    "data_url = \"https://www.ssa.gov/oact/babynames/state/namesbystate.zip\"\n",
    "local_filename = \"babynamesbystate.zip\"\n",
    "if not os.path.exists(local_filename): # if the data exists don't download again\n",
    "    with urllib.request.urlopen(data_url) as resp, open(local_filename, 'wb') as f:\n",
    "        f.write(resp.read())\n",
    "\n",
    "zf = zipfile.ZipFile(local_filename, 'r')\n",
    "\n",
    "ca_name = 'CA.TXT'\n",
    "field_names = ['State', 'Sex', 'Year', 'Name', 'Count']\n",
    "with zf.open(ca_name) as fh:\n",
    "    babynames = pd.read_csv(fh, header=None, names=field_names)"
   ]
  },
  {
   "cell_type": "markdown",
   "id": "625775be",
   "metadata": {},
   "source": [
    "## Task 1\n",
    "\n",
    "There's over 20,000 unique names in this dataset. However, some have been used for longer periods of time than others. Create a Pandas DataFrame where the index is the name, and there are two columns: one corresponding to the first year in which that name appeared in the dataset, and the other corresponding to the last year in which it appeared. Add a third column corresponding to the longevity of the name (how many years it's been used), and arrange the table by decreasing longevity, and display only the first 10 names."
   ]
  },
  {
   "cell_type": "code",
   "execution_count": 5,
   "id": "7baa5721",
   "metadata": {},
   "outputs": [
    {
     "data": {
      "text/html": [
       "<div>\n",
       "<style scoped>\n",
       "    .dataframe tbody tr th:only-of-type {\n",
       "        vertical-align: middle;\n",
       "    }\n",
       "\n",
       "    .dataframe tbody tr th {\n",
       "        vertical-align: top;\n",
       "    }\n",
       "\n",
       "    .dataframe thead th {\n",
       "        text-align: right;\n",
       "    }\n",
       "</style>\n",
       "<table border=\"1\" class=\"dataframe\">\n",
       "  <thead>\n",
       "    <tr style=\"text-align: right;\">\n",
       "      <th></th>\n",
       "      <th>first_year</th>\n",
       "      <th>last_year</th>\n",
       "      <th>longevity_name</th>\n",
       "    </tr>\n",
       "    <tr>\n",
       "      <th>Name</th>\n",
       "      <th></th>\n",
       "      <th></th>\n",
       "      <th></th>\n",
       "    </tr>\n",
       "  </thead>\n",
       "  <tbody>\n",
       "    <tr>\n",
       "      <th>Lydia</th>\n",
       "      <td>1910</td>\n",
       "      <td>2021</td>\n",
       "      <td>112</td>\n",
       "    </tr>\n",
       "    <tr>\n",
       "      <th>Genevieve</th>\n",
       "      <td>1910</td>\n",
       "      <td>2021</td>\n",
       "      <td>112</td>\n",
       "    </tr>\n",
       "    <tr>\n",
       "      <th>Cecelia</th>\n",
       "      <td>1910</td>\n",
       "      <td>2021</td>\n",
       "      <td>112</td>\n",
       "    </tr>\n",
       "    <tr>\n",
       "      <th>Lucy</th>\n",
       "      <td>1910</td>\n",
       "      <td>2021</td>\n",
       "      <td>112</td>\n",
       "    </tr>\n",
       "    <tr>\n",
       "      <th>Sam</th>\n",
       "      <td>1910</td>\n",
       "      <td>2021</td>\n",
       "      <td>112</td>\n",
       "    </tr>\n",
       "    <tr>\n",
       "      <th>Teresa</th>\n",
       "      <td>1910</td>\n",
       "      <td>2021</td>\n",
       "      <td>112</td>\n",
       "    </tr>\n",
       "    <tr>\n",
       "      <th>Sally</th>\n",
       "      <td>1910</td>\n",
       "      <td>2021</td>\n",
       "      <td>112</td>\n",
       "    </tr>\n",
       "    <tr>\n",
       "      <th>Catherine</th>\n",
       "      <td>1910</td>\n",
       "      <td>2021</td>\n",
       "      <td>112</td>\n",
       "    </tr>\n",
       "    <tr>\n",
       "      <th>Caroline</th>\n",
       "      <td>1910</td>\n",
       "      <td>2021</td>\n",
       "      <td>112</td>\n",
       "    </tr>\n",
       "    <tr>\n",
       "      <th>Nick</th>\n",
       "      <td>1910</td>\n",
       "      <td>2021</td>\n",
       "      <td>112</td>\n",
       "    </tr>\n",
       "  </tbody>\n",
       "</table>\n",
       "</div>"
      ],
      "text/plain": [
       "           first_year  last_year  longevity_name\n",
       "Name                                            \n",
       "Lydia            1910       2021             112\n",
       "Genevieve        1910       2021             112\n",
       "Cecelia          1910       2021             112\n",
       "Lucy             1910       2021             112\n",
       "Sam              1910       2021             112\n",
       "Teresa           1910       2021             112\n",
       "Sally            1910       2021             112\n",
       "Catherine        1910       2021             112\n",
       "Caroline         1910       2021             112\n",
       "Nick             1910       2021             112"
      ]
     },
     "execution_count": 5,
     "metadata": {},
     "output_type": "execute_result"
    }
   ],
   "source": [
    "# insert solution\n",
    "first_year = babynames.groupby(['Name'])['Year'].min()\n",
    "last_year = babynames.groupby(['Name'])['Year'].max()\n",
    "longevity_name = babynames.groupby(['Name'])['Year'].unique().apply(lambda x: len(x))\n",
    "# make a table including above three columns\n",
    "longevity = pd.DataFrame({'first_year': first_year, 'last_year': last_year, 'longevity_name': longevity_name})\n",
    "longevity.sort_values(by='longevity_name', ascending=False).head(10)"
   ]
  },
  {
   "cell_type": "markdown",
   "id": "c04bed55",
   "metadata": {},
   "source": [
    "## Task 2"
   ]
  },
  {
   "cell_type": "markdown",
   "id": "5952016a",
   "metadata": {},
   "source": [
    "Some think that baby names are getting longer, on average, as time wears on. We're not sure if that's true, but let's query the data to check this out. Write code to return a Pandas Series whose index is the year (from 1910 to 2021), and whose values are the average name length **among all babies in the dataset for that year**. *(More concretely, for each year, we are asking for the sum of the name lengths of every individual baby included in the dataset, divided by the number of babies included in that year.)*\n",
    "\n",
    "Print out the first 10 years and the last 10 years and see if you notice any significant differences."
   ]
  },
  {
   "cell_type": "code",
   "execution_count": 10,
   "id": "792144ef",
   "metadata": {},
   "outputs": [
    {
     "name": "stdout",
     "output_type": "stream",
     "text": [
      "          mean\n",
      "Year          \n",
      "1991  6.097318\n",
      "1997  6.092251\n",
      "1990  6.089733\n",
      "1993  6.083294\n",
      "1994  6.082359\n",
      "1989  6.081217\n",
      "1995  6.080913\n",
      "1992  6.079277\n",
      "1996  6.069417\n",
      "1988  6.067446\n",
      "          mean\n",
      "Year          \n",
      "1916  5.801843\n",
      "1940  5.798846\n",
      "2021  5.797046\n",
      "1941  5.794302\n",
      "1915  5.790920\n",
      "1910  5.768595\n",
      "1913  5.761827\n",
      "1914  5.760563\n",
      "1912  5.754480\n",
      "1911  5.720102\n"
     ]
    }
   ],
   "source": [
    "# insert solution\n",
    "babynames['Name_length'] = babynames['Name'].apply(len)\n",
    "Name_mean_length = babynames.groupby(['Year'])['Name_length'].agg(['mean'])\n",
    "first10=Name_mean_length.sort_values(by='mean', ascending=False).head(10)\n",
    "last10=Name_mean_length.sort_values(by='mean', ascending=False).tail(10)\n",
    "print(first10)\n",
    "print(last10)"
   ]
  },
  {
   "cell_type": "markdown",
   "id": "28914e01",
   "metadata": {},
   "source": [
    "## Task 3\n",
    "\n",
    "Of the unique names given in different years, what proportion of them start with a vowel? Write Pandas code to return a Pandas Series with the index as the year and the value as the proportion of different names given that year that start with a vowel.\n",
    "\n",
    "*Hint: the str.startswith() method for a Pandas series may be useful to you. You may also find it useful to define a function to plug into to the agg method for groupby objects, as in lecture.*"
   ]
  },
  {
   "cell_type": "code",
   "execution_count": 12,
   "id": "f43f59e6",
   "metadata": {},
   "outputs": [
    {
     "data": {
      "text/plain": [
       "Year\n",
       "1910    0.225895\n",
       "1911    0.239186\n",
       "1912    0.236559\n",
       "1913    0.230016\n",
       "1914    0.229577\n",
       "          ...   \n",
       "2017    0.255640\n",
       "2018    0.251298\n",
       "2019    0.255907\n",
       "2020    0.256907\n",
       "2021    0.259578\n",
       "Name: Start_with_vowel, Length: 112, dtype: float64"
      ]
     },
     "execution_count": 12,
     "metadata": {},
     "output_type": "execute_result"
    }
   ],
   "source": [
    "# insert solution\n",
    "babynames['Start_with_vowel'] = babynames['Name'].str.startswith(('A', 'E', 'I', 'O', 'U'))\n",
    "babynames.groupby(['Year'])['Start_with_vowel'].agg(lambda x: sum(x)/len(x))"
   ]
  },
  {
   "cell_type": "markdown",
   "id": "8e39fcee",
   "metadata": {},
   "source": [
    "## Task 4\n",
    "\n",
    "Are names becoming more unique over time? Return a Pandas Series whose index is the Year and whose values are the number of names given that year whose count is less than 15. Print the first 10 and last 10 elements of the series."
   ]
  },
  {
   "cell_type": "code",
   "execution_count": 17,
   "id": "b21138fb",
   "metadata": {},
   "outputs": [
    {
     "name": "stdout",
     "output_type": "stream",
     "text": [
      "Year\n",
      "1910    205\n",
      "1911    227\n",
      "1912    308\n",
      "1913    323\n",
      "1914    384\n",
      "1915    445\n",
      "1916    469\n",
      "1917    475\n",
      "1918    513\n",
      "1919    514\n",
      "Name: Count, dtype: int64\n",
      "Year\n",
      "2012    3978\n",
      "2013    3879\n",
      "2014    3892\n",
      "2015    3832\n",
      "2016    3717\n",
      "2017    3678\n",
      "2018    3571\n",
      "2019    3531\n",
      "2020    3485\n",
      "2021    3586\n",
      "Name: Count, dtype: int64\n"
     ]
    }
   ],
   "source": [
    "## insert solution\n",
    "# Are names becoming more unique over time? Return a Pandas Series whose index is the Year and whose values are the number of names given that year whose count is less than 15. Print the first 10 and last 10 elements of the series.\n",
    "babynames_count = babynames[babynames['Count'] < 15].groupby(['Year'])['Count'].count()\n",
    "print(babynames_count.head(10))\n",
    "print(babynames_count.tail(10))\n",
    "\n"
   ]
  },
  {
   "cell_type": "code",
   "execution_count": 22,
   "id": "6d77bc81",
   "metadata": {},
   "outputs": [
    {
     "data": {
      "text/plain": [
       "Year\n",
       "1910    -1\n",
       "1911    -1\n",
       "1912    -1\n",
       "1913    -1\n",
       "1914    -5\n",
       "        ..\n",
       "2017   -55\n",
       "2018   -53\n",
       "2019   -57\n",
       "2020   -58\n",
       "2021   -59\n",
       "Name: Name, Length: 112, dtype: int64"
      ]
     },
     "execution_count": 22,
     "metadata": {},
     "output_type": "execute_result"
    }
   ],
   "source": []
  },
  {
   "cell_type": "markdown",
   "id": "9ef900e0",
   "metadata": {},
   "source": [
    "## Task 5\n",
    "\n"
   ]
  },
  {
   "cell_type": "markdown",
   "id": "7d007718",
   "metadata": {},
   "source": [
    "Among names that were very popular (let's say, have a count greater than 1000), how many different names are there across sex and year? Write Pandas code that returns a Pandas DataFrame, whose columns correspond to sex and whose row indices correspond to year. Each entry should be the number of unique, \"popular\" names for that year for that sex (given our definition of popular from above).\n",
    "\n",
    "If there's a NaN value (missing value) in the table, why do you think it's there? What do you think is a reasonable value to impute into these missing values? Fill in all missing values with the value your group finds most appropriate (look for the `fillna()` method for pandas dataframes online for info on how to do this)"
   ]
  },
  {
   "cell_type": "code",
   "execution_count": 24,
   "id": "6ad8d79b",
   "metadata": {},
   "outputs": [
    {
     "data": {
      "text/html": [
       "<div>\n",
       "<style scoped>\n",
       "    .dataframe tbody tr th:only-of-type {\n",
       "        vertical-align: middle;\n",
       "    }\n",
       "\n",
       "    .dataframe tbody tr th {\n",
       "        vertical-align: top;\n",
       "    }\n",
       "\n",
       "    .dataframe thead th {\n",
       "        text-align: right;\n",
       "    }\n",
       "</style>\n",
       "<table border=\"1\" class=\"dataframe\">\n",
       "  <thead>\n",
       "    <tr style=\"text-align: right;\">\n",
       "      <th>Sex</th>\n",
       "      <th>F</th>\n",
       "      <th>M</th>\n",
       "    </tr>\n",
       "    <tr>\n",
       "      <th>Year</th>\n",
       "      <th></th>\n",
       "      <th></th>\n",
       "    </tr>\n",
       "  </thead>\n",
       "  <tbody>\n",
       "    <tr>\n",
       "      <th>1910</th>\n",
       "      <td>0</td>\n",
       "      <td>0</td>\n",
       "    </tr>\n",
       "    <tr>\n",
       "      <th>1911</th>\n",
       "      <td>0</td>\n",
       "      <td>0</td>\n",
       "    </tr>\n",
       "    <tr>\n",
       "      <th>1912</th>\n",
       "      <td>0</td>\n",
       "      <td>0</td>\n",
       "    </tr>\n",
       "    <tr>\n",
       "      <th>1913</th>\n",
       "      <td>0</td>\n",
       "      <td>0</td>\n",
       "    </tr>\n",
       "    <tr>\n",
       "      <th>1914</th>\n",
       "      <td>0</td>\n",
       "      <td>0</td>\n",
       "    </tr>\n",
       "    <tr>\n",
       "      <th>...</th>\n",
       "      <td>...</td>\n",
       "      <td>...</td>\n",
       "    </tr>\n",
       "    <tr>\n",
       "      <th>2017</th>\n",
       "      <td>19</td>\n",
       "      <td>41</td>\n",
       "    </tr>\n",
       "    <tr>\n",
       "      <th>2018</th>\n",
       "      <td>18</td>\n",
       "      <td>36</td>\n",
       "    </tr>\n",
       "    <tr>\n",
       "      <th>2019</th>\n",
       "      <td>18</td>\n",
       "      <td>37</td>\n",
       "    </tr>\n",
       "    <tr>\n",
       "      <th>2020</th>\n",
       "      <td>17</td>\n",
       "      <td>35</td>\n",
       "    </tr>\n",
       "    <tr>\n",
       "      <th>2021</th>\n",
       "      <td>14</td>\n",
       "      <td>31</td>\n",
       "    </tr>\n",
       "  </tbody>\n",
       "</table>\n",
       "<p>112 rows × 2 columns</p>\n",
       "</div>"
      ],
      "text/plain": [
       "Sex    F   M\n",
       "Year        \n",
       "1910   0   0\n",
       "1911   0   0\n",
       "1912   0   0\n",
       "1913   0   0\n",
       "1914   0   0\n",
       "...   ..  ..\n",
       "2017  19  41\n",
       "2018  18  36\n",
       "2019  18  37\n",
       "2020  17  35\n",
       "2021  14  31\n",
       "\n",
       "[112 rows x 2 columns]"
      ]
     },
     "execution_count": 24,
     "metadata": {},
     "output_type": "execute_result"
    }
   ],
   "source": [
    "## insert solution\n",
    "babynames_pivot  = babynames.pivot_table(\n",
    "    index='Year',\n",
    "    columns='Sex',\n",
    "    values='Count',\n",
    "    aggfunc= lambda x : sum(x > 1000),\n",
    ")\n",
    "babynames_pivot"
   ]
  },
  {
   "cell_type": "code",
   "execution_count": null,
   "id": "3632b716",
   "metadata": {},
   "outputs": [],
   "source": []
  }
 ],
 "metadata": {
  "kernelspec": {
   "display_name": "Python 3 (ipykernel)",
   "language": "python",
   "name": "python3"
  },
  "language_info": {
   "codemirror_mode": {
    "name": "ipython",
    "version": 3
   },
   "file_extension": ".py",
   "mimetype": "text/x-python",
   "name": "python",
   "nbconvert_exporter": "python",
   "pygments_lexer": "ipython3",
   "version": "3.6.13"
  },
  "vscode": {
   "interpreter": {
    "hash": "fa21447ba3ca0ac29cfe033d1e623e3db9da50a3031a1ad33c9e1c367d9ba6e8"
   }
  }
 },
 "nbformat": 4,
 "nbformat_minor": 5
}
