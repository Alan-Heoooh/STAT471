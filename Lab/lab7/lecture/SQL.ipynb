{
 "cells": [
  {
   "cell_type": "markdown",
   "id": "851dbb4e-77e5-456e-903f-d8df3aea6707",
   "metadata": {},
   "source": [
    "## Lab 6: SQL\n",
    "\n",
    "\n",
    "### Starting Up SQL"
   ]
  },
  {
   "cell_type": "markdown",
   "id": "863c24e4-6422-47c8-a194-575b7b7488ae",
   "metadata": {},
   "source": [
    "Before we look at SQL syntax in detail, let's first get ourselves set up to run SQL queries in Jupyter."
   ]
  },
  {
   "cell_type": "markdown",
   "id": "d4c43259-2e11-4cb3-b2ed-04f2a4148d60",
   "metadata": {},
   "source": [
    "#### Approach #1: SQL Magic"
   ]
  },
  {
   "cell_type": "markdown",
   "id": "f699330c-aee9-4036-bc7d-0fe329410f7b",
   "metadata": {},
   "source": [
    "**1. Load the `sql` Module.** \n",
    "\n",
    "Load `%%sql` cell magic."
   ]
  },
  {
   "cell_type": "code",
   "execution_count": 2,
   "id": "d809a9ab-fe04-4e65-99b9-bd1e0c6a0daf",
   "metadata": {},
   "outputs": [
    {
     "name": "stdout",
     "output_type": "stream",
     "text": [
      "The sql extension is already loaded. To reload it, use:\n",
      "  %reload_ext sql\n"
     ]
    }
   ],
   "source": [
    "%load_ext sql"
   ]
  },
  {
   "cell_type": "markdown",
   "id": "b155e056-d307-4f69-8083-dee31155224e",
   "metadata": {},
   "source": [
    "**2. Connect to a database.**  \n",
    "\n",
    "Here, we connect to the SQLite database `basic_examples.db`."
   ]
  },
  {
   "cell_type": "code",
   "execution_count": 3,
   "id": "480982be-9b63-44f4-8ca2-e3b29cd04877",
   "metadata": {},
   "outputs": [],
   "source": [
    "%%sql\n",
    "sqlite:///data/basic_examples.db"
   ]
  },
  {
   "cell_type": "markdown",
   "id": "1b9a53ac-58d6-439f-a33e-926e15144e97",
   "metadata": {},
   "source": [
    "<br/>\n",
    "\n",
    "**3. Run a simple SQL query.** \n",
    "\n",
    "Note the `%%sql` lets Jupyter parse the rest of the lines as a SQL command."
   ]
  },
  {
   "cell_type": "code",
   "execution_count": 4,
   "id": "8c172229-1ae6-408a-80b6-ef7985fbe386",
   "metadata": {},
   "outputs": [
    {
     "name": "stdout",
     "output_type": "stream",
     "text": [
      " * sqlite:///data/basic_examples.db\n",
      "Done.\n"
     ]
    },
    {
     "data": {
      "text/html": [
       "<table>\n",
       "    <tr>\n",
       "        <th>name</th>\n",
       "        <th>year</th>\n",
       "        <th>cute</th>\n",
       "    </tr>\n",
       "    <tr>\n",
       "        <td>hiccup</td>\n",
       "        <td>2010</td>\n",
       "        <td>10</td>\n",
       "    </tr>\n",
       "    <tr>\n",
       "        <td>drogon</td>\n",
       "        <td>2011</td>\n",
       "        <td>-100</td>\n",
       "    </tr>\n",
       "    <tr>\n",
       "        <td>dragon 2</td>\n",
       "        <td>2019</td>\n",
       "        <td>0</td>\n",
       "    </tr>\n",
       "    <tr>\n",
       "        <td>puff</td>\n",
       "        <td>2010</td>\n",
       "        <td>100</td>\n",
       "    </tr>\n",
       "    <tr>\n",
       "        <td>smaug</td>\n",
       "        <td>2011</td>\n",
       "        <td>None</td>\n",
       "    </tr>\n",
       "</table>"
      ],
      "text/plain": [
       "[('hiccup', 2010, 10),\n",
       " ('drogon', 2011, -100),\n",
       " ('dragon 2', 2019, 0),\n",
       " ('puff', 2010, 100),\n",
       " ('smaug', 2011, None)]"
      ]
     },
     "execution_count": 4,
     "metadata": {},
     "output_type": "execute_result"
    }
   ],
   "source": [
    "%%sql\n",
    "SELECT * FROM Dragon;"
   ]
  },
  {
   "cell_type": "markdown",
   "id": "3e2fbecc-ccf6-4807-b810-7de159a111a1",
   "metadata": {},
   "source": [
    "**Simple query, this time on two different lines.**"
   ]
  },
  {
   "cell_type": "code",
   "execution_count": 5,
   "id": "4cbb0a40-63e7-46aa-a65f-a212e1a7858a",
   "metadata": {},
   "outputs": [
    {
     "name": "stdout",
     "output_type": "stream",
     "text": [
      " * sqlite:///data/basic_examples.db\n",
      "Done.\n"
     ]
    },
    {
     "data": {
      "text/html": [
       "<table>\n",
       "    <tr>\n",
       "        <th>name</th>\n",
       "        <th>year</th>\n",
       "        <th>cute</th>\n",
       "    </tr>\n",
       "    <tr>\n",
       "        <td>hiccup</td>\n",
       "        <td>2010</td>\n",
       "        <td>10</td>\n",
       "    </tr>\n",
       "    <tr>\n",
       "        <td>drogon</td>\n",
       "        <td>2011</td>\n",
       "        <td>-100</td>\n",
       "    </tr>\n",
       "    <tr>\n",
       "        <td>dragon 2</td>\n",
       "        <td>2019</td>\n",
       "        <td>0</td>\n",
       "    </tr>\n",
       "    <tr>\n",
       "        <td>puff</td>\n",
       "        <td>2010</td>\n",
       "        <td>100</td>\n",
       "    </tr>\n",
       "    <tr>\n",
       "        <td>smaug</td>\n",
       "        <td>2011</td>\n",
       "        <td>None</td>\n",
       "    </tr>\n",
       "</table>"
      ],
      "text/plain": [
       "[('hiccup', 2010, 10),\n",
       " ('drogon', 2011, -100),\n",
       " ('dragon 2', 2019, 0),\n",
       " ('puff', 2010, 100),\n",
       " ('smaug', 2011, None)]"
      ]
     },
     "execution_count": 5,
     "metadata": {},
     "output_type": "execute_result"
    }
   ],
   "source": [
    "%%sql\n",
    "SELECT *\n",
    "FROM Dragon;"
   ]
  },
  {
   "cell_type": "markdown",
   "id": "4d7ac386-94a9-4d3e-9b65-122d5213314a",
   "metadata": {
    "tags": []
   },
   "source": [
    "#### Approach #2: `pd.read_sql`\n",
    "\n",
    "It turns out that `pandas` has a special-purpose function to parse SQL queries. We can pass in a SQL query as a string to return a `pandas` DataFrame. To achieve the same result as we did using cell magic above, we can do the following."
   ]
  },
  {
   "cell_type": "markdown",
   "id": "54b68e95-db18-4bc5-83aa-7631f53520f2",
   "metadata": {},
   "source": [
    "**1. Connect to a database**"
   ]
  },
  {
   "cell_type": "code",
   "execution_count": 6,
   "id": "3a8939f0-cbfc-4891-b575-4730df1d8aa5",
   "metadata": {},
   "outputs": [],
   "source": [
    "import sqlalchemy \n",
    "import pandas as pd\n",
    "\n",
    "engine = sqlalchemy.create_engine(\"sqlite:///data/basic_examples.db\")\n",
    "connection = engine.connect()"
   ]
  },
  {
   "cell_type": "markdown",
   "id": "170c65bd-6971-45fe-a719-46d4f7b67ddd",
   "metadata": {},
   "source": [
    "**2. Run a simple SQL query**"
   ]
  },
  {
   "cell_type": "code",
   "execution_count": 7,
   "id": "f3c78d9d-a192-476d-a1c8-3a6262f940db",
   "metadata": {},
   "outputs": [
    {
     "data": {
      "text/html": [
       "<div>\n",
       "<style scoped>\n",
       "    .dataframe tbody tr th:only-of-type {\n",
       "        vertical-align: middle;\n",
       "    }\n",
       "\n",
       "    .dataframe tbody tr th {\n",
       "        vertical-align: top;\n",
       "    }\n",
       "\n",
       "    .dataframe thead th {\n",
       "        text-align: right;\n",
       "    }\n",
       "</style>\n",
       "<table border=\"1\" class=\"dataframe\">\n",
       "  <thead>\n",
       "    <tr style=\"text-align: right;\">\n",
       "      <th></th>\n",
       "      <th>name</th>\n",
       "      <th>year</th>\n",
       "      <th>cute</th>\n",
       "    </tr>\n",
       "  </thead>\n",
       "  <tbody>\n",
       "    <tr>\n",
       "      <th>0</th>\n",
       "      <td>hiccup</td>\n",
       "      <td>2010</td>\n",
       "      <td>10.0</td>\n",
       "    </tr>\n",
       "    <tr>\n",
       "      <th>1</th>\n",
       "      <td>drogon</td>\n",
       "      <td>2011</td>\n",
       "      <td>-100.0</td>\n",
       "    </tr>\n",
       "    <tr>\n",
       "      <th>2</th>\n",
       "      <td>dragon 2</td>\n",
       "      <td>2019</td>\n",
       "      <td>0.0</td>\n",
       "    </tr>\n",
       "    <tr>\n",
       "      <th>3</th>\n",
       "      <td>puff</td>\n",
       "      <td>2010</td>\n",
       "      <td>100.0</td>\n",
       "    </tr>\n",
       "    <tr>\n",
       "      <th>4</th>\n",
       "      <td>smaug</td>\n",
       "      <td>2011</td>\n",
       "      <td>NaN</td>\n",
       "    </tr>\n",
       "  </tbody>\n",
       "</table>\n",
       "</div>"
      ],
      "text/plain": [
       "       name  year   cute\n",
       "0    hiccup  2010   10.0\n",
       "1    drogon  2011 -100.0\n",
       "2  dragon 2  2019    0.0\n",
       "3      puff  2010  100.0\n",
       "4     smaug  2011    NaN"
      ]
     },
     "execution_count": 7,
     "metadata": {},
     "output_type": "execute_result"
    }
   ],
   "source": [
    "query = \"\"\"\n",
    "SELECT * \n",
    "FROM Dragon;\n",
    "\"\"\"\n",
    "\n",
    "pd.read_sql(query, engine)"
   ]
  },
  {
   "cell_type": "markdown",
   "id": "fc681cfe-8de9-4af0-87dd-46942ea9f1c8",
   "metadata": {},
   "source": [
    "## Tables and Schema\n",
    "\n",
    "A **database** contains a collection of SQL **tables**. Let's connect to our \"toy\" database `basic_examples.db` and explore the tables it stores."
   ]
  },
  {
   "cell_type": "code",
   "execution_count": 8,
   "id": "2e6b0837",
   "metadata": {},
   "outputs": [],
   "source": [
    "%%sql\n",
    "sqlite:///data/basic_examples.db"
   ]
  },
  {
   "cell_type": "code",
   "execution_count": 9,
   "id": "f32da741",
   "metadata": {
    "tags": []
   },
   "outputs": [
    {
     "name": "stdout",
     "output_type": "stream",
     "text": [
      " * sqlite:///data/basic_examples.db\n",
      "Done.\n"
     ]
    },
    {
     "data": {
      "text/html": [
       "<table>\n",
       "    <tr>\n",
       "        <th>type</th>\n",
       "        <th>name</th>\n",
       "        <th>tbl_name</th>\n",
       "        <th>rootpage</th>\n",
       "        <th>sql</th>\n",
       "    </tr>\n",
       "    <tr>\n",
       "        <td>table</td>\n",
       "        <td>sqlite_sequence</td>\n",
       "        <td>sqlite_sequence</td>\n",
       "        <td>7</td>\n",
       "        <td>CREATE TABLE sqlite_sequence(name,seq)</td>\n",
       "    </tr>\n",
       "    <tr>\n",
       "        <td>table</td>\n",
       "        <td>Dragon</td>\n",
       "        <td>Dragon</td>\n",
       "        <td>2</td>\n",
       "        <td>CREATE TABLE Dragon (<br>    name TEXT PRIMARY KEY,<br>    year INTEGER CHECK (year &gt;= 2000),<br>    cute INTEGER<br>)</td>\n",
       "    </tr>\n",
       "    <tr>\n",
       "        <td>table</td>\n",
       "        <td>Dish</td>\n",
       "        <td>Dish</td>\n",
       "        <td>4</td>\n",
       "        <td>CREATE TABLE Dish (<br>    name TEXT PRIMARY KEY,<br>    type TEXT,<br>    cost INTEGER CHECK (cost &gt;= 0)<br>)</td>\n",
       "    </tr>\n",
       "    <tr>\n",
       "        <td>table</td>\n",
       "        <td>Scene</td>\n",
       "        <td>Scene</td>\n",
       "        <td>6</td>\n",
       "        <td>CREATE TABLE Scene (<br>    id INTEGER PRIMARY KEY AUTOINCREMENT,<br>    biome TEXT NOT NULL,<br>    city TEXT NOT NULL,<br>    visitors INTEGER CHECK (visitors &gt;= 0),<br>    created_at DATETIME DEFAULT (DATETIME(&#x27;now&#x27;))<br>)</td>\n",
       "    </tr>\n",
       "</table>"
      ],
      "text/plain": [
       "[('table', 'sqlite_sequence', 'sqlite_sequence', 7, 'CREATE TABLE sqlite_sequence(name,seq)'),\n",
       " ('table', 'Dragon', 'Dragon', 2, 'CREATE TABLE Dragon (\\n    name TEXT PRIMARY KEY,\\n    year INTEGER CHECK (year >= 2000),\\n    cute INTEGER\\n)'),\n",
       " ('table', 'Dish', 'Dish', 4, 'CREATE TABLE Dish (\\n    name TEXT PRIMARY KEY,\\n    type TEXT,\\n    cost INTEGER CHECK (cost >= 0)\\n)'),\n",
       " ('table', 'Scene', 'Scene', 6, \"CREATE TABLE Scene (\\n    id INTEGER PRIMARY KEY AUTOINCREMENT,\\n    biome TEXT NOT NULL,\\n    city TEXT NOT NULL,\\n    visitors INTEGER CHECK (visitors >= 0),\\n    created_at DATETIME DEFAULT (DATETIME('now'))\\n)\")]"
      ]
     },
     "execution_count": 9,
     "metadata": {},
     "output_type": "execute_result"
    }
   ],
   "source": [
    "%%sql\n",
    "SELECT * FROM sqlite_master WHERE type='table'"
   ]
  },
  {
   "cell_type": "markdown",
   "id": "74946c12-47af-42a2-9de5-b20b41eb0160",
   "metadata": {},
   "source": [
    "## Basic Queries\n",
    "\n",
    "Every SQL query *must* contain a `SELECT` and `FROM` clause.\n",
    "\n",
    "* `SELECT`: specify the column(s) to return in the output\n",
    "* `FROM`: specify the database table from which to extract data"
   ]
  },
  {
   "cell_type": "code",
   "execution_count": 10,
   "id": "8b10641e",
   "metadata": {},
   "outputs": [
    {
     "name": "stdout",
     "output_type": "stream",
     "text": [
      " * sqlite:///data/basic_examples.db\n",
      "Done.\n"
     ]
    },
    {
     "data": {
      "text/html": [
       "<table>\n",
       "    <tr>\n",
       "        <th>name</th>\n",
       "        <th>year</th>\n",
       "        <th>cute</th>\n",
       "    </tr>\n",
       "    <tr>\n",
       "        <td>hiccup</td>\n",
       "        <td>2010</td>\n",
       "        <td>10</td>\n",
       "    </tr>\n",
       "    <tr>\n",
       "        <td>drogon</td>\n",
       "        <td>2011</td>\n",
       "        <td>-100</td>\n",
       "    </tr>\n",
       "    <tr>\n",
       "        <td>dragon 2</td>\n",
       "        <td>2019</td>\n",
       "        <td>0</td>\n",
       "    </tr>\n",
       "    <tr>\n",
       "        <td>puff</td>\n",
       "        <td>2010</td>\n",
       "        <td>100</td>\n",
       "    </tr>\n",
       "    <tr>\n",
       "        <td>smaug</td>\n",
       "        <td>2011</td>\n",
       "        <td>None</td>\n",
       "    </tr>\n",
       "</table>"
      ],
      "text/plain": [
       "[('hiccup', 2010, 10),\n",
       " ('drogon', 2011, -100),\n",
       " ('dragon 2', 2019, 0),\n",
       " ('puff', 2010, 100),\n",
       " ('smaug', 2011, None)]"
      ]
     },
     "execution_count": 10,
     "metadata": {},
     "output_type": "execute_result"
    }
   ],
   "source": [
    "%%sql\n",
    "SELECT * FROM Dragon;"
   ]
  },
  {
   "cell_type": "code",
   "execution_count": 11,
   "id": "0db25a51",
   "metadata": {},
   "outputs": [
    {
     "name": "stdout",
     "output_type": "stream",
     "text": [
      " * sqlite:///data/basic_examples.db\n",
      "Done.\n"
     ]
    },
    {
     "data": {
      "text/html": [
       "<table>\n",
       "    <tr>\n",
       "        <th>cute</th>\n",
       "        <th>year</th>\n",
       "    </tr>\n",
       "    <tr>\n",
       "        <td>10</td>\n",
       "        <td>2010</td>\n",
       "    </tr>\n",
       "    <tr>\n",
       "        <td>-100</td>\n",
       "        <td>2011</td>\n",
       "    </tr>\n",
       "    <tr>\n",
       "        <td>0</td>\n",
       "        <td>2019</td>\n",
       "    </tr>\n",
       "    <tr>\n",
       "        <td>100</td>\n",
       "        <td>2010</td>\n",
       "    </tr>\n",
       "    <tr>\n",
       "        <td>None</td>\n",
       "        <td>2011</td>\n",
       "    </tr>\n",
       "</table>"
      ],
      "text/plain": [
       "[(10, 2010), (-100, 2011), (0, 2019), (100, 2010), (None, 2011)]"
      ]
     },
     "execution_count": 11,
     "metadata": {},
     "output_type": "execute_result"
    }
   ],
   "source": [
    "%%sql\n",
    "SELECT cute, year FROM Dragon;"
   ]
  },
  {
   "cell_type": "markdown",
   "id": "9995de9b-c827-48b6-84bc-3b169cc5f549",
   "metadata": {},
   "source": [
    "**Aliasing** with `AS`"
   ]
  },
  {
   "cell_type": "code",
   "execution_count": 12,
   "id": "75596c85-eb17-4d19-b065-984524dec1d8",
   "metadata": {},
   "outputs": [
    {
     "name": "stdout",
     "output_type": "stream",
     "text": [
      " * sqlite:///data/basic_examples.db\n",
      "Done.\n"
     ]
    },
    {
     "data": {
      "text/html": [
       "<table>\n",
       "    <tr>\n",
       "        <th>cuteness</th>\n",
       "        <th>birth</th>\n",
       "    </tr>\n",
       "    <tr>\n",
       "        <td>10</td>\n",
       "        <td>2010</td>\n",
       "    </tr>\n",
       "    <tr>\n",
       "        <td>-100</td>\n",
       "        <td>2011</td>\n",
       "    </tr>\n",
       "    <tr>\n",
       "        <td>0</td>\n",
       "        <td>2019</td>\n",
       "    </tr>\n",
       "    <tr>\n",
       "        <td>100</td>\n",
       "        <td>2010</td>\n",
       "    </tr>\n",
       "    <tr>\n",
       "        <td>None</td>\n",
       "        <td>2011</td>\n",
       "    </tr>\n",
       "</table>"
      ],
      "text/plain": [
       "[(10, 2010), (-100, 2011), (0, 2019), (100, 2010), (None, 2011)]"
      ]
     },
     "execution_count": 12,
     "metadata": {},
     "output_type": "execute_result"
    }
   ],
   "source": [
    "%%sql\n",
    "SELECT cute AS cuteness,\n",
    "       year AS birth\n",
    "FROM Dragon;"
   ]
  },
  {
   "cell_type": "markdown",
   "id": "8aba7a6c-2e1b-496e-944b-a752023dbb8a",
   "metadata": {},
   "source": [
    "**Uniqueness** with `DISTINCT`"
   ]
  },
  {
   "cell_type": "code",
   "execution_count": 13,
   "id": "734189f7-de89-42ca-84e3-306cb564f34e",
   "metadata": {},
   "outputs": [
    {
     "name": "stdout",
     "output_type": "stream",
     "text": [
      " * sqlite:///data/basic_examples.db\n",
      "Done.\n"
     ]
    },
    {
     "data": {
      "text/html": [
       "<table>\n",
       "    <tr>\n",
       "        <th>year</th>\n",
       "    </tr>\n",
       "    <tr>\n",
       "        <td>2010</td>\n",
       "    </tr>\n",
       "    <tr>\n",
       "        <td>2011</td>\n",
       "    </tr>\n",
       "    <tr>\n",
       "        <td>2019</td>\n",
       "    </tr>\n",
       "</table>"
      ],
      "text/plain": [
       "[(2010,), (2011,), (2019,)]"
      ]
     },
     "execution_count": 13,
     "metadata": {},
     "output_type": "execute_result"
    }
   ],
   "source": [
    "%%sql\n",
    "SELECT DISTINCT year\n",
    "FROM Dragon;"
   ]
  },
  {
   "cell_type": "markdown",
   "id": "fca8c73c-ca03-4f65-9dfe-72e2368bd795",
   "metadata": {},
   "source": [
    "**Filtering** with `WHERE`"
   ]
  },
  {
   "cell_type": "code",
   "execution_count": 14,
   "id": "2a28705b-7d0d-4252-b544-346194d2eea0",
   "metadata": {},
   "outputs": [
    {
     "name": "stdout",
     "output_type": "stream",
     "text": [
      " * sqlite:///data/basic_examples.db\n",
      "Done.\n"
     ]
    },
    {
     "data": {
      "text/html": [
       "<table>\n",
       "    <tr>\n",
       "        <th>name</th>\n",
       "        <th>year</th>\n",
       "    </tr>\n",
       "    <tr>\n",
       "        <td>hiccup</td>\n",
       "        <td>2010</td>\n",
       "    </tr>\n",
       "    <tr>\n",
       "        <td>puff</td>\n",
       "        <td>2010</td>\n",
       "    </tr>\n",
       "</table>"
      ],
      "text/plain": [
       "[('hiccup', 2010), ('puff', 2010)]"
      ]
     },
     "execution_count": 14,
     "metadata": {},
     "output_type": "execute_result"
    }
   ],
   "source": [
    "%%sql\n",
    "SELECT name, year\n",
    "FROM Dragon\n",
    "WHERE cute > 0;"
   ]
  },
  {
   "cell_type": "code",
   "execution_count": 15,
   "id": "b8a3e2ce-9be3-41fa-8fcb-02b63095d269",
   "metadata": {},
   "outputs": [
    {
     "name": "stdout",
     "output_type": "stream",
     "text": [
      " * sqlite:///data/basic_examples.db\n",
      "Done.\n"
     ]
    },
    {
     "data": {
      "text/html": [
       "<table>\n",
       "    <tr>\n",
       "        <th>name</th>\n",
       "        <th>cute</th>\n",
       "        <th>year</th>\n",
       "    </tr>\n",
       "    <tr>\n",
       "        <td>hiccup</td>\n",
       "        <td>10</td>\n",
       "        <td>2010</td>\n",
       "    </tr>\n",
       "    <tr>\n",
       "        <td>dragon 2</td>\n",
       "        <td>0</td>\n",
       "        <td>2019</td>\n",
       "    </tr>\n",
       "    <tr>\n",
       "        <td>puff</td>\n",
       "        <td>100</td>\n",
       "        <td>2010</td>\n",
       "    </tr>\n",
       "</table>"
      ],
      "text/plain": [
       "[('hiccup', 10, 2010), ('dragon 2', 0, 2019), ('puff', 100, 2010)]"
      ]
     },
     "execution_count": 15,
     "metadata": {},
     "output_type": "execute_result"
    }
   ],
   "source": [
    "%%sql\n",
    "SELECT name, cute, year\n",
    "FROM Dragon\n",
    "WHERE cute > 0 OR year > 2013;"
   ]
  },
  {
   "cell_type": "code",
   "execution_count": 16,
   "id": "9cbbfe9a-7098-48c4-b015-c81b6ff5acb8",
   "metadata": {},
   "outputs": [
    {
     "name": "stdout",
     "output_type": "stream",
     "text": [
      " * sqlite:///data/basic_examples.db\n",
      "Done.\n"
     ]
    },
    {
     "data": {
      "text/html": [
       "<table>\n",
       "    <tr>\n",
       "        <th>name</th>\n",
       "        <th>year</th>\n",
       "    </tr>\n",
       "    <tr>\n",
       "        <td>hiccup</td>\n",
       "        <td>2010</td>\n",
       "    </tr>\n",
       "    <tr>\n",
       "        <td>puff</td>\n",
       "        <td>2010</td>\n",
       "    </tr>\n",
       "</table>"
      ],
      "text/plain": [
       "[('hiccup', 2010), ('puff', 2010)]"
      ]
     },
     "execution_count": 16,
     "metadata": {},
     "output_type": "execute_result"
    }
   ],
   "source": [
    "%%sql\n",
    "SELECT name, year\n",
    "FROM Dragon \n",
    "WHERE name IN (\"puff\", \"hiccup\");"
   ]
  },
  {
   "cell_type": "code",
   "execution_count": 17,
   "id": "03dac425-d2e2-4699-99b9-5ca9bbbc1ab0",
   "metadata": {},
   "outputs": [
    {
     "name": "stdout",
     "output_type": "stream",
     "text": [
      " * sqlite:///data/basic_examples.db\n",
      "Done.\n"
     ]
    },
    {
     "data": {
      "text/html": [
       "<table>\n",
       "    <tr>\n",
       "        <th>name</th>\n",
       "        <th>cute</th>\n",
       "    </tr>\n",
       "    <tr>\n",
       "        <td>hiccup</td>\n",
       "        <td>10</td>\n",
       "    </tr>\n",
       "    <tr>\n",
       "        <td>drogon</td>\n",
       "        <td>-100</td>\n",
       "    </tr>\n",
       "    <tr>\n",
       "        <td>dragon 2</td>\n",
       "        <td>0</td>\n",
       "    </tr>\n",
       "    <tr>\n",
       "        <td>puff</td>\n",
       "        <td>100</td>\n",
       "    </tr>\n",
       "</table>"
      ],
      "text/plain": [
       "[('hiccup', 10), ('drogon', -100), ('dragon 2', 0), ('puff', 100)]"
      ]
     },
     "execution_count": 17,
     "metadata": {},
     "output_type": "execute_result"
    }
   ],
   "source": [
    "%%sql\n",
    "SELECT name, cute\n",
    "FROM Dragon\n",
    "WHERE cute IS NOT NULL;"
   ]
  },
  {
   "cell_type": "markdown",
   "id": "fc92df7a-14b4-4379-9c68-b1326c2a6b7d",
   "metadata": {},
   "source": [
    "**Ordering** data using `ORDER BY`"
   ]
  },
  {
   "cell_type": "code",
   "execution_count": 18,
   "id": "e92fcdcb-7b45-486c-a1f7-8d6c7e25413c",
   "metadata": {},
   "outputs": [
    {
     "name": "stdout",
     "output_type": "stream",
     "text": [
      " * sqlite:///data/basic_examples.db\n",
      "Done.\n"
     ]
    },
    {
     "data": {
      "text/html": [
       "<table>\n",
       "    <tr>\n",
       "        <th>name</th>\n",
       "        <th>year</th>\n",
       "        <th>cute</th>\n",
       "    </tr>\n",
       "    <tr>\n",
       "        <td>puff</td>\n",
       "        <td>2010</td>\n",
       "        <td>100</td>\n",
       "    </tr>\n",
       "    <tr>\n",
       "        <td>hiccup</td>\n",
       "        <td>2010</td>\n",
       "        <td>10</td>\n",
       "    </tr>\n",
       "    <tr>\n",
       "        <td>dragon 2</td>\n",
       "        <td>2019</td>\n",
       "        <td>0</td>\n",
       "    </tr>\n",
       "    <tr>\n",
       "        <td>drogon</td>\n",
       "        <td>2011</td>\n",
       "        <td>-100</td>\n",
       "    </tr>\n",
       "    <tr>\n",
       "        <td>smaug</td>\n",
       "        <td>2011</td>\n",
       "        <td>None</td>\n",
       "    </tr>\n",
       "</table>"
      ],
      "text/plain": [
       "[('puff', 2010, 100),\n",
       " ('hiccup', 2010, 10),\n",
       " ('dragon 2', 2019, 0),\n",
       " ('drogon', 2011, -100),\n",
       " ('smaug', 2011, None)]"
      ]
     },
     "execution_count": 18,
     "metadata": {},
     "output_type": "execute_result"
    }
   ],
   "source": [
    "%%sql\n",
    "SELECT *\n",
    "FROM Dragon\n",
    "ORDER BY cute DESC;"
   ]
  },
  {
   "cell_type": "markdown",
   "id": "7972bc77-a058-477e-a945-828888c48147",
   "metadata": {},
   "source": [
    "**Restricting** output with `LIMIT` and `OFFSET`"
   ]
  },
  {
   "cell_type": "code",
   "execution_count": 19,
   "id": "afc34d86-ab22-4b0b-aad2-959247fe2494",
   "metadata": {},
   "outputs": [
    {
     "name": "stdout",
     "output_type": "stream",
     "text": [
      " * sqlite:///data/basic_examples.db\n",
      "Done.\n"
     ]
    },
    {
     "data": {
      "text/html": [
       "<table>\n",
       "    <tr>\n",
       "        <th>name</th>\n",
       "        <th>year</th>\n",
       "        <th>cute</th>\n",
       "    </tr>\n",
       "    <tr>\n",
       "        <td>hiccup</td>\n",
       "        <td>2010</td>\n",
       "        <td>10</td>\n",
       "    </tr>\n",
       "    <tr>\n",
       "        <td>drogon</td>\n",
       "        <td>2011</td>\n",
       "        <td>-100</td>\n",
       "    </tr>\n",
       "</table>"
      ],
      "text/plain": [
       "[('hiccup', 2010, 10), ('drogon', 2011, -100)]"
      ]
     },
     "execution_count": 19,
     "metadata": {},
     "output_type": "execute_result"
    }
   ],
   "source": [
    "%%sql\n",
    "SELECT *\n",
    "FROM Dragon\n",
    "LIMIT 2;"
   ]
  },
  {
   "cell_type": "code",
   "execution_count": 20,
   "id": "80802839-9169-4768-b2b1-49368ded674b",
   "metadata": {},
   "outputs": [
    {
     "name": "stdout",
     "output_type": "stream",
     "text": [
      " * sqlite:///data/basic_examples.db\n",
      "Done.\n"
     ]
    },
    {
     "data": {
      "text/html": [
       "<table>\n",
       "    <tr>\n",
       "        <th>name</th>\n",
       "        <th>year</th>\n",
       "        <th>cute</th>\n",
       "    </tr>\n",
       "    <tr>\n",
       "        <td>drogon</td>\n",
       "        <td>2011</td>\n",
       "        <td>-100</td>\n",
       "    </tr>\n",
       "    <tr>\n",
       "        <td>dragon 2</td>\n",
       "        <td>2019</td>\n",
       "        <td>0</td>\n",
       "    </tr>\n",
       "</table>"
      ],
      "text/plain": [
       "[('drogon', 2011, -100), ('dragon 2', 2019, 0)]"
      ]
     },
     "execution_count": 20,
     "metadata": {},
     "output_type": "execute_result"
    }
   ],
   "source": [
    "%%sql\n",
    "SELECT *\n",
    "FROM Dragon\n",
    "LIMIT 2\n",
    "OFFSET 1;"
   ]
  },
  {
   "cell_type": "markdown",
   "id": "62f0b944-eead-44e7-8c3c-35a2326cbe01",
   "metadata": {},
   "source": [
    "## Grouping Data with `GROUP BY`"
   ]
  },
  {
   "cell_type": "code",
   "execution_count": 21,
   "id": "660cd78d-7639-4875-aa3e-7a840d0d37a4",
   "metadata": {},
   "outputs": [
    {
     "name": "stdout",
     "output_type": "stream",
     "text": [
      " * sqlite:///data/basic_examples.db\n",
      "Done.\n"
     ]
    },
    {
     "data": {
      "text/html": [
       "<table>\n",
       "    <tr>\n",
       "        <th>name</th>\n",
       "        <th>type</th>\n",
       "        <th>cost</th>\n",
       "    </tr>\n",
       "    <tr>\n",
       "        <td>ravioli</td>\n",
       "        <td>entree</td>\n",
       "        <td>10</td>\n",
       "    </tr>\n",
       "    <tr>\n",
       "        <td>ramen</td>\n",
       "        <td>entree</td>\n",
       "        <td>13</td>\n",
       "    </tr>\n",
       "    <tr>\n",
       "        <td>taco</td>\n",
       "        <td>entree</td>\n",
       "        <td>7</td>\n",
       "    </tr>\n",
       "    <tr>\n",
       "        <td>edamame</td>\n",
       "        <td>appetizer</td>\n",
       "        <td>4</td>\n",
       "    </tr>\n",
       "    <tr>\n",
       "        <td>fries</td>\n",
       "        <td>appetizer</td>\n",
       "        <td>4</td>\n",
       "    </tr>\n",
       "    <tr>\n",
       "        <td>potsticker</td>\n",
       "        <td>appetizer</td>\n",
       "        <td>4</td>\n",
       "    </tr>\n",
       "    <tr>\n",
       "        <td>ice cream</td>\n",
       "        <td>dessert</td>\n",
       "        <td>5</td>\n",
       "    </tr>\n",
       "</table>"
      ],
      "text/plain": [
       "[('ravioli', 'entree', 10),\n",
       " ('ramen', 'entree', 13),\n",
       " ('taco', 'entree', 7),\n",
       " ('edamame', 'appetizer', 4),\n",
       " ('fries', 'appetizer', 4),\n",
       " ('potsticker', 'appetizer', 4),\n",
       " ('ice cream', 'dessert', 5)]"
      ]
     },
     "execution_count": 21,
     "metadata": {},
     "output_type": "execute_result"
    }
   ],
   "source": [
    "%%sql\n",
    "SELECT *\n",
    "FROM Dish;"
   ]
  },
  {
   "cell_type": "markdown",
   "id": "bb8b961a-57d6-4488-aa2a-e14e82e30f35",
   "metadata": {},
   "source": [
    "A small note: the fact that `type` is highlighted in green below is a consequence of Jupyter assuming that we are writing Python code (where `type` is a built-in keyword). `type` does *not* have a special meaning in SQL, so the color below does not indicate any special functionality. When we run the cell, Jupyter realizes it should recognize the code as SQL. "
   ]
  },
  {
   "cell_type": "code",
   "execution_count": 22,
   "id": "b8fdab3a-0f93-4e39-b344-3a5068ae228b",
   "metadata": {},
   "outputs": [
    {
     "name": "stdout",
     "output_type": "stream",
     "text": [
      " * sqlite:///data/basic_examples.db\n",
      "Done.\n"
     ]
    },
    {
     "data": {
      "text/html": [
       "<table>\n",
       "    <tr>\n",
       "        <th>type</th>\n",
       "    </tr>\n",
       "    <tr>\n",
       "        <td>entree</td>\n",
       "    </tr>\n",
       "    <tr>\n",
       "        <td>entree</td>\n",
       "    </tr>\n",
       "    <tr>\n",
       "        <td>entree</td>\n",
       "    </tr>\n",
       "    <tr>\n",
       "        <td>appetizer</td>\n",
       "    </tr>\n",
       "    <tr>\n",
       "        <td>appetizer</td>\n",
       "    </tr>\n",
       "    <tr>\n",
       "        <td>appetizer</td>\n",
       "    </tr>\n",
       "    <tr>\n",
       "        <td>dessert</td>\n",
       "    </tr>\n",
       "</table>"
      ],
      "text/plain": [
       "[('entree',),\n",
       " ('entree',),\n",
       " ('entree',),\n",
       " ('appetizer',),\n",
       " ('appetizer',),\n",
       " ('appetizer',),\n",
       " ('dessert',)]"
      ]
     },
     "execution_count": 22,
     "metadata": {},
     "output_type": "execute_result"
    }
   ],
   "source": [
    "%%sql\n",
    "SELECT type\n",
    "FROM Dish;"
   ]
  },
  {
   "cell_type": "code",
   "execution_count": 23,
   "id": "6369bcf3-c7ae-46e3-8b63-c6adfd6e9611",
   "metadata": {},
   "outputs": [
    {
     "name": "stdout",
     "output_type": "stream",
     "text": [
      " * sqlite:///data/basic_examples.db\n",
      "Done.\n"
     ]
    },
    {
     "data": {
      "text/html": [
       "<table>\n",
       "    <tr>\n",
       "        <th>type</th>\n",
       "    </tr>\n",
       "    <tr>\n",
       "        <td>appetizer</td>\n",
       "    </tr>\n",
       "    <tr>\n",
       "        <td>dessert</td>\n",
       "    </tr>\n",
       "    <tr>\n",
       "        <td>entree</td>\n",
       "    </tr>\n",
       "</table>"
      ],
      "text/plain": [
       "[('appetizer',), ('dessert',), ('entree',)]"
      ]
     },
     "execution_count": 23,
     "metadata": {},
     "output_type": "execute_result"
    }
   ],
   "source": [
    "%%sql\n",
    "SELECT type\n",
    "FROM Dish\n",
    "GROUP BY type;"
   ]
  },
  {
   "cell_type": "code",
   "execution_count": 24,
   "id": "50792e27-c504-43a3-9e65-a1f2aa891828",
   "metadata": {},
   "outputs": [
    {
     "name": "stdout",
     "output_type": "stream",
     "text": [
      " * sqlite:///data/basic_examples.db\n",
      "Done.\n"
     ]
    },
    {
     "data": {
      "text/html": [
       "<table>\n",
       "    <tr>\n",
       "        <th>type</th>\n",
       "        <th>SUM(cost)</th>\n",
       "    </tr>\n",
       "    <tr>\n",
       "        <td>appetizer</td>\n",
       "        <td>12</td>\n",
       "    </tr>\n",
       "    <tr>\n",
       "        <td>dessert</td>\n",
       "        <td>5</td>\n",
       "    </tr>\n",
       "    <tr>\n",
       "        <td>entree</td>\n",
       "        <td>30</td>\n",
       "    </tr>\n",
       "</table>"
      ],
      "text/plain": [
       "[('appetizer', 12), ('dessert', 5), ('entree', 30)]"
      ]
     },
     "execution_count": 24,
     "metadata": {},
     "output_type": "execute_result"
    }
   ],
   "source": [
    "%%sql\n",
    "SELECT type, SUM(cost)\n",
    "FROM Dish\n",
    "GROUP BY type;"
   ]
  },
  {
   "cell_type": "code",
   "execution_count": 25,
   "id": "cd7495a5-0008-49ba-abb7-4e9da953f5a6",
   "metadata": {},
   "outputs": [
    {
     "name": "stdout",
     "output_type": "stream",
     "text": [
      " * sqlite:///data/basic_examples.db\n",
      "Done.\n"
     ]
    },
    {
     "data": {
      "text/html": [
       "<table>\n",
       "    <tr>\n",
       "        <th>type</th>\n",
       "        <th>SUM(cost)</th>\n",
       "        <th>MIN(cost)</th>\n",
       "        <th>MAX(name)</th>\n",
       "    </tr>\n",
       "    <tr>\n",
       "        <td>appetizer</td>\n",
       "        <td>12</td>\n",
       "        <td>4</td>\n",
       "        <td>potsticker</td>\n",
       "    </tr>\n",
       "    <tr>\n",
       "        <td>dessert</td>\n",
       "        <td>5</td>\n",
       "        <td>5</td>\n",
       "        <td>ice cream</td>\n",
       "    </tr>\n",
       "    <tr>\n",
       "        <td>entree</td>\n",
       "        <td>30</td>\n",
       "        <td>7</td>\n",
       "        <td>taco</td>\n",
       "    </tr>\n",
       "</table>"
      ],
      "text/plain": [
       "[('appetizer', 12, 4, 'potsticker'),\n",
       " ('dessert', 5, 5, 'ice cream'),\n",
       " ('entree', 30, 7, 'taco')]"
      ]
     },
     "execution_count": 25,
     "metadata": {},
     "output_type": "execute_result"
    }
   ],
   "source": [
    "%%sql\n",
    "SELECT type, \n",
    "       SUM(cost), \n",
    "       MIN(cost),\n",
    "       MAX(name)\n",
    "FROM Dish\n",
    "GROUP BY type;"
   ]
  },
  {
   "cell_type": "code",
   "execution_count": 26,
   "id": "342216ee-2ee0-477f-978c-f5e817ab9dd8",
   "metadata": {},
   "outputs": [
    {
     "name": "stdout",
     "output_type": "stream",
     "text": [
      " * sqlite:///data/basic_examples.db\n",
      "Done.\n"
     ]
    },
    {
     "data": {
      "text/html": [
       "<table>\n",
       "    <tr>\n",
       "        <th>year</th>\n",
       "        <th>COUNT(cute)</th>\n",
       "    </tr>\n",
       "    <tr>\n",
       "        <td>2010</td>\n",
       "        <td>2</td>\n",
       "    </tr>\n",
       "    <tr>\n",
       "        <td>2011</td>\n",
       "        <td>1</td>\n",
       "    </tr>\n",
       "    <tr>\n",
       "        <td>2019</td>\n",
       "        <td>1</td>\n",
       "    </tr>\n",
       "</table>"
      ],
      "text/plain": [
       "[(2010, 2), (2011, 1), (2019, 1)]"
      ]
     },
     "execution_count": 26,
     "metadata": {},
     "output_type": "execute_result"
    }
   ],
   "source": [
    "%%sql\n",
    "SELECT year, COUNT(cute)\n",
    "FROM Dragon\n",
    "GROUP BY year;"
   ]
  },
  {
   "cell_type": "code",
   "execution_count": 27,
   "id": "17fbbb43-1b95-4756-9446-ae8cfaa8e7ad",
   "metadata": {},
   "outputs": [
    {
     "name": "stdout",
     "output_type": "stream",
     "text": [
      " * sqlite:///data/basic_examples.db\n",
      "Done.\n"
     ]
    },
    {
     "data": {
      "text/html": [
       "<table>\n",
       "    <tr>\n",
       "        <th>year</th>\n",
       "        <th>COUNT(*)</th>\n",
       "    </tr>\n",
       "    <tr>\n",
       "        <td>2010</td>\n",
       "        <td>2</td>\n",
       "    </tr>\n",
       "    <tr>\n",
       "        <td>2011</td>\n",
       "        <td>2</td>\n",
       "    </tr>\n",
       "    <tr>\n",
       "        <td>2019</td>\n",
       "        <td>1</td>\n",
       "    </tr>\n",
       "</table>"
      ],
      "text/plain": [
       "[(2010, 2), (2011, 2), (2019, 1)]"
      ]
     },
     "execution_count": 27,
     "metadata": {},
     "output_type": "execute_result"
    }
   ],
   "source": [
    "%%sql\n",
    "SELECT year, COUNT(*)\n",
    "FROM Dragon\n",
    "GROUP BY year;"
   ]
  },
  {
   "cell_type": "markdown",
   "id": "ce5ba9fe-3bba-4be6-8101-54ce57a7d041",
   "metadata": {},
   "source": [
    "## Working with the `sql` results as Python variables\n",
    "\n",
    "By default, executing a query with a magic command produces output but doesn't save it into any Python variable:"
   ]
  },
  {
   "cell_type": "code",
   "execution_count": 28,
   "id": "5af3fbfc-484c-4981-90a6-d793040c17a1",
   "metadata": {},
   "outputs": [
    {
     "name": "stdout",
     "output_type": "stream",
     "text": [
      " * sqlite:///data/basic_examples.db\n",
      "Done.\n"
     ]
    },
    {
     "data": {
      "text/html": [
       "<table>\n",
       "    <tr>\n",
       "        <th>name</th>\n",
       "        <th>year</th>\n",
       "        <th>cute</th>\n",
       "    </tr>\n",
       "    <tr>\n",
       "        <td>hiccup</td>\n",
       "        <td>2010</td>\n",
       "        <td>10</td>\n",
       "    </tr>\n",
       "    <tr>\n",
       "        <td>drogon</td>\n",
       "        <td>2011</td>\n",
       "        <td>-100</td>\n",
       "    </tr>\n",
       "    <tr>\n",
       "        <td>dragon 2</td>\n",
       "        <td>2019</td>\n",
       "        <td>0</td>\n",
       "    </tr>\n",
       "    <tr>\n",
       "        <td>puff</td>\n",
       "        <td>2010</td>\n",
       "        <td>100</td>\n",
       "    </tr>\n",
       "    <tr>\n",
       "        <td>smaug</td>\n",
       "        <td>2011</td>\n",
       "        <td>None</td>\n",
       "    </tr>\n",
       "</table>"
      ],
      "text/plain": [
       "[('hiccup', 2010, 10),\n",
       " ('drogon', 2011, -100),\n",
       " ('dragon 2', 2019, 0),\n",
       " ('puff', 2010, 100),\n",
       " ('smaug', 2011, None)]"
      ]
     },
     "execution_count": 28,
     "metadata": {},
     "output_type": "execute_result"
    }
   ],
   "source": [
    "%sql SELECT * FROM Dragon"
   ]
  },
  {
   "cell_type": "markdown",
   "id": "5861cf8d-828e-4dd8-a85f-caf4905ec95d",
   "metadata": {},
   "source": [
    "This can be inconvenient if you later want to do further processing of these data in Python."
   ]
  },
  {
   "cell_type": "markdown",
   "id": "72eadb81-d00f-4ae5-91e1-b401f7c00060",
   "metadata": {},
   "source": [
    "### Storing one-line `%sql` queries\n",
    "\n",
    "For simple one-line queries, you can use IPython's ability to store the result of a magic command like `%sql` as if it were any other Python statement, and save the output to a variable:"
   ]
  },
  {
   "cell_type": "code",
   "execution_count": 29,
   "id": "ab49b102-b47b-4304-b131-169ddb5c8d9d",
   "metadata": {},
   "outputs": [
    {
     "name": "stdout",
     "output_type": "stream",
     "text": [
      " * sqlite:///data/basic_examples.db\n",
      "Done.\n"
     ]
    },
    {
     "data": {
      "text/html": [
       "<table>\n",
       "    <tr>\n",
       "        <th>name</th>\n",
       "        <th>year</th>\n",
       "        <th>cute</th>\n",
       "    </tr>\n",
       "    <tr>\n",
       "        <td>hiccup</td>\n",
       "        <td>2010</td>\n",
       "        <td>10</td>\n",
       "    </tr>\n",
       "    <tr>\n",
       "        <td>drogon</td>\n",
       "        <td>2011</td>\n",
       "        <td>-100</td>\n",
       "    </tr>\n",
       "    <tr>\n",
       "        <td>dragon 2</td>\n",
       "        <td>2019</td>\n",
       "        <td>0</td>\n",
       "    </tr>\n",
       "    <tr>\n",
       "        <td>puff</td>\n",
       "        <td>2010</td>\n",
       "        <td>100</td>\n",
       "    </tr>\n",
       "    <tr>\n",
       "        <td>smaug</td>\n",
       "        <td>2011</td>\n",
       "        <td>None</td>\n",
       "    </tr>\n",
       "</table>"
      ],
      "text/plain": [
       "[('hiccup', 2010, 10),\n",
       " ('drogon', 2011, -100),\n",
       " ('dragon 2', 2019, 0),\n",
       " ('puff', 2010, 100),\n",
       " ('smaug', 2011, None)]"
      ]
     },
     "execution_count": 29,
     "metadata": {},
     "output_type": "execute_result"
    }
   ],
   "source": [
    "dragon_table = %sql SELECT * FROM Dragon\n",
    "dragon_table"
   ]
  },
  {
   "cell_type": "markdown",
   "id": "01fadebc-7c50-494e-a364-48f5ab0afb82",
   "metadata": {},
   "source": [
    "As noted above, the result of the query is a Python variable of type `ResultSet`, more specifically:"
   ]
  },
  {
   "cell_type": "code",
   "execution_count": 30,
   "id": "bb205d1e-3456-458b-ba1d-04166dd355f7",
   "metadata": {},
   "outputs": [
    {
     "data": {
      "text/plain": [
       "sql.run.ResultSet"
      ]
     },
     "execution_count": 30,
     "metadata": {},
     "output_type": "execute_result"
    }
   ],
   "source": [
    "type(dragon_table)"
   ]
  },
  {
   "cell_type": "markdown",
   "id": "e3db136e-3c3f-48fd-a75a-012c5d9b9609",
   "metadata": {},
   "source": [
    "You need to manually convert it to a Pandas DataFrame if you want to do pandas-things with its content:"
   ]
  },
  {
   "cell_type": "code",
   "execution_count": 31,
   "id": "3c35735a-e30e-47a2-acfe-5486550a52bf",
   "metadata": {},
   "outputs": [
    {
     "data": {
      "text/html": [
       "<div>\n",
       "<style scoped>\n",
       "    .dataframe tbody tr th:only-of-type {\n",
       "        vertical-align: middle;\n",
       "    }\n",
       "\n",
       "    .dataframe tbody tr th {\n",
       "        vertical-align: top;\n",
       "    }\n",
       "\n",
       "    .dataframe thead th {\n",
       "        text-align: right;\n",
       "    }\n",
       "</style>\n",
       "<table border=\"1\" class=\"dataframe\">\n",
       "  <thead>\n",
       "    <tr style=\"text-align: right;\">\n",
       "      <th></th>\n",
       "      <th>name</th>\n",
       "      <th>year</th>\n",
       "      <th>cute</th>\n",
       "    </tr>\n",
       "  </thead>\n",
       "  <tbody>\n",
       "    <tr>\n",
       "      <th>0</th>\n",
       "      <td>hiccup</td>\n",
       "      <td>2010</td>\n",
       "      <td>10.0</td>\n",
       "    </tr>\n",
       "    <tr>\n",
       "      <th>1</th>\n",
       "      <td>drogon</td>\n",
       "      <td>2011</td>\n",
       "      <td>-100.0</td>\n",
       "    </tr>\n",
       "    <tr>\n",
       "      <th>2</th>\n",
       "      <td>dragon 2</td>\n",
       "      <td>2019</td>\n",
       "      <td>0.0</td>\n",
       "    </tr>\n",
       "    <tr>\n",
       "      <th>3</th>\n",
       "      <td>puff</td>\n",
       "      <td>2010</td>\n",
       "      <td>100.0</td>\n",
       "    </tr>\n",
       "    <tr>\n",
       "      <th>4</th>\n",
       "      <td>smaug</td>\n",
       "      <td>2011</td>\n",
       "      <td>NaN</td>\n",
       "    </tr>\n",
       "  </tbody>\n",
       "</table>\n",
       "</div>"
      ],
      "text/plain": [
       "       name  year   cute\n",
       "0    hiccup  2010   10.0\n",
       "1    drogon  2011 -100.0\n",
       "2  dragon 2  2019    0.0\n",
       "3      puff  2010  100.0\n",
       "4     smaug  2011    NaN"
      ]
     },
     "execution_count": 31,
     "metadata": {},
     "output_type": "execute_result"
    }
   ],
   "source": [
    "dragon_df = dragon_table.DataFrame()\n",
    "dragon_df"
   ]
  },
  {
   "cell_type": "markdown",
   "id": "63e0c53b-4481-4727-b72d-2aa7f3b66184",
   "metadata": {},
   "source": [
    "You can configure `jupysql` to _automatically_ convert all outputs to Pandas DataFrames. This can be handy if you intend all your Python-side work to be done with Pandas, as it saves you from manually having to call `.DataFrame()` first on all outputs. On the other hand, you don't get access to the original SQL `ResultSet` object, which have a number of interesting properties and capabilities. You can learn more about those in the [jupysql documentation](https://jupysql.ploomber.io).\n",
    "\n",
    "For now, let's turn this on so you can see how this simplified, \"pandas all the way\" worfklow looks like:"
   ]
  },
  {
   "cell_type": "code",
   "execution_count": 32,
   "id": "997ad531-c5e0-4b60-96b7-4d8c0d78890c",
   "metadata": {},
   "outputs": [],
   "source": [
    "%config SqlMagic.autopandas = True"
   ]
  },
  {
   "cell_type": "code",
   "execution_count": 33,
   "id": "c4b32c92-97d1-4044-b8e3-7a0ccbded620",
   "metadata": {},
   "outputs": [
    {
     "name": "stdout",
     "output_type": "stream",
     "text": [
      " * sqlite:///data/basic_examples.db\n",
      "Done.\n"
     ]
    },
    {
     "data": {
      "text/html": [
       "<div>\n",
       "<style scoped>\n",
       "    .dataframe tbody tr th:only-of-type {\n",
       "        vertical-align: middle;\n",
       "    }\n",
       "\n",
       "    .dataframe tbody tr th {\n",
       "        vertical-align: top;\n",
       "    }\n",
       "\n",
       "    .dataframe thead th {\n",
       "        text-align: right;\n",
       "    }\n",
       "</style>\n",
       "<table border=\"1\" class=\"dataframe\">\n",
       "  <thead>\n",
       "    <tr style=\"text-align: right;\">\n",
       "      <th></th>\n",
       "      <th>name</th>\n",
       "      <th>year</th>\n",
       "      <th>cute</th>\n",
       "    </tr>\n",
       "  </thead>\n",
       "  <tbody>\n",
       "    <tr>\n",
       "      <th>0</th>\n",
       "      <td>hiccup</td>\n",
       "      <td>2010</td>\n",
       "      <td>10.0</td>\n",
       "    </tr>\n",
       "    <tr>\n",
       "      <th>1</th>\n",
       "      <td>drogon</td>\n",
       "      <td>2011</td>\n",
       "      <td>-100.0</td>\n",
       "    </tr>\n",
       "    <tr>\n",
       "      <th>2</th>\n",
       "      <td>dragon 2</td>\n",
       "      <td>2019</td>\n",
       "      <td>0.0</td>\n",
       "    </tr>\n",
       "    <tr>\n",
       "      <th>3</th>\n",
       "      <td>puff</td>\n",
       "      <td>2010</td>\n",
       "      <td>100.0</td>\n",
       "    </tr>\n",
       "    <tr>\n",
       "      <th>4</th>\n",
       "      <td>smaug</td>\n",
       "      <td>2011</td>\n",
       "      <td>NaN</td>\n",
       "    </tr>\n",
       "  </tbody>\n",
       "</table>\n",
       "</div>"
      ],
      "text/plain": [
       "       name  year   cute\n",
       "0    hiccup  2010   10.0\n",
       "1    drogon  2011 -100.0\n",
       "2  dragon 2  2019    0.0\n",
       "3      puff  2010  100.0\n",
       "4     smaug  2011    NaN"
      ]
     },
     "execution_count": 33,
     "metadata": {},
     "output_type": "execute_result"
    }
   ],
   "source": [
    "dragon_df = %sql SELECT * FROM Dragon\n",
    "dragon_df"
   ]
  },
  {
   "cell_type": "code",
   "execution_count": 34,
   "id": "18f834c2-8511-4c9a-8562-ddd6ed4a6ff4",
   "metadata": {},
   "outputs": [
    {
     "data": {
      "text/plain": [
       "pandas.core.frame.DataFrame"
      ]
     },
     "execution_count": 34,
     "metadata": {},
     "output_type": "execute_result"
    }
   ],
   "source": [
    "type(dragon_df)"
   ]
  },
  {
   "cell_type": "markdown",
   "id": "930ed96a-fdcd-492b-96b6-8cc596942fe7",
   "metadata": {},
   "source": [
    "### Storing multi-line `%%sql` queries"
   ]
  },
  {
   "cell_type": "markdown",
   "id": "3d2bd891-0ffe-43a7-913e-b6f2cea10c19",
   "metadata": {},
   "source": [
    "For a more complex query that won't fit in one line, such as for example:"
   ]
  },
  {
   "cell_type": "code",
   "execution_count": 35,
   "id": "7f5f9312-e60b-4b56-a31a-54494b185271",
   "metadata": {},
   "outputs": [
    {
     "name": "stdout",
     "output_type": "stream",
     "text": [
      " * sqlite:///data/basic_examples.db\n",
      "Done.\n"
     ]
    },
    {
     "data": {
      "text/html": [
       "<div>\n",
       "<style scoped>\n",
       "    .dataframe tbody tr th:only-of-type {\n",
       "        vertical-align: middle;\n",
       "    }\n",
       "\n",
       "    .dataframe tbody tr th {\n",
       "        vertical-align: top;\n",
       "    }\n",
       "\n",
       "    .dataframe thead th {\n",
       "        text-align: right;\n",
       "    }\n",
       "</style>\n",
       "<table border=\"1\" class=\"dataframe\">\n",
       "  <thead>\n",
       "    <tr style=\"text-align: right;\">\n",
       "      <th></th>\n",
       "      <th>year</th>\n",
       "      <th>COUNT(*)</th>\n",
       "    </tr>\n",
       "  </thead>\n",
       "  <tbody>\n",
       "    <tr>\n",
       "      <th>0</th>\n",
       "      <td>2010</td>\n",
       "      <td>2</td>\n",
       "    </tr>\n",
       "    <tr>\n",
       "      <th>1</th>\n",
       "      <td>2011</td>\n",
       "      <td>2</td>\n",
       "    </tr>\n",
       "    <tr>\n",
       "      <th>2</th>\n",
       "      <td>2019</td>\n",
       "      <td>1</td>\n",
       "    </tr>\n",
       "  </tbody>\n",
       "</table>\n",
       "</div>"
      ],
      "text/plain": [
       "   year  COUNT(*)\n",
       "0  2010         2\n",
       "1  2011         2\n",
       "2  2019         1"
      ]
     },
     "execution_count": 35,
     "metadata": {},
     "output_type": "execute_result"
    }
   ],
   "source": [
    "%%sql\n",
    "SELECT year, COUNT(*)\n",
    "FROM Dragon\n",
    "GROUP BY year;"
   ]
  },
  {
   "cell_type": "markdown",
   "id": "be733f9a-d903-46a7-96a3-ee427af6848f",
   "metadata": {},
   "source": [
    "You can use the `variable <<` syntax in jupysql to store its output (this will honor your `autopandas` state and store either a `sql.run.ResultState` or a Pandas `DataFrame`):"
   ]
  },
  {
   "cell_type": "code",
   "execution_count": 36,
   "id": "a063ab8d-5e97-4bee-b2a1-d1120bd5a947",
   "metadata": {},
   "outputs": [
    {
     "name": "stdout",
     "output_type": "stream",
     "text": [
      " * sqlite:///data/basic_examples.db\n",
      "Done.\n",
      "Returning data to local variable dragon_years\n"
     ]
    }
   ],
   "source": [
    "%%sql dragon_years <<\n",
    "SELECT year, COUNT(*)\n",
    "FROM Dragon\n",
    "GROUP BY year;"
   ]
  },
  {
   "cell_type": "code",
   "execution_count": 37,
   "id": "983c5be0-f248-4da4-b934-79491a312ffe",
   "metadata": {},
   "outputs": [
    {
     "data": {
      "text/html": [
       "<div>\n",
       "<style scoped>\n",
       "    .dataframe tbody tr th:only-of-type {\n",
       "        vertical-align: middle;\n",
       "    }\n",
       "\n",
       "    .dataframe tbody tr th {\n",
       "        vertical-align: top;\n",
       "    }\n",
       "\n",
       "    .dataframe thead th {\n",
       "        text-align: right;\n",
       "    }\n",
       "</style>\n",
       "<table border=\"1\" class=\"dataframe\">\n",
       "  <thead>\n",
       "    <tr style=\"text-align: right;\">\n",
       "      <th></th>\n",
       "      <th>year</th>\n",
       "      <th>COUNT(*)</th>\n",
       "    </tr>\n",
       "  </thead>\n",
       "  <tbody>\n",
       "    <tr>\n",
       "      <th>0</th>\n",
       "      <td>2010</td>\n",
       "      <td>2</td>\n",
       "    </tr>\n",
       "    <tr>\n",
       "      <th>1</th>\n",
       "      <td>2011</td>\n",
       "      <td>2</td>\n",
       "    </tr>\n",
       "    <tr>\n",
       "      <th>2</th>\n",
       "      <td>2019</td>\n",
       "      <td>1</td>\n",
       "    </tr>\n",
       "  </tbody>\n",
       "</table>\n",
       "</div>"
      ],
      "text/plain": [
       "   year  COUNT(*)\n",
       "0  2010         2\n",
       "1  2011         2\n",
       "2  2019         1"
      ]
     },
     "execution_count": 37,
     "metadata": {},
     "output_type": "execute_result"
    }
   ],
   "source": [
    "dragon_years"
   ]
  },
  {
   "cell_type": "markdown",
   "id": "b597d45b",
   "metadata": {},
   "source": [
    "### Filtering Groups Using `HAVING`"
   ]
  },
  {
   "cell_type": "code",
   "execution_count": 38,
   "id": "c6b9fe44",
   "metadata": {},
   "outputs": [
    {
     "name": "stdout",
     "output_type": "stream",
     "text": [
      " * sqlite:///data/basic_examples.db\n",
      "Done.\n"
     ]
    },
    {
     "data": {
      "text/html": [
       "<div>\n",
       "<style scoped>\n",
       "    .dataframe tbody tr th:only-of-type {\n",
       "        vertical-align: middle;\n",
       "    }\n",
       "\n",
       "    .dataframe tbody tr th {\n",
       "        vertical-align: top;\n",
       "    }\n",
       "\n",
       "    .dataframe thead th {\n",
       "        text-align: right;\n",
       "    }\n",
       "</style>\n",
       "<table border=\"1\" class=\"dataframe\">\n",
       "  <thead>\n",
       "    <tr style=\"text-align: right;\">\n",
       "      <th></th>\n",
       "      <th>type</th>\n",
       "      <th>COUNT(*)</th>\n",
       "    </tr>\n",
       "  </thead>\n",
       "  <tbody>\n",
       "    <tr>\n",
       "      <th>0</th>\n",
       "      <td>appetizer</td>\n",
       "      <td>3</td>\n",
       "    </tr>\n",
       "    <tr>\n",
       "      <th>1</th>\n",
       "      <td>dessert</td>\n",
       "      <td>1</td>\n",
       "    </tr>\n",
       "  </tbody>\n",
       "</table>\n",
       "</div>"
      ],
      "text/plain": [
       "        type  COUNT(*)\n",
       "0  appetizer         3\n",
       "1    dessert         1"
      ]
     },
     "execution_count": 38,
     "metadata": {},
     "output_type": "execute_result"
    }
   ],
   "source": [
    "%%sql\n",
    "SELECT type, COUNT(*)\n",
    "FROM Dish\n",
    "GROUP BY type\n",
    "HAVING MAX(cost) < 8;"
   ]
  },
  {
   "cell_type": "code",
   "execution_count": 39,
   "id": "86f43c78",
   "metadata": {},
   "outputs": [
    {
     "name": "stdout",
     "output_type": "stream",
     "text": [
      " * sqlite:///data/basic_examples.db\n",
      "(sqlite3.OperationalError) no such table: DishDietary\n",
      "[SQL: SELECT type, MAX(name)\n",
      "FROM DishDietary\n",
      "WHERE notes == 'gf'\n",
      "GROUP BY type\n",
      "HAVING MAX(cost) <= 7;]\n",
      "(Background on this error at: https://sqlalche.me/e/14/e3q8)\n"
     ]
    }
   ],
   "source": [
    "%%sql\n",
    "SELECT type, MAX(name)\n",
    "FROM DishDietary\n",
    "WHERE notes == 'gf'\n",
    "GROUP BY type\n",
    "HAVING MAX(cost) <= 7;"
   ]
  },
  {
   "cell_type": "markdown",
   "id": "c784fb60",
   "metadata": {},
   "source": [
    "### EDA in SQL\n",
    "\n",
    "Our typical workflow when working with \"big data\" is:\n",
    "* Use SQL to query data from a database\n",
    "* Use Python (with `pandas`) to analyze this data in detail\n",
    "\n",
    "We can, however, still perform simple data cleaning and re-structuring using SQL directly. To do so, we'll consider the `Title` table from the IMDB dataset."
   ]
  },
  {
   "cell_type": "code",
   "execution_count": 40,
   "id": "79f33f0c",
   "metadata": {},
   "outputs": [],
   "source": [
    "%%sql\n",
    "sqlite:///data/imdbmini.db"
   ]
  },
  {
   "cell_type": "code",
   "execution_count": 41,
   "id": "f771a59f",
   "metadata": {},
   "outputs": [
    {
     "name": "stdout",
     "output_type": "stream",
     "text": [
      "   sqlite:///data/basic_examples.db\n",
      " * sqlite:///data/imdbmini.db\n",
      "Done.\n"
     ]
    },
    {
     "data": {
      "text/html": [
       "<div>\n",
       "<style scoped>\n",
       "    .dataframe tbody tr th:only-of-type {\n",
       "        vertical-align: middle;\n",
       "    }\n",
       "\n",
       "    .dataframe tbody tr th {\n",
       "        vertical-align: top;\n",
       "    }\n",
       "\n",
       "    .dataframe thead th {\n",
       "        text-align: right;\n",
       "    }\n",
       "</style>\n",
       "<table border=\"1\" class=\"dataframe\">\n",
       "  <thead>\n",
       "    <tr style=\"text-align: right;\">\n",
       "      <th></th>\n",
       "      <th>type</th>\n",
       "      <th>name</th>\n",
       "      <th>tbl_name</th>\n",
       "      <th>rootpage</th>\n",
       "      <th>sql</th>\n",
       "    </tr>\n",
       "  </thead>\n",
       "  <tbody>\n",
       "    <tr>\n",
       "      <th>0</th>\n",
       "      <td>table</td>\n",
       "      <td>Title</td>\n",
       "      <td>Title</td>\n",
       "      <td>2</td>\n",
       "      <td>CREATE TABLE \"Title\" (\\n\"tconst\" INTEGER,\\n  \"...</td>\n",
       "    </tr>\n",
       "    <tr>\n",
       "      <th>1</th>\n",
       "      <td>table</td>\n",
       "      <td>Name</td>\n",
       "      <td>Name</td>\n",
       "      <td>12</td>\n",
       "      <td>CREATE TABLE \"Name\" (\\n\"nconst\" INTEGER,\\n  \"p...</td>\n",
       "    </tr>\n",
       "    <tr>\n",
       "      <th>2</th>\n",
       "      <td>table</td>\n",
       "      <td>Role</td>\n",
       "      <td>Role</td>\n",
       "      <td>70</td>\n",
       "      <td>CREATE TABLE \"Role\" (\\ntconst INTEGER,\\norderi...</td>\n",
       "    </tr>\n",
       "    <tr>\n",
       "      <th>3</th>\n",
       "      <td>table</td>\n",
       "      <td>Rating</td>\n",
       "      <td>Rating</td>\n",
       "      <td>41</td>\n",
       "      <td>CREATE TABLE \"Rating\" (\\ntconst INTEGER,\\naver...</td>\n",
       "    </tr>\n",
       "  </tbody>\n",
       "</table>\n",
       "</div>"
      ],
      "text/plain": [
       "    type    name tbl_name  rootpage  \\\n",
       "0  table   Title    Title         2   \n",
       "1  table    Name     Name        12   \n",
       "2  table    Role     Role        70   \n",
       "3  table  Rating   Rating        41   \n",
       "\n",
       "                                                 sql  \n",
       "0  CREATE TABLE \"Title\" (\\n\"tconst\" INTEGER,\\n  \"...  \n",
       "1  CREATE TABLE \"Name\" (\\n\"nconst\" INTEGER,\\n  \"p...  \n",
       "2  CREATE TABLE \"Role\" (\\ntconst INTEGER,\\norderi...  \n",
       "3  CREATE TABLE \"Rating\" (\\ntconst INTEGER,\\naver...  "
      ]
     },
     "execution_count": 41,
     "metadata": {},
     "output_type": "execute_result"
    }
   ],
   "source": [
    "%%sql\n",
    "SELECT * FROM sqlite_master WHERE type='table'"
   ]
  },
  {
   "cell_type": "code",
   "execution_count": 42,
   "id": "51fc1eba",
   "metadata": {},
   "outputs": [
    {
     "name": "stdout",
     "output_type": "stream",
     "text": [
      "   sqlite:///data/basic_examples.db\n",
      " * sqlite:///data/imdbmini.db\n",
      "Done.\n"
     ]
    },
    {
     "data": {
      "text/html": [
       "<div>\n",
       "<style scoped>\n",
       "    .dataframe tbody tr th:only-of-type {\n",
       "        vertical-align: middle;\n",
       "    }\n",
       "\n",
       "    .dataframe tbody tr th {\n",
       "        vertical-align: top;\n",
       "    }\n",
       "\n",
       "    .dataframe thead th {\n",
       "        text-align: right;\n",
       "    }\n",
       "</style>\n",
       "<table border=\"1\" class=\"dataframe\">\n",
       "  <thead>\n",
       "    <tr style=\"text-align: right;\">\n",
       "      <th></th>\n",
       "      <th>tconst</th>\n",
       "      <th>titleType</th>\n",
       "      <th>primaryTitle</th>\n",
       "      <th>originalTitle</th>\n",
       "      <th>isAdult</th>\n",
       "      <th>startYear</th>\n",
       "      <th>endYear</th>\n",
       "      <th>runtimeMinutes</th>\n",
       "      <th>genres</th>\n",
       "    </tr>\n",
       "  </thead>\n",
       "  <tbody>\n",
       "    <tr>\n",
       "      <th>0</th>\n",
       "      <td>3104988</td>\n",
       "      <td>movie</td>\n",
       "      <td>Crazy Rich Asians</td>\n",
       "      <td>Crazy Rich Asians</td>\n",
       "      <td>0</td>\n",
       "      <td>2018</td>\n",
       "      <td>None</td>\n",
       "      <td>120</td>\n",
       "      <td>Comedy,Drama,Romance</td>\n",
       "    </tr>\n",
       "    <tr>\n",
       "      <th>1</th>\n",
       "      <td>4595882</td>\n",
       "      <td>movie</td>\n",
       "      <td>Can You Ever Forgive Me?</td>\n",
       "      <td>Can You Ever Forgive Me?</td>\n",
       "      <td>0</td>\n",
       "      <td>2018</td>\n",
       "      <td>None</td>\n",
       "      <td>106</td>\n",
       "      <td>Biography,Comedy,Crime</td>\n",
       "    </tr>\n",
       "    <tr>\n",
       "      <th>2</th>\n",
       "      <td>2473794</td>\n",
       "      <td>movie</td>\n",
       "      <td>Mr. Turner</td>\n",
       "      <td>Mr. Turner</td>\n",
       "      <td>0</td>\n",
       "      <td>2014</td>\n",
       "      <td>None</td>\n",
       "      <td>150</td>\n",
       "      <td>Biography,Drama,History</td>\n",
       "    </tr>\n",
       "    <tr>\n",
       "      <th>3</th>\n",
       "      <td>1912398</td>\n",
       "      <td>movie</td>\n",
       "      <td>God Bless America</td>\n",
       "      <td>God Bless America</td>\n",
       "      <td>0</td>\n",
       "      <td>2011</td>\n",
       "      <td>None</td>\n",
       "      <td>105</td>\n",
       "      <td>Comedy,Crime,Drama</td>\n",
       "    </tr>\n",
       "    <tr>\n",
       "      <th>4</th>\n",
       "      <td>488085</td>\n",
       "      <td>movie</td>\n",
       "      <td>Big Nothing</td>\n",
       "      <td>Big Nothing</td>\n",
       "      <td>0</td>\n",
       "      <td>2006</td>\n",
       "      <td>None</td>\n",
       "      <td>86</td>\n",
       "      <td>Comedy,Crime,Thriller</td>\n",
       "    </tr>\n",
       "    <tr>\n",
       "      <th>5</th>\n",
       "      <td>96251</td>\n",
       "      <td>movie</td>\n",
       "      <td>Tetsuo: The Iron Man</td>\n",
       "      <td>Tetsuo</td>\n",
       "      <td>0</td>\n",
       "      <td>1989</td>\n",
       "      <td>None</td>\n",
       "      <td>67</td>\n",
       "      <td>Fantasy,Horror,Sci-Fi</td>\n",
       "    </tr>\n",
       "    <tr>\n",
       "      <th>6</th>\n",
       "      <td>5719700</td>\n",
       "      <td>movie</td>\n",
       "      <td>Home Again</td>\n",
       "      <td>Home Again</td>\n",
       "      <td>0</td>\n",
       "      <td>2017</td>\n",
       "      <td>None</td>\n",
       "      <td>97</td>\n",
       "      <td>Comedy,Drama,Romance</td>\n",
       "    </tr>\n",
       "    <tr>\n",
       "      <th>7</th>\n",
       "      <td>4225622</td>\n",
       "      <td>movie</td>\n",
       "      <td>The Babysitter</td>\n",
       "      <td>The Babysitter</td>\n",
       "      <td>0</td>\n",
       "      <td>2017</td>\n",
       "      <td>None</td>\n",
       "      <td>85</td>\n",
       "      <td>Comedy,Horror</td>\n",
       "    </tr>\n",
       "    <tr>\n",
       "      <th>8</th>\n",
       "      <td>58586</td>\n",
       "      <td>movie</td>\n",
       "      <td>A Shot in the Dark</td>\n",
       "      <td>A Shot in the Dark</td>\n",
       "      <td>0</td>\n",
       "      <td>1964</td>\n",
       "      <td>None</td>\n",
       "      <td>102</td>\n",
       "      <td>Comedy,Mystery</td>\n",
       "    </tr>\n",
       "    <tr>\n",
       "      <th>9</th>\n",
       "      <td>5697572</td>\n",
       "      <td>movie</td>\n",
       "      <td>Cats</td>\n",
       "      <td>Cats</td>\n",
       "      <td>0</td>\n",
       "      <td>2019</td>\n",
       "      <td>None</td>\n",
       "      <td>110</td>\n",
       "      <td>Comedy,Drama,Family</td>\n",
       "    </tr>\n",
       "  </tbody>\n",
       "</table>\n",
       "</div>"
      ],
      "text/plain": [
       "    tconst titleType              primaryTitle             originalTitle  \\\n",
       "0  3104988     movie         Crazy Rich Asians         Crazy Rich Asians   \n",
       "1  4595882     movie  Can You Ever Forgive Me?  Can You Ever Forgive Me?   \n",
       "2  2473794     movie                Mr. Turner                Mr. Turner   \n",
       "3  1912398     movie         God Bless America         God Bless America   \n",
       "4   488085     movie               Big Nothing               Big Nothing   \n",
       "5    96251     movie      Tetsuo: The Iron Man                    Tetsuo   \n",
       "6  5719700     movie                Home Again                Home Again   \n",
       "7  4225622     movie            The Babysitter            The Babysitter   \n",
       "8    58586     movie        A Shot in the Dark        A Shot in the Dark   \n",
       "9  5697572     movie                      Cats                      Cats   \n",
       "\n",
       "  isAdult startYear endYear runtimeMinutes                   genres  \n",
       "0       0      2018    None            120     Comedy,Drama,Romance  \n",
       "1       0      2018    None            106   Biography,Comedy,Crime  \n",
       "2       0      2014    None            150  Biography,Drama,History  \n",
       "3       0      2011    None            105       Comedy,Crime,Drama  \n",
       "4       0      2006    None             86    Comedy,Crime,Thriller  \n",
       "5       0      1989    None             67    Fantasy,Horror,Sci-Fi  \n",
       "6       0      2017    None             97     Comedy,Drama,Romance  \n",
       "7       0      2017    None             85            Comedy,Horror  \n",
       "8       0      1964    None            102           Comedy,Mystery  \n",
       "9       0      2019    None            110      Comedy,Drama,Family  "
      ]
     },
     "execution_count": 42,
     "metadata": {},
     "output_type": "execute_result"
    }
   ],
   "source": [
    "%%sql\n",
    "SELECT *\n",
    "FROM Title\n",
    "ORDER BY RANDOM()\n",
    "LIMIT 10;"
   ]
  },
  {
   "cell_type": "markdown",
   "id": "8d237273",
   "metadata": {},
   "source": [
    "#### Matching Text Using `LIKE`"
   ]
  },
  {
   "cell_type": "code",
   "execution_count": 43,
   "id": "098e2035",
   "metadata": {},
   "outputs": [
    {
     "name": "stdout",
     "output_type": "stream",
     "text": [
      "   sqlite:///data/basic_examples.db\n",
      " * sqlite:///data/imdbmini.db\n",
      "Done.\n"
     ]
    },
    {
     "data": {
      "text/html": [
       "<div>\n",
       "<style scoped>\n",
       "    .dataframe tbody tr th:only-of-type {\n",
       "        vertical-align: middle;\n",
       "    }\n",
       "\n",
       "    .dataframe tbody tr th {\n",
       "        vertical-align: top;\n",
       "    }\n",
       "\n",
       "    .dataframe thead th {\n",
       "        text-align: right;\n",
       "    }\n",
       "</style>\n",
       "<table border=\"1\" class=\"dataframe\">\n",
       "  <thead>\n",
       "    <tr style=\"text-align: right;\">\n",
       "      <th></th>\n",
       "      <th>titleType</th>\n",
       "      <th>primaryTitle</th>\n",
       "    </tr>\n",
       "  </thead>\n",
       "  <tbody>\n",
       "    <tr>\n",
       "      <th>0</th>\n",
       "      <td>movie</td>\n",
       "      <td>Star Wars: Episode IV - A New Hope</td>\n",
       "    </tr>\n",
       "    <tr>\n",
       "      <th>1</th>\n",
       "      <td>movie</td>\n",
       "      <td>Star Wars: Episode V - The Empire Strikes Back</td>\n",
       "    </tr>\n",
       "    <tr>\n",
       "      <th>2</th>\n",
       "      <td>movie</td>\n",
       "      <td>Star Wars: Episode VI - Return of the Jedi</td>\n",
       "    </tr>\n",
       "    <tr>\n",
       "      <th>3</th>\n",
       "      <td>movie</td>\n",
       "      <td>Star Wars: Episode I - The Phantom Menace</td>\n",
       "    </tr>\n",
       "    <tr>\n",
       "      <th>4</th>\n",
       "      <td>movie</td>\n",
       "      <td>Star Wars: Episode II - Attack of the Clones</td>\n",
       "    </tr>\n",
       "    <tr>\n",
       "      <th>5</th>\n",
       "      <td>movie</td>\n",
       "      <td>Star Wars: Episode III - Revenge of the Sith</td>\n",
       "    </tr>\n",
       "    <tr>\n",
       "      <th>6</th>\n",
       "      <td>tvSeries</td>\n",
       "      <td>Star Wars: Clone Wars</td>\n",
       "    </tr>\n",
       "    <tr>\n",
       "      <th>7</th>\n",
       "      <td>tvSeries</td>\n",
       "      <td>Star Wars: The Clone Wars</td>\n",
       "    </tr>\n",
       "    <tr>\n",
       "      <th>8</th>\n",
       "      <td>movie</td>\n",
       "      <td>Star Wars: The Clone Wars</td>\n",
       "    </tr>\n",
       "    <tr>\n",
       "      <th>9</th>\n",
       "      <td>movie</td>\n",
       "      <td>Star Wars: Episode VII - The Force Awakens</td>\n",
       "    </tr>\n",
       "    <tr>\n",
       "      <th>10</th>\n",
       "      <td>movie</td>\n",
       "      <td>Star Wars: Episode VIII - The Last Jedi</td>\n",
       "    </tr>\n",
       "    <tr>\n",
       "      <th>11</th>\n",
       "      <td>movie</td>\n",
       "      <td>Star Wars: Episode IX - The Rise of Skywalker</td>\n",
       "    </tr>\n",
       "    <tr>\n",
       "      <th>12</th>\n",
       "      <td>tvSeries</td>\n",
       "      <td>Star Wars Rebels</td>\n",
       "    </tr>\n",
       "    <tr>\n",
       "      <th>13</th>\n",
       "      <td>movie</td>\n",
       "      <td>Rogue One: A Star Wars Story</td>\n",
       "    </tr>\n",
       "    <tr>\n",
       "      <th>14</th>\n",
       "      <td>movie</td>\n",
       "      <td>Solo: A Star Wars Story</td>\n",
       "    </tr>\n",
       "  </tbody>\n",
       "</table>\n",
       "</div>"
      ],
      "text/plain": [
       "   titleType                                    primaryTitle\n",
       "0      movie              Star Wars: Episode IV - A New Hope\n",
       "1      movie  Star Wars: Episode V - The Empire Strikes Back\n",
       "2      movie      Star Wars: Episode VI - Return of the Jedi\n",
       "3      movie       Star Wars: Episode I - The Phantom Menace\n",
       "4      movie    Star Wars: Episode II - Attack of the Clones\n",
       "5      movie    Star Wars: Episode III - Revenge of the Sith\n",
       "6   tvSeries                           Star Wars: Clone Wars\n",
       "7   tvSeries                       Star Wars: The Clone Wars\n",
       "8      movie                       Star Wars: The Clone Wars\n",
       "9      movie      Star Wars: Episode VII - The Force Awakens\n",
       "10     movie         Star Wars: Episode VIII - The Last Jedi\n",
       "11     movie   Star Wars: Episode IX - The Rise of Skywalker\n",
       "12  tvSeries                                Star Wars Rebels\n",
       "13     movie                    Rogue One: A Star Wars Story\n",
       "14     movie                         Solo: A Star Wars Story"
      ]
     },
     "execution_count": 43,
     "metadata": {},
     "output_type": "execute_result"
    }
   ],
   "source": [
    "%%sql\n",
    "SELECT titleType, primaryTitle\n",
    "FROM Title\n",
    "WHERE primaryTitle LIKE \"%Star Wars%\""
   ]
  },
  {
   "cell_type": "code",
   "execution_count": 44,
   "id": "602e9cec",
   "metadata": {},
   "outputs": [
    {
     "name": "stdout",
     "output_type": "stream",
     "text": [
      "   sqlite:///data/basic_examples.db\n",
      " * sqlite:///data/imdbmini.db\n",
      "Done.\n"
     ]
    },
    {
     "data": {
      "text/html": [
       "<div>\n",
       "<style scoped>\n",
       "    .dataframe tbody tr th:only-of-type {\n",
       "        vertical-align: middle;\n",
       "    }\n",
       "\n",
       "    .dataframe tbody tr th {\n",
       "        vertical-align: top;\n",
       "    }\n",
       "\n",
       "    .dataframe thead th {\n",
       "        text-align: right;\n",
       "    }\n",
       "</style>\n",
       "<table border=\"1\" class=\"dataframe\">\n",
       "  <thead>\n",
       "    <tr style=\"text-align: right;\">\n",
       "      <th></th>\n",
       "      <th>titleType</th>\n",
       "      <th>primaryTitle</th>\n",
       "    </tr>\n",
       "  </thead>\n",
       "  <tbody>\n",
       "    <tr>\n",
       "      <th>0</th>\n",
       "      <td>movie</td>\n",
       "      <td>Harry Potter and the Deathly Hallows: Part 1</td>\n",
       "    </tr>\n",
       "    <tr>\n",
       "      <th>1</th>\n",
       "      <td>movie</td>\n",
       "      <td>Harry Potter and the Deathly Hallows: Part 2</td>\n",
       "    </tr>\n",
       "  </tbody>\n",
       "</table>\n",
       "</div>"
      ],
      "text/plain": [
       "  titleType                                  primaryTitle\n",
       "0     movie  Harry Potter and the Deathly Hallows: Part 1\n",
       "1     movie  Harry Potter and the Deathly Hallows: Part 2"
      ]
     },
     "execution_count": 44,
     "metadata": {},
     "output_type": "execute_result"
    }
   ],
   "source": [
    "%%sql\n",
    "SELECT titleType, primaryTitle\n",
    "FROM Title\n",
    "WHERE primaryTitle LIKE \"Harry Potter and the Deathly Hallows: Part _\""
   ]
  },
  {
   "cell_type": "markdown",
   "id": "af016e86",
   "metadata": {},
   "source": [
    "#### Converting Data Types Using `CAST`"
   ]
  },
  {
   "cell_type": "code",
   "execution_count": 45,
   "id": "b0a5b8e2",
   "metadata": {},
   "outputs": [
    {
     "name": "stdout",
     "output_type": "stream",
     "text": [
      "   sqlite:///data/basic_examples.db\n",
      " * sqlite:///data/imdbmini.db\n",
      "Done.\n"
     ]
    },
    {
     "data": {
      "text/html": [
       "<div>\n",
       "<style scoped>\n",
       "    .dataframe tbody tr th:only-of-type {\n",
       "        vertical-align: middle;\n",
       "    }\n",
       "\n",
       "    .dataframe tbody tr th {\n",
       "        vertical-align: top;\n",
       "    }\n",
       "\n",
       "    .dataframe thead th {\n",
       "        text-align: right;\n",
       "    }\n",
       "</style>\n",
       "<table border=\"1\" class=\"dataframe\">\n",
       "  <thead>\n",
       "    <tr style=\"text-align: right;\">\n",
       "      <th></th>\n",
       "      <th>primaryTitle</th>\n",
       "      <th>CAST(runtimeMinutes AS INT)</th>\n",
       "    </tr>\n",
       "  </thead>\n",
       "  <tbody>\n",
       "    <tr>\n",
       "      <th>0</th>\n",
       "      <td>A Trip to the Moon</td>\n",
       "      <td>13</td>\n",
       "    </tr>\n",
       "    <tr>\n",
       "      <th>1</th>\n",
       "      <td>The Birth of a Nation</td>\n",
       "      <td>195</td>\n",
       "    </tr>\n",
       "    <tr>\n",
       "      <th>2</th>\n",
       "      <td>The Cabinet of Dr. Caligari</td>\n",
       "      <td>76</td>\n",
       "    </tr>\n",
       "    <tr>\n",
       "      <th>3</th>\n",
       "      <td>The Kid</td>\n",
       "      <td>68</td>\n",
       "    </tr>\n",
       "    <tr>\n",
       "      <th>4</th>\n",
       "      <td>Nosferatu</td>\n",
       "      <td>94</td>\n",
       "    </tr>\n",
       "    <tr>\n",
       "      <th>5</th>\n",
       "      <td>Sherlock Jr.</td>\n",
       "      <td>45</td>\n",
       "    </tr>\n",
       "    <tr>\n",
       "      <th>6</th>\n",
       "      <td>Battleship Potemkin</td>\n",
       "      <td>75</td>\n",
       "    </tr>\n",
       "    <tr>\n",
       "      <th>7</th>\n",
       "      <td>The Gold Rush</td>\n",
       "      <td>95</td>\n",
       "    </tr>\n",
       "    <tr>\n",
       "      <th>8</th>\n",
       "      <td>Metropolis</td>\n",
       "      <td>153</td>\n",
       "    </tr>\n",
       "    <tr>\n",
       "      <th>9</th>\n",
       "      <td>The General</td>\n",
       "      <td>67</td>\n",
       "    </tr>\n",
       "  </tbody>\n",
       "</table>\n",
       "</div>"
      ],
      "text/plain": [
       "                  primaryTitle  CAST(runtimeMinutes AS INT)\n",
       "0           A Trip to the Moon                           13\n",
       "1        The Birth of a Nation                          195\n",
       "2  The Cabinet of Dr. Caligari                           76\n",
       "3                      The Kid                           68\n",
       "4                    Nosferatu                           94\n",
       "5                 Sherlock Jr.                           45\n",
       "6          Battleship Potemkin                           75\n",
       "7                The Gold Rush                           95\n",
       "8                   Metropolis                          153\n",
       "9                  The General                           67"
      ]
     },
     "execution_count": 45,
     "metadata": {},
     "output_type": "execute_result"
    }
   ],
   "source": [
    "%%sql\n",
    "SELECT primaryTitle, CAST(runtimeMinutes AS INT)\n",
    "FROM Title\n",
    "LIMIT 10;"
   ]
  },
  {
   "cell_type": "markdown",
   "id": "d884854c",
   "metadata": {},
   "source": [
    "### Applying Conditions With `CASE`\n",
    "\n",
    "Here, we return a random order so we can see the various movie ages (otherwise, the top few entries happen to all be old movies)."
   ]
  },
  {
   "cell_type": "code",
   "execution_count": 46,
   "id": "17e4a618",
   "metadata": {},
   "outputs": [
    {
     "name": "stdout",
     "output_type": "stream",
     "text": [
      "   sqlite:///data/basic_examples.db\n",
      " * sqlite:///data/imdbmini.db\n",
      "Done.\n"
     ]
    },
    {
     "data": {
      "text/html": [
       "<div>\n",
       "<style scoped>\n",
       "    .dataframe tbody tr th:only-of-type {\n",
       "        vertical-align: middle;\n",
       "    }\n",
       "\n",
       "    .dataframe tbody tr th {\n",
       "        vertical-align: top;\n",
       "    }\n",
       "\n",
       "    .dataframe thead th {\n",
       "        text-align: right;\n",
       "    }\n",
       "</style>\n",
       "<table border=\"1\" class=\"dataframe\">\n",
       "  <thead>\n",
       "    <tr style=\"text-align: right;\">\n",
       "      <th></th>\n",
       "      <th>titleType</th>\n",
       "      <th>startYear</th>\n",
       "      <th>movie_age</th>\n",
       "    </tr>\n",
       "  </thead>\n",
       "  <tbody>\n",
       "    <tr>\n",
       "      <th>0</th>\n",
       "      <td>movie</td>\n",
       "      <td>1962</td>\n",
       "      <td>mid-aged</td>\n",
       "    </tr>\n",
       "    <tr>\n",
       "      <th>1</th>\n",
       "      <td>movie</td>\n",
       "      <td>1984</td>\n",
       "      <td>mid-aged</td>\n",
       "    </tr>\n",
       "    <tr>\n",
       "      <th>2</th>\n",
       "      <td>movie</td>\n",
       "      <td>1992</td>\n",
       "      <td>mid-aged</td>\n",
       "    </tr>\n",
       "    <tr>\n",
       "      <th>3</th>\n",
       "      <td>movie</td>\n",
       "      <td>1984</td>\n",
       "      <td>mid-aged</td>\n",
       "    </tr>\n",
       "    <tr>\n",
       "      <th>4</th>\n",
       "      <td>movie</td>\n",
       "      <td>1995</td>\n",
       "      <td>mid-aged</td>\n",
       "    </tr>\n",
       "    <tr>\n",
       "      <th>5</th>\n",
       "      <td>movie</td>\n",
       "      <td>2007</td>\n",
       "      <td>new</td>\n",
       "    </tr>\n",
       "    <tr>\n",
       "      <th>6</th>\n",
       "      <td>tvSeries</td>\n",
       "      <td>1998</td>\n",
       "      <td>mid-aged</td>\n",
       "    </tr>\n",
       "    <tr>\n",
       "      <th>7</th>\n",
       "      <td>movie</td>\n",
       "      <td>2014</td>\n",
       "      <td>new</td>\n",
       "    </tr>\n",
       "    <tr>\n",
       "      <th>8</th>\n",
       "      <td>movie</td>\n",
       "      <td>2016</td>\n",
       "      <td>new</td>\n",
       "    </tr>\n",
       "    <tr>\n",
       "      <th>9</th>\n",
       "      <td>movie</td>\n",
       "      <td>2010</td>\n",
       "      <td>new</td>\n",
       "    </tr>\n",
       "  </tbody>\n",
       "</table>\n",
       "</div>"
      ],
      "text/plain": [
       "  titleType startYear movie_age\n",
       "0     movie      1962  mid-aged\n",
       "1     movie      1984  mid-aged\n",
       "2     movie      1992  mid-aged\n",
       "3     movie      1984  mid-aged\n",
       "4     movie      1995  mid-aged\n",
       "5     movie      2007       new\n",
       "6  tvSeries      1998  mid-aged\n",
       "7     movie      2014       new\n",
       "8     movie      2016       new\n",
       "9     movie      2010       new"
      ]
     },
     "execution_count": 46,
     "metadata": {},
     "output_type": "execute_result"
    }
   ],
   "source": [
    "%%sql\n",
    "SELECT titleType, startYear,\n",
    "CASE WHEN startYear < 1950 THEN \"old\"\n",
    "     WHEN startYear < 2000 THEN \"mid-aged\"\n",
    "     ELSE \"new\"\n",
    "     END AS movie_age\n",
    "FROM Title\n",
    "ORDER BY RANDOM()\n",
    "LIMIT 10;"
   ]
  },
  {
   "cell_type": "markdown",
   "id": "51f77876",
   "metadata": {},
   "source": [
    "### Joining Tables\n",
    "\n",
    "We combine data from multiple tables by performing a **join**. We will explore joins using the cats database, which includes two tables: `s` and `t`."
   ]
  },
  {
   "cell_type": "code",
   "execution_count": 47,
   "id": "b68fe887",
   "metadata": {},
   "outputs": [],
   "source": [
    "%%sql\n",
    "sqlite:///data/basic_examples_v2.db"
   ]
  },
  {
   "cell_type": "code",
   "execution_count": 48,
   "id": "e66bbe92",
   "metadata": {},
   "outputs": [
    {
     "name": "stdout",
     "output_type": "stream",
     "text": [
      "   sqlite:///data/basic_examples.db\n",
      " * sqlite:///data/basic_examples_v2.db\n",
      "   sqlite:///data/imdbmini.db\n",
      "Done.\n"
     ]
    },
    {
     "data": {
      "text/html": [
       "<div>\n",
       "<style scoped>\n",
       "    .dataframe tbody tr th:only-of-type {\n",
       "        vertical-align: middle;\n",
       "    }\n",
       "\n",
       "    .dataframe tbody tr th {\n",
       "        vertical-align: top;\n",
       "    }\n",
       "\n",
       "    .dataframe thead th {\n",
       "        text-align: right;\n",
       "    }\n",
       "</style>\n",
       "<table border=\"1\" class=\"dataframe\">\n",
       "  <thead>\n",
       "    <tr style=\"text-align: right;\">\n",
       "      <th></th>\n",
       "      <th>id</th>\n",
       "      <th>name</th>\n",
       "    </tr>\n",
       "  </thead>\n",
       "  <tbody>\n",
       "    <tr>\n",
       "      <th>0</th>\n",
       "      <td>0</td>\n",
       "      <td>Apricot</td>\n",
       "    </tr>\n",
       "    <tr>\n",
       "      <th>1</th>\n",
       "      <td>1</td>\n",
       "      <td>Boots</td>\n",
       "    </tr>\n",
       "    <tr>\n",
       "      <th>2</th>\n",
       "      <td>2</td>\n",
       "      <td>Cally</td>\n",
       "    </tr>\n",
       "    <tr>\n",
       "      <th>3</th>\n",
       "      <td>4</td>\n",
       "      <td>Eugene</td>\n",
       "    </tr>\n",
       "  </tbody>\n",
       "</table>\n",
       "</div>"
      ],
      "text/plain": [
       "   id     name\n",
       "0   0  Apricot\n",
       "1   1    Boots\n",
       "2   2    Cally\n",
       "3   4   Eugene"
      ]
     },
     "execution_count": 48,
     "metadata": {},
     "output_type": "execute_result"
    }
   ],
   "source": [
    "%%sql\n",
    "SELECT * FROM s;"
   ]
  },
  {
   "cell_type": "code",
   "execution_count": 49,
   "id": "c429b9ca",
   "metadata": {},
   "outputs": [
    {
     "name": "stdout",
     "output_type": "stream",
     "text": [
      "   sqlite:///data/basic_examples.db\n",
      " * sqlite:///data/basic_examples_v2.db\n",
      "   sqlite:///data/imdbmini.db\n",
      "Done.\n"
     ]
    },
    {
     "data": {
      "text/html": [
       "<div>\n",
       "<style scoped>\n",
       "    .dataframe tbody tr th:only-of-type {\n",
       "        vertical-align: middle;\n",
       "    }\n",
       "\n",
       "    .dataframe tbody tr th {\n",
       "        vertical-align: top;\n",
       "    }\n",
       "\n",
       "    .dataframe thead th {\n",
       "        text-align: right;\n",
       "    }\n",
       "</style>\n",
       "<table border=\"1\" class=\"dataframe\">\n",
       "  <thead>\n",
       "    <tr style=\"text-align: right;\">\n",
       "      <th></th>\n",
       "      <th>id</th>\n",
       "      <th>breed</th>\n",
       "    </tr>\n",
       "  </thead>\n",
       "  <tbody>\n",
       "    <tr>\n",
       "      <th>0</th>\n",
       "      <td>1</td>\n",
       "      <td>persian</td>\n",
       "    </tr>\n",
       "    <tr>\n",
       "      <th>1</th>\n",
       "      <td>2</td>\n",
       "      <td>ragdoll</td>\n",
       "    </tr>\n",
       "    <tr>\n",
       "      <th>2</th>\n",
       "      <td>4</td>\n",
       "      <td>bengal</td>\n",
       "    </tr>\n",
       "    <tr>\n",
       "      <th>3</th>\n",
       "      <td>5</td>\n",
       "      <td>persian</td>\n",
       "    </tr>\n",
       "  </tbody>\n",
       "</table>\n",
       "</div>"
      ],
      "text/plain": [
       "   id    breed\n",
       "0   1  persian\n",
       "1   2  ragdoll\n",
       "2   4   bengal\n",
       "3   5  persian"
      ]
     },
     "execution_count": 49,
     "metadata": {},
     "output_type": "execute_result"
    }
   ],
   "source": [
    "%%sql\n",
    "SELECT * FROM t;"
   ]
  },
  {
   "cell_type": "markdown",
   "id": "b7493e43",
   "metadata": {},
   "source": [
    "#### Inner Join"
   ]
  },
  {
   "cell_type": "code",
   "execution_count": 50,
   "id": "5786460f",
   "metadata": {},
   "outputs": [
    {
     "name": "stdout",
     "output_type": "stream",
     "text": [
      "   sqlite:///data/basic_examples.db\n",
      " * sqlite:///data/basic_examples_v2.db\n",
      "   sqlite:///data/imdbmini.db\n",
      "Done.\n"
     ]
    },
    {
     "data": {
      "text/html": [
       "<div>\n",
       "<style scoped>\n",
       "    .dataframe tbody tr th:only-of-type {\n",
       "        vertical-align: middle;\n",
       "    }\n",
       "\n",
       "    .dataframe tbody tr th {\n",
       "        vertical-align: top;\n",
       "    }\n",
       "\n",
       "    .dataframe thead th {\n",
       "        text-align: right;\n",
       "    }\n",
       "</style>\n",
       "<table border=\"1\" class=\"dataframe\">\n",
       "  <thead>\n",
       "    <tr style=\"text-align: right;\">\n",
       "      <th></th>\n",
       "      <th>id</th>\n",
       "      <th>name</th>\n",
       "      <th>breed</th>\n",
       "    </tr>\n",
       "  </thead>\n",
       "  <tbody>\n",
       "    <tr>\n",
       "      <th>0</th>\n",
       "      <td>1</td>\n",
       "      <td>Boots</td>\n",
       "      <td>persian</td>\n",
       "    </tr>\n",
       "    <tr>\n",
       "      <th>1</th>\n",
       "      <td>2</td>\n",
       "      <td>Cally</td>\n",
       "      <td>ragdoll</td>\n",
       "    </tr>\n",
       "    <tr>\n",
       "      <th>2</th>\n",
       "      <td>4</td>\n",
       "      <td>Eugene</td>\n",
       "      <td>bengal</td>\n",
       "    </tr>\n",
       "  </tbody>\n",
       "</table>\n",
       "</div>"
      ],
      "text/plain": [
       "   id    name    breed\n",
       "0   1   Boots  persian\n",
       "1   2   Cally  ragdoll\n",
       "2   4  Eugene   bengal"
      ]
     },
     "execution_count": 50,
     "metadata": {},
     "output_type": "execute_result"
    }
   ],
   "source": [
    "%%sql\n",
    "SELECT s.id, name, breed\n",
    "FROM s INNER JOIN t ON s.id = t.id;"
   ]
  },
  {
   "cell_type": "markdown",
   "id": "4e2735e4",
   "metadata": {},
   "source": [
    "By default, `JOIN`ing without specifying a join type will default to an inner join."
   ]
  },
  {
   "cell_type": "code",
   "execution_count": 51,
   "id": "a3a8c88a",
   "metadata": {},
   "outputs": [
    {
     "name": "stdout",
     "output_type": "stream",
     "text": [
      "   sqlite:///data/basic_examples.db\n",
      " * sqlite:///data/basic_examples_v2.db\n",
      "   sqlite:///data/imdbmini.db\n",
      "Done.\n"
     ]
    },
    {
     "data": {
      "text/html": [
       "<div>\n",
       "<style scoped>\n",
       "    .dataframe tbody tr th:only-of-type {\n",
       "        vertical-align: middle;\n",
       "    }\n",
       "\n",
       "    .dataframe tbody tr th {\n",
       "        vertical-align: top;\n",
       "    }\n",
       "\n",
       "    .dataframe thead th {\n",
       "        text-align: right;\n",
       "    }\n",
       "</style>\n",
       "<table border=\"1\" class=\"dataframe\">\n",
       "  <thead>\n",
       "    <tr style=\"text-align: right;\">\n",
       "      <th></th>\n",
       "      <th>id</th>\n",
       "      <th>name</th>\n",
       "      <th>breed</th>\n",
       "    </tr>\n",
       "  </thead>\n",
       "  <tbody>\n",
       "    <tr>\n",
       "      <th>0</th>\n",
       "      <td>1</td>\n",
       "      <td>Boots</td>\n",
       "      <td>persian</td>\n",
       "    </tr>\n",
       "    <tr>\n",
       "      <th>1</th>\n",
       "      <td>2</td>\n",
       "      <td>Cally</td>\n",
       "      <td>ragdoll</td>\n",
       "    </tr>\n",
       "    <tr>\n",
       "      <th>2</th>\n",
       "      <td>4</td>\n",
       "      <td>Eugene</td>\n",
       "      <td>bengal</td>\n",
       "    </tr>\n",
       "  </tbody>\n",
       "</table>\n",
       "</div>"
      ],
      "text/plain": [
       "   id    name    breed\n",
       "0   1   Boots  persian\n",
       "1   2   Cally  ragdoll\n",
       "2   4  Eugene   bengal"
      ]
     },
     "execution_count": 51,
     "metadata": {},
     "output_type": "execute_result"
    }
   ],
   "source": [
    "%%sql\n",
    "SELECT s.id, name, breed\n",
    "FROM s JOIN t ON s.id = t.id;"
   ]
  },
  {
   "cell_type": "markdown",
   "id": "58c5b565",
   "metadata": {},
   "source": [
    "### Cross Join"
   ]
  },
  {
   "cell_type": "code",
   "execution_count": 52,
   "id": "e64c96b0",
   "metadata": {},
   "outputs": [
    {
     "name": "stdout",
     "output_type": "stream",
     "text": [
      "   sqlite:///data/basic_examples.db\n",
      " * sqlite:///data/basic_examples_v2.db\n",
      "   sqlite:///data/imdbmini.db\n",
      "Done.\n"
     ]
    },
    {
     "data": {
      "text/html": [
       "<div>\n",
       "<style scoped>\n",
       "    .dataframe tbody tr th:only-of-type {\n",
       "        vertical-align: middle;\n",
       "    }\n",
       "\n",
       "    .dataframe tbody tr th {\n",
       "        vertical-align: top;\n",
       "    }\n",
       "\n",
       "    .dataframe thead th {\n",
       "        text-align: right;\n",
       "    }\n",
       "</style>\n",
       "<table border=\"1\" class=\"dataframe\">\n",
       "  <thead>\n",
       "    <tr style=\"text-align: right;\">\n",
       "      <th></th>\n",
       "      <th>id</th>\n",
       "      <th>name</th>\n",
       "      <th>id</th>\n",
       "      <th>breed</th>\n",
       "    </tr>\n",
       "  </thead>\n",
       "  <tbody>\n",
       "    <tr>\n",
       "      <th>0</th>\n",
       "      <td>0</td>\n",
       "      <td>Apricot</td>\n",
       "      <td>1</td>\n",
       "      <td>persian</td>\n",
       "    </tr>\n",
       "    <tr>\n",
       "      <th>1</th>\n",
       "      <td>0</td>\n",
       "      <td>Apricot</td>\n",
       "      <td>2</td>\n",
       "      <td>ragdoll</td>\n",
       "    </tr>\n",
       "    <tr>\n",
       "      <th>2</th>\n",
       "      <td>0</td>\n",
       "      <td>Apricot</td>\n",
       "      <td>4</td>\n",
       "      <td>bengal</td>\n",
       "    </tr>\n",
       "    <tr>\n",
       "      <th>3</th>\n",
       "      <td>0</td>\n",
       "      <td>Apricot</td>\n",
       "      <td>5</td>\n",
       "      <td>persian</td>\n",
       "    </tr>\n",
       "    <tr>\n",
       "      <th>4</th>\n",
       "      <td>1</td>\n",
       "      <td>Boots</td>\n",
       "      <td>1</td>\n",
       "      <td>persian</td>\n",
       "    </tr>\n",
       "    <tr>\n",
       "      <th>5</th>\n",
       "      <td>1</td>\n",
       "      <td>Boots</td>\n",
       "      <td>2</td>\n",
       "      <td>ragdoll</td>\n",
       "    </tr>\n",
       "    <tr>\n",
       "      <th>6</th>\n",
       "      <td>1</td>\n",
       "      <td>Boots</td>\n",
       "      <td>4</td>\n",
       "      <td>bengal</td>\n",
       "    </tr>\n",
       "    <tr>\n",
       "      <th>7</th>\n",
       "      <td>1</td>\n",
       "      <td>Boots</td>\n",
       "      <td>5</td>\n",
       "      <td>persian</td>\n",
       "    </tr>\n",
       "    <tr>\n",
       "      <th>8</th>\n",
       "      <td>2</td>\n",
       "      <td>Cally</td>\n",
       "      <td>1</td>\n",
       "      <td>persian</td>\n",
       "    </tr>\n",
       "    <tr>\n",
       "      <th>9</th>\n",
       "      <td>2</td>\n",
       "      <td>Cally</td>\n",
       "      <td>2</td>\n",
       "      <td>ragdoll</td>\n",
       "    </tr>\n",
       "    <tr>\n",
       "      <th>10</th>\n",
       "      <td>2</td>\n",
       "      <td>Cally</td>\n",
       "      <td>4</td>\n",
       "      <td>bengal</td>\n",
       "    </tr>\n",
       "    <tr>\n",
       "      <th>11</th>\n",
       "      <td>2</td>\n",
       "      <td>Cally</td>\n",
       "      <td>5</td>\n",
       "      <td>persian</td>\n",
       "    </tr>\n",
       "    <tr>\n",
       "      <th>12</th>\n",
       "      <td>4</td>\n",
       "      <td>Eugene</td>\n",
       "      <td>1</td>\n",
       "      <td>persian</td>\n",
       "    </tr>\n",
       "    <tr>\n",
       "      <th>13</th>\n",
       "      <td>4</td>\n",
       "      <td>Eugene</td>\n",
       "      <td>2</td>\n",
       "      <td>ragdoll</td>\n",
       "    </tr>\n",
       "    <tr>\n",
       "      <th>14</th>\n",
       "      <td>4</td>\n",
       "      <td>Eugene</td>\n",
       "      <td>4</td>\n",
       "      <td>bengal</td>\n",
       "    </tr>\n",
       "    <tr>\n",
       "      <th>15</th>\n",
       "      <td>4</td>\n",
       "      <td>Eugene</td>\n",
       "      <td>5</td>\n",
       "      <td>persian</td>\n",
       "    </tr>\n",
       "  </tbody>\n",
       "</table>\n",
       "</div>"
      ],
      "text/plain": [
       "    id     name  id    breed\n",
       "0    0  Apricot   1  persian\n",
       "1    0  Apricot   2  ragdoll\n",
       "2    0  Apricot   4   bengal\n",
       "3    0  Apricot   5  persian\n",
       "4    1    Boots   1  persian\n",
       "5    1    Boots   2  ragdoll\n",
       "6    1    Boots   4   bengal\n",
       "7    1    Boots   5  persian\n",
       "8    2    Cally   1  persian\n",
       "9    2    Cally   2  ragdoll\n",
       "10   2    Cally   4   bengal\n",
       "11   2    Cally   5  persian\n",
       "12   4   Eugene   1  persian\n",
       "13   4   Eugene   2  ragdoll\n",
       "14   4   Eugene   4   bengal\n",
       "15   4   Eugene   5  persian"
      ]
     },
     "execution_count": 52,
     "metadata": {},
     "output_type": "execute_result"
    }
   ],
   "source": [
    "%%sql\n",
    "SELECT *\n",
    "FROM s CROSS JOIN t;"
   ]
  },
  {
   "cell_type": "markdown",
   "id": "4e4cefe7",
   "metadata": {},
   "source": [
    "Equivalently, a cross join can be performed using the following syntax:"
   ]
  },
  {
   "cell_type": "code",
   "execution_count": 53,
   "id": "06f7a695",
   "metadata": {},
   "outputs": [
    {
     "name": "stdout",
     "output_type": "stream",
     "text": [
      "   sqlite:///data/basic_examples.db\n",
      " * sqlite:///data/basic_examples_v2.db\n",
      "   sqlite:///data/imdbmini.db\n",
      "Done.\n"
     ]
    },
    {
     "data": {
      "text/html": [
       "<div>\n",
       "<style scoped>\n",
       "    .dataframe tbody tr th:only-of-type {\n",
       "        vertical-align: middle;\n",
       "    }\n",
       "\n",
       "    .dataframe tbody tr th {\n",
       "        vertical-align: top;\n",
       "    }\n",
       "\n",
       "    .dataframe thead th {\n",
       "        text-align: right;\n",
       "    }\n",
       "</style>\n",
       "<table border=\"1\" class=\"dataframe\">\n",
       "  <thead>\n",
       "    <tr style=\"text-align: right;\">\n",
       "      <th></th>\n",
       "      <th>id</th>\n",
       "      <th>name</th>\n",
       "      <th>id</th>\n",
       "      <th>breed</th>\n",
       "    </tr>\n",
       "  </thead>\n",
       "  <tbody>\n",
       "    <tr>\n",
       "      <th>0</th>\n",
       "      <td>0</td>\n",
       "      <td>Apricot</td>\n",
       "      <td>1</td>\n",
       "      <td>persian</td>\n",
       "    </tr>\n",
       "    <tr>\n",
       "      <th>1</th>\n",
       "      <td>0</td>\n",
       "      <td>Apricot</td>\n",
       "      <td>2</td>\n",
       "      <td>ragdoll</td>\n",
       "    </tr>\n",
       "    <tr>\n",
       "      <th>2</th>\n",
       "      <td>0</td>\n",
       "      <td>Apricot</td>\n",
       "      <td>4</td>\n",
       "      <td>bengal</td>\n",
       "    </tr>\n",
       "    <tr>\n",
       "      <th>3</th>\n",
       "      <td>0</td>\n",
       "      <td>Apricot</td>\n",
       "      <td>5</td>\n",
       "      <td>persian</td>\n",
       "    </tr>\n",
       "    <tr>\n",
       "      <th>4</th>\n",
       "      <td>1</td>\n",
       "      <td>Boots</td>\n",
       "      <td>1</td>\n",
       "      <td>persian</td>\n",
       "    </tr>\n",
       "    <tr>\n",
       "      <th>5</th>\n",
       "      <td>1</td>\n",
       "      <td>Boots</td>\n",
       "      <td>2</td>\n",
       "      <td>ragdoll</td>\n",
       "    </tr>\n",
       "    <tr>\n",
       "      <th>6</th>\n",
       "      <td>1</td>\n",
       "      <td>Boots</td>\n",
       "      <td>4</td>\n",
       "      <td>bengal</td>\n",
       "    </tr>\n",
       "    <tr>\n",
       "      <th>7</th>\n",
       "      <td>1</td>\n",
       "      <td>Boots</td>\n",
       "      <td>5</td>\n",
       "      <td>persian</td>\n",
       "    </tr>\n",
       "    <tr>\n",
       "      <th>8</th>\n",
       "      <td>2</td>\n",
       "      <td>Cally</td>\n",
       "      <td>1</td>\n",
       "      <td>persian</td>\n",
       "    </tr>\n",
       "    <tr>\n",
       "      <th>9</th>\n",
       "      <td>2</td>\n",
       "      <td>Cally</td>\n",
       "      <td>2</td>\n",
       "      <td>ragdoll</td>\n",
       "    </tr>\n",
       "    <tr>\n",
       "      <th>10</th>\n",
       "      <td>2</td>\n",
       "      <td>Cally</td>\n",
       "      <td>4</td>\n",
       "      <td>bengal</td>\n",
       "    </tr>\n",
       "    <tr>\n",
       "      <th>11</th>\n",
       "      <td>2</td>\n",
       "      <td>Cally</td>\n",
       "      <td>5</td>\n",
       "      <td>persian</td>\n",
       "    </tr>\n",
       "    <tr>\n",
       "      <th>12</th>\n",
       "      <td>4</td>\n",
       "      <td>Eugene</td>\n",
       "      <td>1</td>\n",
       "      <td>persian</td>\n",
       "    </tr>\n",
       "    <tr>\n",
       "      <th>13</th>\n",
       "      <td>4</td>\n",
       "      <td>Eugene</td>\n",
       "      <td>2</td>\n",
       "      <td>ragdoll</td>\n",
       "    </tr>\n",
       "    <tr>\n",
       "      <th>14</th>\n",
       "      <td>4</td>\n",
       "      <td>Eugene</td>\n",
       "      <td>4</td>\n",
       "      <td>bengal</td>\n",
       "    </tr>\n",
       "    <tr>\n",
       "      <th>15</th>\n",
       "      <td>4</td>\n",
       "      <td>Eugene</td>\n",
       "      <td>5</td>\n",
       "      <td>persian</td>\n",
       "    </tr>\n",
       "  </tbody>\n",
       "</table>\n",
       "</div>"
      ],
      "text/plain": [
       "    id     name  id    breed\n",
       "0    0  Apricot   1  persian\n",
       "1    0  Apricot   2  ragdoll\n",
       "2    0  Apricot   4   bengal\n",
       "3    0  Apricot   5  persian\n",
       "4    1    Boots   1  persian\n",
       "5    1    Boots   2  ragdoll\n",
       "6    1    Boots   4   bengal\n",
       "7    1    Boots   5  persian\n",
       "8    2    Cally   1  persian\n",
       "9    2    Cally   2  ragdoll\n",
       "10   2    Cally   4   bengal\n",
       "11   2    Cally   5  persian\n",
       "12   4   Eugene   1  persian\n",
       "13   4   Eugene   2  ragdoll\n",
       "14   4   Eugene   4   bengal\n",
       "15   4   Eugene   5  persian"
      ]
     },
     "execution_count": 53,
     "metadata": {},
     "output_type": "execute_result"
    }
   ],
   "source": [
    "%%sql\n",
    "SELECT *\n",
    "FROM s, t;"
   ]
  },
  {
   "cell_type": "markdown",
   "id": "a66e815a",
   "metadata": {},
   "source": [
    "Conceptually, an inner join is equivalent to a cross join where irrelevant rows are removed."
   ]
  },
  {
   "cell_type": "code",
   "execution_count": 54,
   "id": "d155bab2",
   "metadata": {},
   "outputs": [
    {
     "name": "stdout",
     "output_type": "stream",
     "text": [
      "   sqlite:///data/basic_examples.db\n",
      " * sqlite:///data/basic_examples_v2.db\n",
      "   sqlite:///data/imdbmini.db\n",
      "Done.\n"
     ]
    },
    {
     "data": {
      "text/html": [
       "<div>\n",
       "<style scoped>\n",
       "    .dataframe tbody tr th:only-of-type {\n",
       "        vertical-align: middle;\n",
       "    }\n",
       "\n",
       "    .dataframe tbody tr th {\n",
       "        vertical-align: top;\n",
       "    }\n",
       "\n",
       "    .dataframe thead th {\n",
       "        text-align: right;\n",
       "    }\n",
       "</style>\n",
       "<table border=\"1\" class=\"dataframe\">\n",
       "  <thead>\n",
       "    <tr style=\"text-align: right;\">\n",
       "      <th></th>\n",
       "      <th>id</th>\n",
       "      <th>name</th>\n",
       "      <th>id</th>\n",
       "      <th>breed</th>\n",
       "    </tr>\n",
       "  </thead>\n",
       "  <tbody>\n",
       "    <tr>\n",
       "      <th>0</th>\n",
       "      <td>1</td>\n",
       "      <td>Boots</td>\n",
       "      <td>1</td>\n",
       "      <td>persian</td>\n",
       "    </tr>\n",
       "    <tr>\n",
       "      <th>1</th>\n",
       "      <td>2</td>\n",
       "      <td>Cally</td>\n",
       "      <td>2</td>\n",
       "      <td>ragdoll</td>\n",
       "    </tr>\n",
       "    <tr>\n",
       "      <th>2</th>\n",
       "      <td>4</td>\n",
       "      <td>Eugene</td>\n",
       "      <td>4</td>\n",
       "      <td>bengal</td>\n",
       "    </tr>\n",
       "  </tbody>\n",
       "</table>\n",
       "</div>"
      ],
      "text/plain": [
       "   id    name  id    breed\n",
       "0   1   Boots   1  persian\n",
       "1   2   Cally   2  ragdoll\n",
       "2   4  Eugene   4   bengal"
      ]
     },
     "execution_count": 54,
     "metadata": {},
     "output_type": "execute_result"
    }
   ],
   "source": [
    "%%sql\n",
    "SELECT *\n",
    "FROM s CROSS JOIN t\n",
    "WHERE s.id = t.id;"
   ]
  },
  {
   "cell_type": "markdown",
   "id": "e8e71b44",
   "metadata": {},
   "source": [
    "#### Left Outer Join"
   ]
  },
  {
   "cell_type": "code",
   "execution_count": 55,
   "id": "47805531",
   "metadata": {},
   "outputs": [
    {
     "name": "stdout",
     "output_type": "stream",
     "text": [
      "   sqlite:///data/basic_examples.db\n",
      " * sqlite:///data/basic_examples_v2.db\n",
      "   sqlite:///data/imdbmini.db\n",
      "Done.\n"
     ]
    },
    {
     "data": {
      "text/html": [
       "<div>\n",
       "<style scoped>\n",
       "    .dataframe tbody tr th:only-of-type {\n",
       "        vertical-align: middle;\n",
       "    }\n",
       "\n",
       "    .dataframe tbody tr th {\n",
       "        vertical-align: top;\n",
       "    }\n",
       "\n",
       "    .dataframe thead th {\n",
       "        text-align: right;\n",
       "    }\n",
       "</style>\n",
       "<table border=\"1\" class=\"dataframe\">\n",
       "  <thead>\n",
       "    <tr style=\"text-align: right;\">\n",
       "      <th></th>\n",
       "      <th>id</th>\n",
       "      <th>name</th>\n",
       "      <th>id</th>\n",
       "      <th>breed</th>\n",
       "    </tr>\n",
       "  </thead>\n",
       "  <tbody>\n",
       "    <tr>\n",
       "      <th>0</th>\n",
       "      <td>0</td>\n",
       "      <td>Apricot</td>\n",
       "      <td>NaN</td>\n",
       "      <td>None</td>\n",
       "    </tr>\n",
       "    <tr>\n",
       "      <th>1</th>\n",
       "      <td>1</td>\n",
       "      <td>Boots</td>\n",
       "      <td>1.0</td>\n",
       "      <td>persian</td>\n",
       "    </tr>\n",
       "    <tr>\n",
       "      <th>2</th>\n",
       "      <td>2</td>\n",
       "      <td>Cally</td>\n",
       "      <td>2.0</td>\n",
       "      <td>ragdoll</td>\n",
       "    </tr>\n",
       "    <tr>\n",
       "      <th>3</th>\n",
       "      <td>4</td>\n",
       "      <td>Eugene</td>\n",
       "      <td>4.0</td>\n",
       "      <td>bengal</td>\n",
       "    </tr>\n",
       "  </tbody>\n",
       "</table>\n",
       "</div>"
      ],
      "text/plain": [
       "   id     name   id    breed\n",
       "0   0  Apricot  NaN     None\n",
       "1   1    Boots  1.0  persian\n",
       "2   2    Cally  2.0  ragdoll\n",
       "3   4   Eugene  4.0   bengal"
      ]
     },
     "execution_count": 55,
     "metadata": {},
     "output_type": "execute_result"
    }
   ],
   "source": [
    "%%sql\n",
    "SELECT *\n",
    "FROM s LEFT JOIN t ON s.id = t.id;"
   ]
  },
  {
   "cell_type": "markdown",
   "id": "748181a5",
   "metadata": {},
   "source": [
    "#### Right Outer Join"
   ]
  },
  {
   "cell_type": "code",
   "execution_count": 56,
   "id": "30957eb0",
   "metadata": {},
   "outputs": [
    {
     "name": "stdout",
     "output_type": "stream",
     "text": [
      "   sqlite:///data/basic_examples.db\n",
      " * sqlite:///data/basic_examples_v2.db\n",
      "   sqlite:///data/imdbmini.db\n",
      "Done.\n"
     ]
    },
    {
     "data": {
      "text/html": [
       "<div>\n",
       "<style scoped>\n",
       "    .dataframe tbody tr th:only-of-type {\n",
       "        vertical-align: middle;\n",
       "    }\n",
       "\n",
       "    .dataframe tbody tr th {\n",
       "        vertical-align: top;\n",
       "    }\n",
       "\n",
       "    .dataframe thead th {\n",
       "        text-align: right;\n",
       "    }\n",
       "</style>\n",
       "<table border=\"1\" class=\"dataframe\">\n",
       "  <thead>\n",
       "    <tr style=\"text-align: right;\">\n",
       "      <th></th>\n",
       "      <th>id</th>\n",
       "      <th>name</th>\n",
       "      <th>id</th>\n",
       "      <th>breed</th>\n",
       "    </tr>\n",
       "  </thead>\n",
       "  <tbody>\n",
       "    <tr>\n",
       "      <th>0</th>\n",
       "      <td>1.0</td>\n",
       "      <td>Boots</td>\n",
       "      <td>1</td>\n",
       "      <td>persian</td>\n",
       "    </tr>\n",
       "    <tr>\n",
       "      <th>1</th>\n",
       "      <td>2.0</td>\n",
       "      <td>Cally</td>\n",
       "      <td>2</td>\n",
       "      <td>ragdoll</td>\n",
       "    </tr>\n",
       "    <tr>\n",
       "      <th>2</th>\n",
       "      <td>4.0</td>\n",
       "      <td>Eugene</td>\n",
       "      <td>4</td>\n",
       "      <td>bengal</td>\n",
       "    </tr>\n",
       "    <tr>\n",
       "      <th>3</th>\n",
       "      <td>NaN</td>\n",
       "      <td>None</td>\n",
       "      <td>5</td>\n",
       "      <td>persian</td>\n",
       "    </tr>\n",
       "  </tbody>\n",
       "</table>\n",
       "</div>"
      ],
      "text/plain": [
       "    id    name  id    breed\n",
       "0  1.0   Boots   1  persian\n",
       "1  2.0   Cally   2  ragdoll\n",
       "2  4.0  Eugene   4   bengal\n",
       "3  NaN    None   5  persian"
      ]
     },
     "execution_count": 56,
     "metadata": {},
     "output_type": "execute_result"
    }
   ],
   "source": [
    "%%sql\n",
    "SELECT *\n",
    "FROM s RIGHT JOIN t ON s.id = t.id;"
   ]
  },
  {
   "cell_type": "markdown",
   "id": "c7ab1464",
   "metadata": {},
   "source": [
    "#### Full Outer Join"
   ]
  },
  {
   "cell_type": "code",
   "execution_count": 57,
   "id": "992fa08d",
   "metadata": {},
   "outputs": [
    {
     "name": "stdout",
     "output_type": "stream",
     "text": [
      "   sqlite:///data/basic_examples.db\n",
      " * sqlite:///data/basic_examples_v2.db\n",
      "   sqlite:///data/imdbmini.db\n",
      "Done.\n"
     ]
    },
    {
     "data": {
      "text/html": [
       "<div>\n",
       "<style scoped>\n",
       "    .dataframe tbody tr th:only-of-type {\n",
       "        vertical-align: middle;\n",
       "    }\n",
       "\n",
       "    .dataframe tbody tr th {\n",
       "        vertical-align: top;\n",
       "    }\n",
       "\n",
       "    .dataframe thead th {\n",
       "        text-align: right;\n",
       "    }\n",
       "</style>\n",
       "<table border=\"1\" class=\"dataframe\">\n",
       "  <thead>\n",
       "    <tr style=\"text-align: right;\">\n",
       "      <th></th>\n",
       "      <th>id</th>\n",
       "      <th>name</th>\n",
       "      <th>id</th>\n",
       "      <th>breed</th>\n",
       "    </tr>\n",
       "  </thead>\n",
       "  <tbody>\n",
       "    <tr>\n",
       "      <th>0</th>\n",
       "      <td>0.0</td>\n",
       "      <td>Apricot</td>\n",
       "      <td>NaN</td>\n",
       "      <td>None</td>\n",
       "    </tr>\n",
       "    <tr>\n",
       "      <th>1</th>\n",
       "      <td>1.0</td>\n",
       "      <td>Boots</td>\n",
       "      <td>1.0</td>\n",
       "      <td>persian</td>\n",
       "    </tr>\n",
       "    <tr>\n",
       "      <th>2</th>\n",
       "      <td>2.0</td>\n",
       "      <td>Cally</td>\n",
       "      <td>2.0</td>\n",
       "      <td>ragdoll</td>\n",
       "    </tr>\n",
       "    <tr>\n",
       "      <th>3</th>\n",
       "      <td>4.0</td>\n",
       "      <td>Eugene</td>\n",
       "      <td>4.0</td>\n",
       "      <td>bengal</td>\n",
       "    </tr>\n",
       "    <tr>\n",
       "      <th>4</th>\n",
       "      <td>NaN</td>\n",
       "      <td>None</td>\n",
       "      <td>5.0</td>\n",
       "      <td>persian</td>\n",
       "    </tr>\n",
       "  </tbody>\n",
       "</table>\n",
       "</div>"
      ],
      "text/plain": [
       "    id     name   id    breed\n",
       "0  0.0  Apricot  NaN     None\n",
       "1  1.0    Boots  1.0  persian\n",
       "2  2.0    Cally  2.0  ragdoll\n",
       "3  4.0   Eugene  4.0   bengal\n",
       "4  NaN     None  5.0  persian"
      ]
     },
     "execution_count": 57,
     "metadata": {},
     "output_type": "execute_result"
    }
   ],
   "source": [
    "%%sql\n",
    "SELECT *\n",
    "FROM s FULL JOIN t ON s.id = t.id;"
   ]
  },
  {
   "cell_type": "markdown",
   "id": "6e2f2af9",
   "metadata": {},
   "source": [
    "#### Aliasing in Joins\n",
    "\n",
    "Let's return to the IMDB dataset. Now, we'll consider two tables: `Title` and `Rating`."
   ]
  },
  {
   "cell_type": "code",
   "execution_count": 58,
   "id": "164bb105",
   "metadata": {},
   "outputs": [],
   "source": [
    "%%sql\n",
    "sqlite:///data/imdbmini.db"
   ]
  },
  {
   "cell_type": "markdown",
   "id": "c749f273",
   "metadata": {},
   "source": [
    "When working with tables that have long names, we often create an **alias** using the `AS` keyword (much like we did with columns in the previous lecture). This makes it easier to reference these tables when performing a join."
   ]
  },
  {
   "cell_type": "code",
   "execution_count": 59,
   "id": "f6d54b00",
   "metadata": {},
   "outputs": [
    {
     "name": "stdout",
     "output_type": "stream",
     "text": [
      "   sqlite:///data/basic_examples.db\n",
      "   sqlite:///data/basic_examples_v2.db\n",
      " * sqlite:///data/imdbmini.db\n",
      "Done.\n"
     ]
    },
    {
     "data": {
      "text/html": [
       "<div>\n",
       "<style scoped>\n",
       "    .dataframe tbody tr th:only-of-type {\n",
       "        vertical-align: middle;\n",
       "    }\n",
       "\n",
       "    .dataframe tbody tr th {\n",
       "        vertical-align: top;\n",
       "    }\n",
       "\n",
       "    .dataframe thead th {\n",
       "        text-align: right;\n",
       "    }\n",
       "</style>\n",
       "<table border=\"1\" class=\"dataframe\">\n",
       "  <thead>\n",
       "    <tr style=\"text-align: right;\">\n",
       "      <th></th>\n",
       "      <th>primaryTitle</th>\n",
       "      <th>averageRating</th>\n",
       "    </tr>\n",
       "  </thead>\n",
       "  <tbody>\n",
       "    <tr>\n",
       "      <th>0</th>\n",
       "      <td>A Trip to the Moon</td>\n",
       "      <td>8.2</td>\n",
       "    </tr>\n",
       "    <tr>\n",
       "      <th>1</th>\n",
       "      <td>The Birth of a Nation</td>\n",
       "      <td>6.3</td>\n",
       "    </tr>\n",
       "    <tr>\n",
       "      <th>2</th>\n",
       "      <td>The Cabinet of Dr. Caligari</td>\n",
       "      <td>8.1</td>\n",
       "    </tr>\n",
       "    <tr>\n",
       "      <th>3</th>\n",
       "      <td>The Kid</td>\n",
       "      <td>8.3</td>\n",
       "    </tr>\n",
       "    <tr>\n",
       "      <th>4</th>\n",
       "      <td>Nosferatu</td>\n",
       "      <td>7.9</td>\n",
       "    </tr>\n",
       "    <tr>\n",
       "      <th>...</th>\n",
       "      <td>...</td>\n",
       "      <td>...</td>\n",
       "    </tr>\n",
       "    <tr>\n",
       "      <th>7569</th>\n",
       "      <td>Hollywood</td>\n",
       "      <td>7.5</td>\n",
       "    </tr>\n",
       "    <tr>\n",
       "      <th>7570</th>\n",
       "      <td>Holidate</td>\n",
       "      <td>6.1</td>\n",
       "    </tr>\n",
       "    <tr>\n",
       "      <th>7571</th>\n",
       "      <td>I Care a Lot</td>\n",
       "      <td>6.3</td>\n",
       "    </tr>\n",
       "    <tr>\n",
       "      <th>7572</th>\n",
       "      <td>Perfect Game</td>\n",
       "      <td>9.9</td>\n",
       "    </tr>\n",
       "    <tr>\n",
       "      <th>7573</th>\n",
       "      <td>Hero</td>\n",
       "      <td>9.9</td>\n",
       "    </tr>\n",
       "  </tbody>\n",
       "</table>\n",
       "<p>7574 rows × 2 columns</p>\n",
       "</div>"
      ],
      "text/plain": [
       "                     primaryTitle averageRating\n",
       "0              A Trip to the Moon           8.2\n",
       "1           The Birth of a Nation           6.3\n",
       "2     The Cabinet of Dr. Caligari           8.1\n",
       "3                         The Kid           8.3\n",
       "4                       Nosferatu           7.9\n",
       "...                           ...           ...\n",
       "7569                    Hollywood           7.5\n",
       "7570                     Holidate           6.1\n",
       "7571                 I Care a Lot           6.3\n",
       "7572                 Perfect Game           9.9\n",
       "7573                         Hero           9.9\n",
       "\n",
       "[7574 rows x 2 columns]"
      ]
     },
     "execution_count": 59,
     "metadata": {},
     "output_type": "execute_result"
    }
   ],
   "source": [
    "%%sql\n",
    "SELECT primaryTitle, averageRating\n",
    "FROM Title AS T INNER JOIN Rating AS R\n",
    "ON T.tconst = R.tconst;"
   ]
  },
  {
   "cell_type": "markdown",
   "id": "e1f1a406",
   "metadata": {},
   "source": [
    "The `AS` keyword is optional – omitting it will still create an alias. We typically include `AS` to make our queries more readable."
   ]
  },
  {
   "cell_type": "code",
   "execution_count": 60,
   "id": "f214dcd3",
   "metadata": {},
   "outputs": [
    {
     "name": "stdout",
     "output_type": "stream",
     "text": [
      "   sqlite:///data/basic_examples.db\n",
      "   sqlite:///data/basic_examples_v2.db\n",
      " * sqlite:///data/imdbmini.db\n",
      "Done.\n"
     ]
    },
    {
     "data": {
      "text/html": [
       "<div>\n",
       "<style scoped>\n",
       "    .dataframe tbody tr th:only-of-type {\n",
       "        vertical-align: middle;\n",
       "    }\n",
       "\n",
       "    .dataframe tbody tr th {\n",
       "        vertical-align: top;\n",
       "    }\n",
       "\n",
       "    .dataframe thead th {\n",
       "        text-align: right;\n",
       "    }\n",
       "</style>\n",
       "<table border=\"1\" class=\"dataframe\">\n",
       "  <thead>\n",
       "    <tr style=\"text-align: right;\">\n",
       "      <th></th>\n",
       "      <th>primaryTitle</th>\n",
       "      <th>averageRating</th>\n",
       "    </tr>\n",
       "  </thead>\n",
       "  <tbody>\n",
       "    <tr>\n",
       "      <th>0</th>\n",
       "      <td>A Trip to the Moon</td>\n",
       "      <td>8.2</td>\n",
       "    </tr>\n",
       "    <tr>\n",
       "      <th>1</th>\n",
       "      <td>The Birth of a Nation</td>\n",
       "      <td>6.3</td>\n",
       "    </tr>\n",
       "    <tr>\n",
       "      <th>2</th>\n",
       "      <td>The Cabinet of Dr. Caligari</td>\n",
       "      <td>8.1</td>\n",
       "    </tr>\n",
       "    <tr>\n",
       "      <th>3</th>\n",
       "      <td>The Kid</td>\n",
       "      <td>8.3</td>\n",
       "    </tr>\n",
       "    <tr>\n",
       "      <th>4</th>\n",
       "      <td>Nosferatu</td>\n",
       "      <td>7.9</td>\n",
       "    </tr>\n",
       "    <tr>\n",
       "      <th>...</th>\n",
       "      <td>...</td>\n",
       "      <td>...</td>\n",
       "    </tr>\n",
       "    <tr>\n",
       "      <th>7569</th>\n",
       "      <td>Hollywood</td>\n",
       "      <td>7.5</td>\n",
       "    </tr>\n",
       "    <tr>\n",
       "      <th>7570</th>\n",
       "      <td>Holidate</td>\n",
       "      <td>6.1</td>\n",
       "    </tr>\n",
       "    <tr>\n",
       "      <th>7571</th>\n",
       "      <td>I Care a Lot</td>\n",
       "      <td>6.3</td>\n",
       "    </tr>\n",
       "    <tr>\n",
       "      <th>7572</th>\n",
       "      <td>Perfect Game</td>\n",
       "      <td>9.9</td>\n",
       "    </tr>\n",
       "    <tr>\n",
       "      <th>7573</th>\n",
       "      <td>Hero</td>\n",
       "      <td>9.9</td>\n",
       "    </tr>\n",
       "  </tbody>\n",
       "</table>\n",
       "<p>7574 rows × 2 columns</p>\n",
       "</div>"
      ],
      "text/plain": [
       "                     primaryTitle averageRating\n",
       "0              A Trip to the Moon           8.2\n",
       "1           The Birth of a Nation           6.3\n",
       "2     The Cabinet of Dr. Caligari           8.1\n",
       "3                         The Kid           8.3\n",
       "4                       Nosferatu           7.9\n",
       "...                           ...           ...\n",
       "7569                    Hollywood           7.5\n",
       "7570                     Holidate           6.1\n",
       "7571                 I Care a Lot           6.3\n",
       "7572                 Perfect Game           9.9\n",
       "7573                         Hero           9.9\n",
       "\n",
       "[7574 rows x 2 columns]"
      ]
     },
     "execution_count": 60,
     "metadata": {},
     "output_type": "execute_result"
    }
   ],
   "source": [
    "%%sql\n",
    "SELECT primaryTitle, averageRating\n",
    "FROM Title T INNER JOIN Rating R\n",
    "ON T.tconst = R.tconst;"
   ]
  },
  {
   "cell_type": "markdown",
   "id": "09aa679a",
   "metadata": {},
   "source": [
    "Referencing columns using the full or aliased table name is important to avoid ambiguity. Suppose the tables we are trying to join both include a column with the same name, like the `tconst` columns present in both the `Title` and `Rating` tables of the IMDB database. If we do not specify which table's column we wish to reference, SQL will not be able to process our query.\n",
    "\n",
    "In the cell below, it is unclear if we are referring to the `tconst` column from the `Title` table or the `tconst` column from the `Rating` table. SQL errors."
   ]
  },
  {
   "cell_type": "code",
   "execution_count": 61,
   "id": "4aa9fb62",
   "metadata": {},
   "outputs": [
    {
     "name": "stdout",
     "output_type": "stream",
     "text": [
      "   sqlite:///data/basic_examples.db\n",
      "   sqlite:///data/basic_examples_v2.db\n",
      " * sqlite:///data/imdbmini.db\n",
      "(sqlite3.OperationalError) ambiguous column name: tconst\n",
      "[SQL: SELECT primaryTitle, averageRating\n",
      "FROM Title AS T INNER JOIN Rating AS R\n",
      "ON tconst = tconst;]\n",
      "(Background on this error at: https://sqlalche.me/e/14/e3q8)\n"
     ]
    }
   ],
   "source": [
    "%%sql\n",
    "SELECT primaryTitle, averageRating\n",
    "FROM Title AS T INNER JOIN Rating AS R\n",
    "ON tconst = tconst;"
   ]
  },
  {
   "cell_type": "markdown",
   "id": "c6f16ca1",
   "metadata": {},
   "source": [
    "Refer to columns in the format `table_alias.column_name` to avoid ambiguity."
   ]
  },
  {
   "cell_type": "code",
   "execution_count": 62,
   "id": "9f17f0b3",
   "metadata": {},
   "outputs": [
    {
     "name": "stdout",
     "output_type": "stream",
     "text": [
      "   sqlite:///data/basic_examples.db\n",
      "   sqlite:///data/basic_examples_v2.db\n",
      " * sqlite:///data/imdbmini.db\n",
      "Done.\n"
     ]
    },
    {
     "data": {
      "text/html": [
       "<div>\n",
       "<style scoped>\n",
       "    .dataframe tbody tr th:only-of-type {\n",
       "        vertical-align: middle;\n",
       "    }\n",
       "\n",
       "    .dataframe tbody tr th {\n",
       "        vertical-align: top;\n",
       "    }\n",
       "\n",
       "    .dataframe thead th {\n",
       "        text-align: right;\n",
       "    }\n",
       "</style>\n",
       "<table border=\"1\" class=\"dataframe\">\n",
       "  <thead>\n",
       "    <tr style=\"text-align: right;\">\n",
       "      <th></th>\n",
       "      <th>primaryTitle</th>\n",
       "      <th>averageRating</th>\n",
       "    </tr>\n",
       "  </thead>\n",
       "  <tbody>\n",
       "    <tr>\n",
       "      <th>0</th>\n",
       "      <td>A Trip to the Moon</td>\n",
       "      <td>8.2</td>\n",
       "    </tr>\n",
       "    <tr>\n",
       "      <th>1</th>\n",
       "      <td>The Birth of a Nation</td>\n",
       "      <td>6.3</td>\n",
       "    </tr>\n",
       "    <tr>\n",
       "      <th>2</th>\n",
       "      <td>The Cabinet of Dr. Caligari</td>\n",
       "      <td>8.1</td>\n",
       "    </tr>\n",
       "    <tr>\n",
       "      <th>3</th>\n",
       "      <td>The Kid</td>\n",
       "      <td>8.3</td>\n",
       "    </tr>\n",
       "    <tr>\n",
       "      <th>4</th>\n",
       "      <td>Nosferatu</td>\n",
       "      <td>7.9</td>\n",
       "    </tr>\n",
       "    <tr>\n",
       "      <th>...</th>\n",
       "      <td>...</td>\n",
       "      <td>...</td>\n",
       "    </tr>\n",
       "    <tr>\n",
       "      <th>7569</th>\n",
       "      <td>Hollywood</td>\n",
       "      <td>7.5</td>\n",
       "    </tr>\n",
       "    <tr>\n",
       "      <th>7570</th>\n",
       "      <td>Holidate</td>\n",
       "      <td>6.1</td>\n",
       "    </tr>\n",
       "    <tr>\n",
       "      <th>7571</th>\n",
       "      <td>I Care a Lot</td>\n",
       "      <td>6.3</td>\n",
       "    </tr>\n",
       "    <tr>\n",
       "      <th>7572</th>\n",
       "      <td>Perfect Game</td>\n",
       "      <td>9.9</td>\n",
       "    </tr>\n",
       "    <tr>\n",
       "      <th>7573</th>\n",
       "      <td>Hero</td>\n",
       "      <td>9.9</td>\n",
       "    </tr>\n",
       "  </tbody>\n",
       "</table>\n",
       "<p>7574 rows × 2 columns</p>\n",
       "</div>"
      ],
      "text/plain": [
       "                     primaryTitle averageRating\n",
       "0              A Trip to the Moon           8.2\n",
       "1           The Birth of a Nation           6.3\n",
       "2     The Cabinet of Dr. Caligari           8.1\n",
       "3                         The Kid           8.3\n",
       "4                       Nosferatu           7.9\n",
       "...                           ...           ...\n",
       "7569                    Hollywood           7.5\n",
       "7570                     Holidate           6.1\n",
       "7571                 I Care a Lot           6.3\n",
       "7572                 Perfect Game           9.9\n",
       "7573                         Hero           9.9\n",
       "\n",
       "[7574 rows x 2 columns]"
      ]
     },
     "execution_count": 62,
     "metadata": {},
     "output_type": "execute_result"
    }
   ],
   "source": [
    "%%sql\n",
    "SELECT primaryTitle, averageRating\n",
    "FROM Title AS T INNER JOIN Rating AS R\n",
    "ON T.tconst = R.tconst;"
   ]
  },
  {
   "cell_type": "markdown",
   "id": "e3597f03",
   "metadata": {},
   "source": [
    "## Exercise (Submit for participation)\n",
    "\n",
    "Convert each Pandas expression to SQL assuming data represents a Pandas DataFrame containing 3 columns: name, rank, and year. Both the rank and year are stored as integers.\n"
   ]
  },
  {
   "cell_type": "code",
   "execution_count": 63,
   "id": "197e0ae4",
   "metadata": {},
   "outputs": [
    {
     "ename": "SyntaxError",
     "evalue": "invalid syntax (<ipython-input-63-d4ea124085b7>, line 1)",
     "output_type": "error",
     "traceback": [
      "\u001b[1;36m  File \u001b[1;32m\"<ipython-input-63-d4ea124085b7>\"\u001b[1;36m, line \u001b[1;32m1\u001b[0m\n\u001b[1;33m    data.1oc[data[\"rank\"] < 10, \"name\"].value_counts().reset_index()\u001b[0m\n\u001b[1;37m         ^\u001b[0m\n\u001b[1;31mSyntaxError\u001b[0m\u001b[1;31m:\u001b[0m invalid syntax\n"
     ]
    }
   ],
   "source": [
    "data.1oc[data[\"rank\"] < 10, \"name\"].value_counts().reset_index() \n",
    "\n",
    "#Hint:Remember that value counts returns a sorted output!"
   ]
  },
  {
   "cell_type": "code",
   "execution_count": 64,
   "id": "3c559a19",
   "metadata": {},
   "outputs": [
    {
     "name": "stdout",
     "output_type": "stream",
     "text": [
      "   sqlite:///data/basic_examples.db\n",
      "   sqlite:///data/basic_examples_v2.db\n",
      " * sqlite:///data/imdbmini.db\n",
      "(sqlite3.OperationalError) no such table: data\n",
      "[SQL: SELECT name\n",
      "FROM data\n",
      "WHERE rank < 10\n",
      "GROUP BY name\n",
      "ORDER BY COUNT(*) DESC;]\n",
      "(Background on this error at: https://sqlalche.me/e/14/e3q8)\n"
     ]
    }
   ],
   "source": [
    "%%sql\n",
    "SELECT name\n",
    "FROM data\n",
    "WHERE rank < 10\n",
    "GROUP BY name\n",
    "ORDER BY COUNT(*) DESC;"
   ]
  },
  {
   "cell_type": "code",
   "execution_count": null,
   "id": "84c79c07",
   "metadata": {},
   "outputs": [],
   "source": [
    "data.merge(data,on= \"name\").sort_values(by=\"name\")"
   ]
  },
  {
   "cell_type": "code",
   "execution_count": null,
   "id": "0121eda1",
   "metadata": {},
   "outputs": [],
   "source": [
    "%%sql\n",
    "SELECT *\n",
    "FROM data AS D1 INNER JOIN data AS D2\n",
    "ON D1.name = D2.name\n",
    "ORDER BY D1.name;"
   ]
  },
  {
   "cell_type": "code",
   "execution_count": null,
   "id": "ffea985a",
   "metadata": {},
   "outputs": [],
   "source": [
    "data.groupby([\"name\",\"year\"])\\\n",
    "    .filter(lambda sdf: len(sdf)>5)\\\n",
    "    .groupby([\"name\",\"year\"])[\"rank\"]\\\n",
    "    .min().reset_index().head(5)"
   ]
  },
  {
   "cell_type": "code",
   "execution_count": null,
   "id": "88669f06",
   "metadata": {},
   "outputs": [],
   "source": [
    "%%sql\n",
    "SELECT name, year, MIN(rank)\n",
    "FROM data\n",
    "GROUP BY name, year\n",
    "HAVING COUNT(*) > 5\n",
    "LIMIT 5;"
   ]
  }
 ],
 "metadata": {
  "kernelspec": {
   "display_name": "Python 3 (ipykernel)",
   "language": "python",
   "name": "python3"
  },
  "language_info": {
   "codemirror_mode": {
    "name": "ipython",
    "version": 3
   },
   "file_extension": ".py",
   "mimetype": "text/x-python",
   "name": "python",
   "nbconvert_exporter": "python",
   "pygments_lexer": "ipython3",
   "version": "3.6.13"
  }
 },
 "nbformat": 4,
 "nbformat_minor": 5
}
