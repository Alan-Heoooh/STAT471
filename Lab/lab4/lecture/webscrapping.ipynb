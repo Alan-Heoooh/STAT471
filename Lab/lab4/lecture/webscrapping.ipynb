{
 "cells": [
  {
   "cell_type": "code",
   "execution_count": 6,
   "id": "8c8a44b8",
   "metadata": {
    "slideshow": {
     "slide_type": "skip"
    }
   },
   "outputs": [],
   "source": [
    "import pandas as pd\n",
    "import numpy as np\n",
    "import os\n",
    "import requests\n",
    "import json\n",
    "import bs4\n",
    "\n",
    "from IPython.display import display, Image"
   ]
  },
  {
   "cell_type": "markdown",
   "id": "4a797498",
   "metadata": {
    "slideshow": {
     "slide_type": "slide"
    }
   },
   "source": [
    "## Parsing HTML using Beautiful Soup"
   ]
  },
  {
   "cell_type": "markdown",
   "id": "2f0d4415",
   "metadata": {
    "slideshow": {
     "slide_type": "slide"
    }
   },
   "source": [
    "## Example: Scraping quotes"
   ]
  },
  {
   "cell_type": "markdown",
   "id": "019f606c",
   "metadata": {
    "slideshow": {
     "slide_type": "slide"
    }
   },
   "source": [
    "### Example: Scraping quotes\n",
    "\n",
    "Let's scrape quotes from https://quotes.toscrape.com/.\n"
   ]
  },
  {
   "cell_type": "markdown",
   "id": "bb141b04",
   "metadata": {
    "slideshow": {
     "slide_type": "fragment"
    }
   },
   "source": [
    "Specifically, let's try to make a DataFrame that looks like the one below:\n",
    "\n",
    "<table border=\"1\" class=\"dataframe\">\n",
    "  <thead>\n",
    "    <tr style=\"text-align: right;\">\n",
    "      <th></th>\n",
    "      <th>quote</th>\n",
    "      <th>author</th>\n",
    "      <th>author_url</th>\n",
    "      <th>tags</th>\n",
    "    </tr>\n",
    "  </thead>\n",
    "  <tbody>\n",
    "    <tr>\n",
    "      <th>0</th>\n",
    "      <td>“The world as we have created it is a process of our thinking. It cannot be changed without changing our thinking.”</td>\n",
    "      <td>Albert Einstein</td>\n",
    "      <td>https://quotes.toscrape.com/author/Albert-Einstein</td>\n",
    "      <td>change,deep-thoughts,thinking,world</td>\n",
    "    </tr>\n",
    "    <tr>\n",
    "      <th>1</th>\n",
    "      <td>“It is our choices, Harry, that show what we truly are, far more than our abilities.”</td>\n",
    "      <td>J.K. Rowling</td>\n",
    "      <td>https://quotes.toscrape.com/author/J-K-Rowling</td>\n",
    "      <td>abilities,choices</td>\n",
    "    </tr>\n",
    "    <tr>\n",
    "      <th>2</th>\n",
    "      <td>“There are only two ways to live your life. One is as though nothing is a miracle. The other is as though everything is a miracle.”</td>\n",
    "      <td>Albert Einstein</td>\n",
    "      <td>https://quotes.toscrape.com/author/Albert-Einstein</td>\n",
    "      <td>inspirational,life,live,miracle,miracles</td>\n",
    "    </tr>\n",
    "  </tbody>\n",
    "</table>"
   ]
  },
  {
   "cell_type": "markdown",
   "id": "53e66358",
   "metadata": {
    "slideshow": {
     "slide_type": "slide"
    }
   },
   "source": [
    "### The plan\n",
    "\n",
    "Eventually, we will create a single function – `quote_df` – which takes in an integer `n` and returns a **DataFrame** with the quotes on the **first `n` pages** of https://quotes.toscrape.com/.\n",
    "\n",
    "To do this, we will define several helper functions:"
   ]
  },
  {
   "cell_type": "markdown",
   "id": "9f13e070",
   "metadata": {
    "slideshow": {
     "slide_type": "fragment"
    }
   },
   "source": [
    "- `download_page(i)`, which downloads a **single page** (page `i`) and returns a `BeautifulSoup` object of the response."
   ]
  },
  {
   "cell_type": "markdown",
   "id": "345f5d6e",
   "metadata": {
    "slideshow": {
     "slide_type": "fragment"
    }
   },
   "source": [
    "- `process_quote(div)`, which takes in a `<div>` tree corresponding to a **single quote** and returns a Series containing all of the relevant information for that quote."
   ]
  },
  {
   "cell_type": "markdown",
   "id": "e6d4fa97",
   "metadata": {
    "slideshow": {
     "slide_type": "fragment"
    }
   },
   "source": [
    "- `process_page(divs)`, which takes in a list of `<div>` trees corresponding to a **single page** and returns a DataFrame containing all of the relevant information for all quotes on that page."
   ]
  },
  {
   "cell_type": "markdown",
   "id": "66214488",
   "metadata": {
    "slideshow": {
     "slide_type": "slide"
    }
   },
   "source": [
    "Key principle: some of our helper functions will make **requests**, and others will **parse**, but none will do both! \n",
    "- Easier to debug and catch errors.\n",
    "- Avoids unnecessary requests."
   ]
  },
  {
   "cell_type": "markdown",
   "id": "c90a4563",
   "metadata": {
    "slideshow": {
     "slide_type": "slide"
    }
   },
   "source": [
    "### Downloading a single page"
   ]
  },
  {
   "cell_type": "code",
   "execution_count": 7,
   "id": "6db125af",
   "metadata": {
    "slideshow": {
     "slide_type": "-"
    }
   },
   "outputs": [],
   "source": [
    "def download_page(i):\n",
    "    url = f'https://quotes.toscrape.com/page/{i}'\n",
    "    request = requests.get(url)\n",
    "    return bs4.BeautifulSoup(request.text)"
   ]
  },
  {
   "cell_type": "markdown",
   "id": "e452bb34",
   "metadata": {},
   "source": [
    "In `quote_df`, we will call `download_page` repeatedly – once for `i=1`, once for `i=2`, ..., `i = n`. For now, we will work with just page 5 (chosen arbitrarily)."
   ]
  },
  {
   "cell_type": "code",
   "execution_count": 8,
   "id": "27aa68f3",
   "metadata": {},
   "outputs": [],
   "source": [
    "soup = download_page(5)"
   ]
  },
  {
   "cell_type": "markdown",
   "id": "d59697cc",
   "metadata": {
    "slideshow": {
     "slide_type": "slide"
    }
   },
   "source": [
    "### Parsing a single page\n",
    "\n",
    "Let's look at the page's source code (via \"inspect element\") to find where the quotes in the page are located."
   ]
  },
  {
   "cell_type": "code",
   "execution_count": 9,
   "id": "67152459",
   "metadata": {},
   "outputs": [],
   "source": [
    "divs = soup.find_all('div', attrs={'class': 'quote'})"
   ]
  },
  {
   "cell_type": "code",
   "execution_count": 10,
   "id": "b387c27b",
   "metadata": {},
   "outputs": [
    {
     "data": {
      "text/plain": [
       "<div class=\"quote\" itemscope=\"\" itemtype=\"http://schema.org/CreativeWork\">\n",
       "<span class=\"text\" itemprop=\"text\">“A reader lives a thousand lives before he dies, said Jojen. The man who never reads lives only one.”</span>\n",
       "<span>by <small class=\"author\" itemprop=\"author\">George R.R. Martin</small>\n",
       "<a href=\"/author/George-R-R-Martin\">(about)</a>\n",
       "</span>\n",
       "<div class=\"tags\">\n",
       "            Tags:\n",
       "            <meta class=\"keywords\" content=\"read,readers,reading,reading-books\" itemprop=\"keywords\"/>\n",
       "<a class=\"tag\" href=\"/tag/read/page/1/\">read</a>\n",
       "<a class=\"tag\" href=\"/tag/readers/page/1/\">readers</a>\n",
       "<a class=\"tag\" href=\"/tag/reading/page/1/\">reading</a>\n",
       "<a class=\"tag\" href=\"/tag/reading-books/page/1/\">reading-books</a>\n",
       "</div>\n",
       "</div>"
      ]
     },
     "execution_count": 10,
     "metadata": {},
     "output_type": "execute_result"
    }
   ],
   "source": [
    "divs[0]"
   ]
  },
  {
   "cell_type": "markdown",
   "id": "c6757bf4",
   "metadata": {
    "slideshow": {
     "slide_type": "fragment"
    }
   },
   "source": [
    "From this `<div>`, we can extract the quote, author name, author's URL, and tags."
   ]
  },
  {
   "cell_type": "code",
   "execution_count": 11,
   "id": "4f30262c",
   "metadata": {},
   "outputs": [
    {
     "data": {
      "text/plain": [
       "'“A reader lives a thousand lives before he dies, said Jojen. The man who never reads lives only one.”'"
      ]
     },
     "execution_count": 11,
     "metadata": {},
     "output_type": "execute_result"
    }
   ],
   "source": [
    "divs[0].find('span', attrs={'class': 'text'}).text"
   ]
  },
  {
   "cell_type": "code",
   "execution_count": 12,
   "id": "1272c502",
   "metadata": {},
   "outputs": [
    {
     "data": {
      "text/plain": [
       "'George R.R. Martin'"
      ]
     },
     "execution_count": 12,
     "metadata": {},
     "output_type": "execute_result"
    }
   ],
   "source": [
    "divs[0].find('small', attrs={'class': 'author'}).text"
   ]
  },
  {
   "cell_type": "code",
   "execution_count": 13,
   "id": "f718f109",
   "metadata": {},
   "outputs": [
    {
     "data": {
      "text/plain": [
       "'/author/George-R-R-Martin'"
      ]
     },
     "execution_count": 13,
     "metadata": {},
     "output_type": "execute_result"
    }
   ],
   "source": [
    "divs[0].find('a').get('href')"
   ]
  },
  {
   "cell_type": "code",
   "execution_count": 14,
   "id": "12aafc18",
   "metadata": {},
   "outputs": [
    {
     "data": {
      "text/plain": [
       "'read,readers,reading,reading-books'"
      ]
     },
     "execution_count": 14,
     "metadata": {},
     "output_type": "execute_result"
    }
   ],
   "source": [
    "divs[0].find('meta', attrs={'class': 'keywords'}).get('content')"
   ]
  },
  {
   "cell_type": "markdown",
   "id": "c497f2fc",
   "metadata": {
    "slideshow": {
     "slide_type": "slide"
    }
   },
   "source": [
    "Let's implement our next function, `process_quote`, which takes in a `<div>` corresponding to a single quote and returns a **Series** containing the quote's information.\n",
    "\n",
    "Note that this approach is different than the approach taken in the HDSI Faculty page example – there, we created each column of our final DataFrame separately, while here we are creating one **row** of our final DataFrame at a time."
   ]
  },
  {
   "cell_type": "code",
   "execution_count": 15,
   "id": "7e51643f",
   "metadata": {},
   "outputs": [],
   "source": [
    "def process_quote(div):\n",
    "    quote = div.find('span', attrs={'class': 'text'}).text\n",
    "    author = div.find('small', attrs={'class': 'author'}).text\n",
    "    author_url = 'https://quotes.toscrape.com' + div.find('a').get('href')\n",
    "    tags = div.find('meta', attrs={'class': 'keywords'}).get('content')\n",
    "    \n",
    "    return pd.Series({'quote': quote, 'author': author, 'author_url': author_url, 'tags': tags})"
   ]
  },
  {
   "cell_type": "code",
   "execution_count": 16,
   "id": "3b620164",
   "metadata": {},
   "outputs": [
    {
     "data": {
      "text/plain": [
       "quote         “If you can make a woman laugh, you can make h...\n",
       "author                                           Marilyn Monroe\n",
       "author_url    https://quotes.toscrape.com/author/Marilyn-Monroe\n",
       "tags                                                 girls,love\n",
       "dtype: object"
      ]
     },
     "execution_count": 16,
     "metadata": {},
     "output_type": "execute_result"
    }
   ],
   "source": [
    "process_quote(divs[3])"
   ]
  },
  {
   "cell_type": "markdown",
   "id": "f70a761e",
   "metadata": {
    "slideshow": {
     "slide_type": "slide"
    }
   },
   "source": [
    "Our last helper function will take in a **list** of `<div>`s, call `process_quote` on each `<div>` in the list, and return a **DataFrame**."
   ]
  },
  {
   "cell_type": "code",
   "execution_count": 17,
   "id": "100b9953",
   "metadata": {},
   "outputs": [],
   "source": [
    "def process_page(divs):\n",
    "    return pd.DataFrame([process_quote(div) for div in divs])"
   ]
  },
  {
   "cell_type": "code",
   "execution_count": 18,
   "id": "c8b3625b",
   "metadata": {},
   "outputs": [
    {
     "data": {
      "text/html": [
       "<div>\n",
       "<style scoped>\n",
       "    .dataframe tbody tr th:only-of-type {\n",
       "        vertical-align: middle;\n",
       "    }\n",
       "\n",
       "    .dataframe tbody tr th {\n",
       "        vertical-align: top;\n",
       "    }\n",
       "\n",
       "    .dataframe thead th {\n",
       "        text-align: right;\n",
       "    }\n",
       "</style>\n",
       "<table border=\"1\" class=\"dataframe\">\n",
       "  <thead>\n",
       "    <tr style=\"text-align: right;\">\n",
       "      <th></th>\n",
       "      <th>quote</th>\n",
       "      <th>author</th>\n",
       "      <th>author_url</th>\n",
       "      <th>tags</th>\n",
       "    </tr>\n",
       "  </thead>\n",
       "  <tbody>\n",
       "    <tr>\n",
       "      <th>0</th>\n",
       "      <td>“A reader lives a thousand lives before he die...</td>\n",
       "      <td>George R.R. Martin</td>\n",
       "      <td>https://quotes.toscrape.com/author/George-R-R-...</td>\n",
       "      <td>read,readers,reading,reading-books</td>\n",
       "    </tr>\n",
       "    <tr>\n",
       "      <th>1</th>\n",
       "      <td>“You can never get a cup of tea large enough o...</td>\n",
       "      <td>C.S. Lewis</td>\n",
       "      <td>https://quotes.toscrape.com/author/C-S-Lewis</td>\n",
       "      <td>books,inspirational,reading,tea</td>\n",
       "    </tr>\n",
       "    <tr>\n",
       "      <th>2</th>\n",
       "      <td>“You believe lies so you eventually learn to t...</td>\n",
       "      <td>Marilyn Monroe</td>\n",
       "      <td>https://quotes.toscrape.com/author/Marilyn-Monroe</td>\n",
       "      <td></td>\n",
       "    </tr>\n",
       "    <tr>\n",
       "      <th>3</th>\n",
       "      <td>“If you can make a woman laugh, you can make h...</td>\n",
       "      <td>Marilyn Monroe</td>\n",
       "      <td>https://quotes.toscrape.com/author/Marilyn-Monroe</td>\n",
       "      <td>girls,love</td>\n",
       "    </tr>\n",
       "    <tr>\n",
       "      <th>4</th>\n",
       "      <td>“Life is like riding a bicycle. To keep your b...</td>\n",
       "      <td>Albert Einstein</td>\n",
       "      <td>https://quotes.toscrape.com/author/Albert-Eins...</td>\n",
       "      <td>life,simile</td>\n",
       "    </tr>\n",
       "    <tr>\n",
       "      <th>5</th>\n",
       "      <td>“The real lover is the man who can thrill you ...</td>\n",
       "      <td>Marilyn Monroe</td>\n",
       "      <td>https://quotes.toscrape.com/author/Marilyn-Monroe</td>\n",
       "      <td>love</td>\n",
       "    </tr>\n",
       "    <tr>\n",
       "      <th>6</th>\n",
       "      <td>“A wise girl kisses but doesn't love, listens ...</td>\n",
       "      <td>Marilyn Monroe</td>\n",
       "      <td>https://quotes.toscrape.com/author/Marilyn-Monroe</td>\n",
       "      <td>attributed-no-source</td>\n",
       "    </tr>\n",
       "    <tr>\n",
       "      <th>7</th>\n",
       "      <td>“Only in the darkness can you see the stars.”</td>\n",
       "      <td>Martin Luther King Jr.</td>\n",
       "      <td>https://quotes.toscrape.com/author/Martin-Luth...</td>\n",
       "      <td>hope,inspirational</td>\n",
       "    </tr>\n",
       "    <tr>\n",
       "      <th>8</th>\n",
       "      <td>“It matters not what someone is born, but what...</td>\n",
       "      <td>J.K. Rowling</td>\n",
       "      <td>https://quotes.toscrape.com/author/J-K-Rowling</td>\n",
       "      <td>dumbledore</td>\n",
       "    </tr>\n",
       "    <tr>\n",
       "      <th>9</th>\n",
       "      <td>“Love does not begin and end the way we seem t...</td>\n",
       "      <td>James Baldwin</td>\n",
       "      <td>https://quotes.toscrape.com/author/James-Baldwin</td>\n",
       "      <td>love</td>\n",
       "    </tr>\n",
       "  </tbody>\n",
       "</table>\n",
       "</div>"
      ],
      "text/plain": [
       "                                               quote                  author  \\\n",
       "0  “A reader lives a thousand lives before he die...      George R.R. Martin   \n",
       "1  “You can never get a cup of tea large enough o...              C.S. Lewis   \n",
       "2  “You believe lies so you eventually learn to t...          Marilyn Monroe   \n",
       "3  “If you can make a woman laugh, you can make h...          Marilyn Monroe   \n",
       "4  “Life is like riding a bicycle. To keep your b...         Albert Einstein   \n",
       "5  “The real lover is the man who can thrill you ...          Marilyn Monroe   \n",
       "6  “A wise girl kisses but doesn't love, listens ...          Marilyn Monroe   \n",
       "7      “Only in the darkness can you see the stars.”  Martin Luther King Jr.   \n",
       "8  “It matters not what someone is born, but what...            J.K. Rowling   \n",
       "9  “Love does not begin and end the way we seem t...           James Baldwin   \n",
       "\n",
       "                                          author_url  \\\n",
       "0  https://quotes.toscrape.com/author/George-R-R-...   \n",
       "1       https://quotes.toscrape.com/author/C-S-Lewis   \n",
       "2  https://quotes.toscrape.com/author/Marilyn-Monroe   \n",
       "3  https://quotes.toscrape.com/author/Marilyn-Monroe   \n",
       "4  https://quotes.toscrape.com/author/Albert-Eins...   \n",
       "5  https://quotes.toscrape.com/author/Marilyn-Monroe   \n",
       "6  https://quotes.toscrape.com/author/Marilyn-Monroe   \n",
       "7  https://quotes.toscrape.com/author/Martin-Luth...   \n",
       "8     https://quotes.toscrape.com/author/J-K-Rowling   \n",
       "9   https://quotes.toscrape.com/author/James-Baldwin   \n",
       "\n",
       "                                 tags  \n",
       "0  read,readers,reading,reading-books  \n",
       "1     books,inspirational,reading,tea  \n",
       "2                                      \n",
       "3                          girls,love  \n",
       "4                         life,simile  \n",
       "5                                love  \n",
       "6                attributed-no-source  \n",
       "7                  hope,inspirational  \n",
       "8                          dumbledore  \n",
       "9                                love  "
      ]
     },
     "execution_count": 18,
     "metadata": {},
     "output_type": "execute_result"
    }
   ],
   "source": [
    "process_page(divs)"
   ]
  },
  {
   "cell_type": "markdown",
   "id": "a0408fbd",
   "metadata": {
    "slideshow": {
     "slide_type": "slide"
    }
   },
   "source": [
    "### Putting it all together"
   ]
  },
  {
   "cell_type": "code",
   "execution_count": 19,
   "id": "40f71cb1",
   "metadata": {},
   "outputs": [],
   "source": [
    "def quote_df(n):\n",
    "    '''Returns a DataFrame containing the quotes on the first n pages of https://quotes.toscrape.com/.'''\n",
    "    dfs = []\n",
    "    for i in range(1, n + 1):\n",
    "        # Download page n and create a BeautifulSoup object.\n",
    "        soup = download_page(i)\n",
    "        \n",
    "        # Create DataFrame using the information in that page.\n",
    "        divs = soup.find_all('div', attrs={'class': 'quote'})\n",
    "        df = process_page(divs)\n",
    "        \n",
    "        # Append DataFrame to dfs.\n",
    "        dfs.append(df)\n",
    "        \n",
    "    # Stitch all DataFrames together.\n",
    "    return pd.concat(dfs).reset_index(drop=True)"
   ]
  },
  {
   "cell_type": "code",
   "execution_count": 20,
   "id": "5a410385",
   "metadata": {
    "scrolled": true
   },
   "outputs": [
    {
     "data": {
      "text/html": [
       "<div>\n",
       "<style scoped>\n",
       "    .dataframe tbody tr th:only-of-type {\n",
       "        vertical-align: middle;\n",
       "    }\n",
       "\n",
       "    .dataframe tbody tr th {\n",
       "        vertical-align: top;\n",
       "    }\n",
       "\n",
       "    .dataframe thead th {\n",
       "        text-align: right;\n",
       "    }\n",
       "</style>\n",
       "<table border=\"1\" class=\"dataframe\">\n",
       "  <thead>\n",
       "    <tr style=\"text-align: right;\">\n",
       "      <th></th>\n",
       "      <th>quote</th>\n",
       "      <th>author</th>\n",
       "      <th>author_url</th>\n",
       "      <th>tags</th>\n",
       "    </tr>\n",
       "  </thead>\n",
       "  <tbody>\n",
       "    <tr>\n",
       "      <th>0</th>\n",
       "      <td>“The world as we have created it is a process ...</td>\n",
       "      <td>Albert Einstein</td>\n",
       "      <td>https://quotes.toscrape.com/author/Albert-Eins...</td>\n",
       "      <td>change,deep-thoughts,thinking,world</td>\n",
       "    </tr>\n",
       "    <tr>\n",
       "      <th>1</th>\n",
       "      <td>“It is our choices, Harry, that show what we t...</td>\n",
       "      <td>J.K. Rowling</td>\n",
       "      <td>https://quotes.toscrape.com/author/J-K-Rowling</td>\n",
       "      <td>abilities,choices</td>\n",
       "    </tr>\n",
       "    <tr>\n",
       "      <th>2</th>\n",
       "      <td>“There are only two ways to live your life. On...</td>\n",
       "      <td>Albert Einstein</td>\n",
       "      <td>https://quotes.toscrape.com/author/Albert-Eins...</td>\n",
       "      <td>inspirational,life,live,miracle,miracles</td>\n",
       "    </tr>\n",
       "    <tr>\n",
       "      <th>3</th>\n",
       "      <td>“The person, be it gentleman or lady, who has ...</td>\n",
       "      <td>Jane Austen</td>\n",
       "      <td>https://quotes.toscrape.com/author/Jane-Austen</td>\n",
       "      <td>aliteracy,books,classic,humor</td>\n",
       "    </tr>\n",
       "    <tr>\n",
       "      <th>4</th>\n",
       "      <td>“Imperfection is beauty, madness is genius and...</td>\n",
       "      <td>Marilyn Monroe</td>\n",
       "      <td>https://quotes.toscrape.com/author/Marilyn-Monroe</td>\n",
       "      <td>be-yourself,inspirational</td>\n",
       "    </tr>\n",
       "  </tbody>\n",
       "</table>\n",
       "</div>"
      ],
      "text/plain": [
       "                                               quote           author  \\\n",
       "0  “The world as we have created it is a process ...  Albert Einstein   \n",
       "1  “It is our choices, Harry, that show what we t...     J.K. Rowling   \n",
       "2  “There are only two ways to live your life. On...  Albert Einstein   \n",
       "3  “The person, be it gentleman or lady, who has ...      Jane Austen   \n",
       "4  “Imperfection is beauty, madness is genius and...   Marilyn Monroe   \n",
       "\n",
       "                                          author_url  \\\n",
       "0  https://quotes.toscrape.com/author/Albert-Eins...   \n",
       "1     https://quotes.toscrape.com/author/J-K-Rowling   \n",
       "2  https://quotes.toscrape.com/author/Albert-Eins...   \n",
       "3     https://quotes.toscrape.com/author/Jane-Austen   \n",
       "4  https://quotes.toscrape.com/author/Marilyn-Monroe   \n",
       "\n",
       "                                       tags  \n",
       "0       change,deep-thoughts,thinking,world  \n",
       "1                         abilities,choices  \n",
       "2  inspirational,life,live,miracle,miracles  \n",
       "3             aliteracy,books,classic,humor  \n",
       "4                 be-yourself,inspirational  "
      ]
     },
     "execution_count": 20,
     "metadata": {},
     "output_type": "execute_result"
    }
   ],
   "source": [
    "first_three_pages = quote_df(3)\n",
    "first_three_pages.head()"
   ]
  },
  {
   "cell_type": "markdown",
   "id": "1d64de1c",
   "metadata": {},
   "source": [
    "The elements in the `'tags'` column are all strings, but they look like lists. This is not ideal, as we will see shortly."
   ]
  },
  {
   "cell_type": "markdown",
   "id": "a71f46b9",
   "metadata": {
    "slideshow": {
     "slide_type": "slide"
    }
   },
   "source": [
    "### Key takeaways\n",
    "\n",
    "* Make as few requests as possible.\n",
    "* Create a request and parsing plan **beforehand**.\n",
    "* Create your output schema **beforehand**.\n",
    "* Make requests and parse in **separate functions**!"
   ]
  },
  {
   "cell_type": "markdown",
   "id": "a976a583",
   "metadata": {
    "slideshow": {
     "slide_type": "slide"
    }
   },
   "source": [
    "## Nested vs. flat data formats"
   ]
  },
  {
   "cell_type": "markdown",
   "id": "0cf0ba3e",
   "metadata": {
    "slideshow": {
     "slide_type": "slide"
    }
   },
   "source": [
    "### Nested vs. flat data formats\n",
    "\n",
    "- **Nested** data formats, like HTML, JSON, and XML, allow us to represent hierarchical relationships between variables.\n",
    "\n",
    "* **Flat** (i.e. tabular) data formats, like CSV, do not.\n",
    "\n",
    "<center><img src=\"imgs/hierarchy.png\" width=40%></center>"
   ]
  },
  {
   "cell_type": "markdown",
   "id": "c56eb463",
   "metadata": {
    "slideshow": {
     "slide_type": "slide"
    }
   },
   "source": [
    "### Aside: JSON Crack\n",
    "\n",
    "The site [jsoncrack.com](https://jsoncrack.com/editor) allows you to upload a JSON file and visualizes it. Let's try it with `data/family.json`!"
   ]
  },
  {
   "cell_type": "markdown",
   "id": "cb90c5f7",
   "metadata": {
    "slideshow": {
     "slide_type": "slide"
    }
   },
   "source": [
    "### Example: Scraping quotes, again\n",
    "\n",
    "- Suppose we obtained the quotes data via an API and saved it to the file `data/quotes2scrape.json`.\n",
    "- `quotes2scrape.json` is a **JSON records** file; each line is a valid JSON object, **but the entire document is not**."
   ]
  },
  {
   "cell_type": "code",
   "execution_count": 21,
   "id": "efd6d2e7",
   "metadata": {},
   "outputs": [
    {
     "ename": "FileNotFoundError",
     "evalue": "[Errno 2] No such file or directory: 'data\\\\quotes2scrape.json'",
     "output_type": "error",
     "traceback": [
      "\u001b[1;31m---------------------------------------------------------------------------\u001b[0m",
      "\u001b[1;31mFileNotFoundError\u001b[0m                         Traceback (most recent call last)",
      "\u001b[1;32m<ipython-input-21-54749361ad4d>\u001b[0m in \u001b[0;36m<module>\u001b[1;34m\u001b[0m\n\u001b[1;32m----> 1\u001b[1;33m \u001b[0mf\u001b[0m \u001b[1;33m=\u001b[0m \u001b[0mopen\u001b[0m\u001b[1;33m(\u001b[0m\u001b[0mos\u001b[0m\u001b[1;33m.\u001b[0m\u001b[0mpath\u001b[0m\u001b[1;33m.\u001b[0m\u001b[0mjoin\u001b[0m\u001b[1;33m(\u001b[0m\u001b[1;34m'data'\u001b[0m\u001b[1;33m,\u001b[0m \u001b[1;34m'quotes2scrape.json'\u001b[0m\u001b[1;33m)\u001b[0m\u001b[1;33m)\u001b[0m\u001b[1;33m\u001b[0m\u001b[1;33m\u001b[0m\u001b[0m\n\u001b[0m",
      "\u001b[1;31mFileNotFoundError\u001b[0m: [Errno 2] No such file or directory: 'data\\\\quotes2scrape.json'"
     ]
    }
   ],
   "source": [
    "f = open(os.path.join('data', 'quotes2scrape.json'))"
   ]
  },
  {
   "cell_type": "code",
   "execution_count": null,
   "id": "674d6be9",
   "metadata": {},
   "outputs": [],
   "source": [
    "json.loads(f.readline())"
   ]
  },
  {
   "cell_type": "markdown",
   "id": "1638d5dc",
   "metadata": {},
   "source": [
    "Note that for a single quote, we have keys for `'auth_url'`, `'quote_auth'`, `'quote_text'`, `'bio'`, `'dob'`, and `'tags'`."
   ]
  },
  {
   "cell_type": "markdown",
   "id": "e8ae99c1",
   "metadata": {
    "slideshow": {
     "slide_type": "slide"
    }
   },
   "source": [
    "Since each line is a separate JSON object, let's read in each line one at a time."
   ]
  },
  {
   "cell_type": "code",
   "execution_count": null,
   "id": "77e703ae",
   "metadata": {},
   "outputs": [],
   "source": [
    "L = [json.loads(x) for x in open(os.path.join('data', 'quotes2scrape.json'))]"
   ]
  },
  {
   "cell_type": "markdown",
   "id": "51d17e8a",
   "metadata": {},
   "source": [
    "Let's convert the result to a DataFrame."
   ]
  },
  {
   "cell_type": "code",
   "execution_count": null,
   "id": "d892a834",
   "metadata": {},
   "outputs": [],
   "source": [
    "df = pd.DataFrame(L)\n",
    "df.head()"
   ]
  },
  {
   "cell_type": "markdown",
   "id": "6837a6d6",
   "metadata": {},
   "source": [
    "What data type is the `'tags'` column?"
   ]
  },
  {
   "cell_type": "code",
   "execution_count": null,
   "id": "67d3a103",
   "metadata": {},
   "outputs": [],
   "source": [
    "df['tags'].iloc[0]"
   ]
  },
  {
   "cell_type": "markdown",
   "id": "e1558e39",
   "metadata": {},
   "source": [
    "Let's save `df` to a CSV and read it back in."
   ]
  },
  {
   "cell_type": "code",
   "execution_count": null,
   "id": "7596565b",
   "metadata": {},
   "outputs": [],
   "source": [
    "df.to_csv('out.csv')"
   ]
  },
  {
   "cell_type": "code",
   "execution_count": null,
   "id": "59bc0184",
   "metadata": {},
   "outputs": [],
   "source": [
    "df_again = pd.read_csv('out.csv')\n",
    "df_again.head()"
   ]
  },
  {
   "cell_type": "markdown",
   "id": "84d4795f",
   "metadata": {},
   "source": [
    "What data type is the `'tags'` column now?"
   ]
  },
  {
   "cell_type": "code",
   "execution_count": null,
   "id": "a45cc5f1",
   "metadata": {},
   "outputs": [],
   "source": [
    "df_again['tags'].iloc[0]"
   ]
  },
  {
   "cell_type": "markdown",
   "id": "dea5b1e7",
   "metadata": {
    "slideshow": {
     "slide_type": "slide"
    }
   },
   "source": [
    "### One-hot encoding"
   ]
  },
  {
   "cell_type": "markdown",
   "id": "b7bae91f",
   "metadata": {
    "slideshow": {
     "slide_type": "fragment"
    }
   },
   "source": [
    "- So that we don't have to deal with lists within Series, we can **flatten** lists of tags so that there is **one column per unique tag**.\n",
    "    - For example, consider the tag `'inspirational'`.\n",
    "    - If a quote has a 1 in the `'inspirational'` column, it **was** tagged `'inspirational'`.\n",
    "    - If a quote has a 0 in the `'inspirational'` column, it **was not** tagged `'inspirational'`."
   ]
  },
  {
   "cell_type": "markdown",
   "id": "c520566d",
   "metadata": {
    "slideshow": {
     "slide_type": "fragment"
    }
   },
   "source": [
    "- This process – of converting categorical variables into columns of 1s and 0s – is called **one-hot encoding**. We will revisit it in a few weeks."
   ]
  },
  {
   "cell_type": "markdown",
   "id": "57c7d350",
   "metadata": {
    "slideshow": {
     "slide_type": "slide"
    }
   },
   "source": [
    "Let's write a function that takes in the list of tags (`taglist`) for a given quote and returns the one-hot-encoded sequence of 1s and 0s for that quote."
   ]
  },
  {
   "cell_type": "code",
   "execution_count": null,
   "id": "e2ee8d5c",
   "metadata": {},
   "outputs": [],
   "source": [
    "def flatten_tags(taglist):\n",
    "    return pd.Series({k:1 for k in taglist}, dtype=float)\n",
    "\n",
    "tags = df['tags'].apply(flatten_tags).fillna(0).astype(int)\n",
    "tags.head()"
   ]
  },
  {
   "cell_type": "markdown",
   "id": "7f5ed85d",
   "metadata": {
    "slideshow": {
     "slide_type": "slide"
    }
   },
   "source": [
    "Let's combine this one-hot-encoded DataFrame with `df`."
   ]
  },
  {
   "cell_type": "code",
   "execution_count": null,
   "id": "de44a476",
   "metadata": {},
   "outputs": [],
   "source": [
    "df_full = pd.concat([df, tags], axis=1).drop(columns='tags')\n",
    "df_full.head()"
   ]
  },
  {
   "cell_type": "markdown",
   "id": "dd0f1f55",
   "metadata": {},
   "source": [
    "If we want all quotes tagged `'inspiration'`, we can simply query:"
   ]
  },
  {
   "cell_type": "code",
   "execution_count": null,
   "id": "488e7dd9",
   "metadata": {},
   "outputs": [],
   "source": [
    "df_full[df_full['inspirational'] == 1].head()"
   ]
  },
  {
   "cell_type": "markdown",
   "id": "b19a7206",
   "metadata": {},
   "source": [
    "Note that this DataFrame representation of the response JSON takes up much more space than the original JSON. Why is that?"
   ]
  }
 ],
 "metadata": {
  "kernelspec": {
   "display_name": "Python 3 (ipykernel)",
   "language": "python",
   "name": "python3"
  },
  "language_info": {
   "codemirror_mode": {
    "name": "ipython",
    "version": 3
   },
   "file_extension": ".py",
   "mimetype": "text/x-python",
   "name": "python",
   "nbconvert_exporter": "python",
   "pygments_lexer": "ipython3",
   "version": "3.6.13"
  },
  "livereveal": {
   "scroll": true
  },
  "rise": {
   "transition": "none"
  },
  "vscode": {
   "interpreter": {
    "hash": "fa21447ba3ca0ac29cfe033d1e623e3db9da50a3031a1ad33c9e1c367d9ba6e8"
   }
  }
 },
 "nbformat": 4,
 "nbformat_minor": 5
}
