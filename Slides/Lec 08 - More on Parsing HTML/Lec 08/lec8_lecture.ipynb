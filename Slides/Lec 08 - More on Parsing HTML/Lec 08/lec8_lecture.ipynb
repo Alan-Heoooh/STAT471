{
 "cells": [
  {
   "cell_type": "code",
   "execution_count": 1,
   "id": "8c8a44b8",
   "metadata": {
    "slideshow": {
     "slide_type": "skip"
    }
   },
   "outputs": [],
   "source": [
    "import pandas as pd\n",
    "import numpy as np\n",
    "import os\n",
    "import requests\n",
    "import json\n",
    "import bs4\n",
    "\n",
    "from IPython.display import display, Image"
   ]
  },
  {
   "cell_type": "markdown",
   "id": "6ca51859",
   "metadata": {
    "slideshow": {
     "slide_type": "slide"
    }
   },
   "source": [
    "# Lecture 8 – More on Parsing HTML\n",
    "\n"
   ]
  },
  {
   "cell_type": "markdown",
   "id": "22824200",
   "metadata": {
    "slideshow": {
     "slide_type": "slide"
    }
   },
   "source": [
    "### Agenda\n",
    "\n",
    "- Parsing HTML using Beautiful Soup.\n",
    "    - Example: Scraping the Jiaotong Global Classroom website.\n",
    "    - Example: Scraping quotes.\n",
    "- Nested vs. flat data structures."
   ]
  },
  {
   "cell_type": "markdown",
   "id": "4a797498",
   "metadata": {
    "slideshow": {
     "slide_type": "slide"
    }
   },
   "source": [
    "## Parsing HTML using Beautiful Soup"
   ]
  },
  {
   "cell_type": "markdown",
   "id": "05a7a4bf",
   "metadata": {
    "slideshow": {
     "slide_type": "slide"
    }
   },
   "source": [
    "### `BeautifulSoup` objects\n",
    "\n",
    "- `bs4.BeautifulSoup` takes in a string or file-like object representing HTML (markup) and returns a **parsed** document.\n",
    "- Remember, HTML documents are represented as **trees**, under the \"Document Object Model.\""
   ]
  },
  {
   "cell_type": "code",
   "execution_count": 2,
   "id": "e505c065",
   "metadata": {},
   "outputs": [],
   "source": [
    "html_string = '''\n",
    "<html>\n",
    "    <body>\n",
    "      <div id=\"content\">\n",
    "        <h1>Heading here</h1>\n",
    "        <p>My First paragraph</p>\n",
    "        <p>My <em>second</em> paragraph</p>\n",
    "        <hr>\n",
    "      </div>\n",
    "      <div id=\"nav\">\n",
    "        <ul>\n",
    "          <li>item 1</li>\n",
    "          <li>item 2</li>\n",
    "          <li>item 3</li>\n",
    "        </ul>\n",
    "      </div>\n",
    "    </body>\n",
    "</html>\n",
    "'''.strip()"
   ]
  },
  {
   "cell_type": "code",
   "execution_count": 3,
   "id": "2c97fb86",
   "metadata": {},
   "outputs": [],
   "source": [
    "soup = bs4.BeautifulSoup(html_string)"
   ]
  },
  {
   "cell_type": "code",
   "execution_count": 4,
   "id": "4ec4f6ca",
   "metadata": {},
   "outputs": [
    {
     "data": {
      "text/plain": [
       "bs4.BeautifulSoup"
      ]
     },
     "execution_count": 4,
     "metadata": {},
     "output_type": "execute_result"
    }
   ],
   "source": [
    "type(soup)"
   ]
  },
  {
   "cell_type": "markdown",
   "id": "e0a21d52",
   "metadata": {
    "slideshow": {
     "slide_type": "slide"
    }
   },
   "source": [
    "### Finding elements in a tree\n",
    "\n",
    "The most common methods you'll use to find _tags_ in a `soup` object are:\n",
    "- `soup.find(tag)`, which finds the **first** instance of a tag (the first one on the page, i.e. the first one that DFS sees).\n",
    "    - More general: `soup.find(name=None, attrs={}, recursive=True, text=None, **kwargs)`.\n",
    "- `soup.find_all(tag)`, which finds **all** instances of a tag.\n"
   ]
  },
  {
   "cell_type": "markdown",
   "id": "42ce4de4",
   "metadata": {
    "slideshow": {
     "slide_type": "slide"
    }
   },
   "source": [
    "### Using `find_all`\n",
    "\n",
    "`find_all` returns a list of all matches."
   ]
  },
  {
   "cell_type": "code",
   "execution_count": 5,
   "id": "24d0e570",
   "metadata": {},
   "outputs": [
    {
     "data": {
      "text/plain": [
       "[<div id=\"content\">\n",
       " <h1>Heading here</h1>\n",
       " <p>My First paragraph</p>\n",
       " <p>My <em>second</em> paragraph</p>\n",
       " <hr/>\n",
       " </div>,\n",
       " <div id=\"nav\">\n",
       " <ul>\n",
       " <li>item 1</li>\n",
       " <li>item 2</li>\n",
       " <li>item 3</li>\n",
       " </ul>\n",
       " </div>]"
      ]
     },
     "execution_count": 5,
     "metadata": {},
     "output_type": "execute_result"
    }
   ],
   "source": [
    "soup.find_all('div')"
   ]
  },
  {
   "cell_type": "code",
   "execution_count": 6,
   "id": "0e3fb3a0",
   "metadata": {},
   "outputs": [
    {
     "data": {
      "text/plain": [
       "[<li>item 1</li>, <li>item 2</li>, <li>item 3</li>]"
      ]
     },
     "execution_count": 6,
     "metadata": {},
     "output_type": "execute_result"
    }
   ],
   "source": [
    "soup.find_all('li')"
   ]
  },
  {
   "cell_type": "code",
   "execution_count": 7,
   "id": "3e5c50bd",
   "metadata": {},
   "outputs": [
    {
     "data": {
      "text/plain": [
       "['item 1', 'item 2', 'item 3']"
      ]
     },
     "execution_count": 7,
     "metadata": {},
     "output_type": "execute_result"
    }
   ],
   "source": [
    "[x.text for x in soup.find_all('li')]"
   ]
  },
  {
   "cell_type": "markdown",
   "id": "713e94fa",
   "metadata": {
    "slideshow": {
     "slide_type": "slide"
    }
   },
   "source": [
    "### Node attributes\n",
    "* The `text` attribute of a tag element gets the text between the opening and closing tags.\n",
    "* The `attrs` attribute lists all attributes of a tag.\n",
    "* The `get(key)` method gets the value of a tag attribute."
   ]
  },
  {
   "cell_type": "code",
   "execution_count": 8,
   "id": "d183a0b4",
   "metadata": {},
   "outputs": [
    {
     "data": {
      "text/plain": [
       "<p>My First paragraph</p>"
      ]
     },
     "execution_count": 8,
     "metadata": {},
     "output_type": "execute_result"
    }
   ],
   "source": [
    "soup.find('p')"
   ]
  },
  {
   "cell_type": "code",
   "execution_count": 9,
   "id": "e1a308ab",
   "metadata": {},
   "outputs": [
    {
     "data": {
      "text/plain": [
       "'My First paragraph'"
      ]
     },
     "execution_count": 9,
     "metadata": {},
     "output_type": "execute_result"
    }
   ],
   "source": [
    "soup.find('p').text"
   ]
  },
  {
   "cell_type": "code",
   "execution_count": 10,
   "id": "b1919b9b",
   "metadata": {},
   "outputs": [
    {
     "data": {
      "text/plain": [
       "<div id=\"content\">\n",
       "<h1>Heading here</h1>\n",
       "<p>My First paragraph</p>\n",
       "<p>My <em>second</em> paragraph</p>\n",
       "<hr/>\n",
       "</div>"
      ]
     },
     "execution_count": 10,
     "metadata": {},
     "output_type": "execute_result"
    }
   ],
   "source": [
    "soup.find('div')"
   ]
  },
  {
   "cell_type": "code",
   "execution_count": 11,
   "id": "7331ff79",
   "metadata": {},
   "outputs": [
    {
     "data": {
      "text/plain": [
       "{'id': 'content'}"
      ]
     },
     "execution_count": 11,
     "metadata": {},
     "output_type": "execute_result"
    }
   ],
   "source": [
    "soup.find('div').attrs"
   ]
  },
  {
   "cell_type": "code",
   "execution_count": 12,
   "id": "32d5e41c",
   "metadata": {},
   "outputs": [
    {
     "data": {
      "text/plain": [
       "'content'"
      ]
     },
     "execution_count": 12,
     "metadata": {},
     "output_type": "execute_result"
    }
   ],
   "source": [
    "soup.find('div').get('id')"
   ]
  },
  {
   "cell_type": "markdown",
   "id": "3e5f874f",
   "metadata": {
    "slideshow": {
     "slide_type": "slide"
    }
   },
   "source": [
    "The `get` method must be called directly on the node that contains the attribute you're looking for."
   ]
  },
  {
   "cell_type": "code",
   "execution_count": 13,
   "id": "dbae92f9",
   "metadata": {},
   "outputs": [
    {
     "data": {
      "text/plain": [
       "<html>\n",
       "<body>\n",
       "<div id=\"content\">\n",
       "<h1>Heading here</h1>\n",
       "<p>My First paragraph</p>\n",
       "<p>My <em>second</em> paragraph</p>\n",
       "<hr/>\n",
       "</div>\n",
       "<div id=\"nav\">\n",
       "<ul>\n",
       "<li>item 1</li>\n",
       "<li>item 2</li>\n",
       "<li>item 3</li>\n",
       "</ul>\n",
       "</div>\n",
       "</body>\n",
       "</html>"
      ]
     },
     "execution_count": 13,
     "metadata": {},
     "output_type": "execute_result"
    }
   ],
   "source": [
    "soup"
   ]
  },
  {
   "cell_type": "code",
   "execution_count": 14,
   "id": "ddff20a7",
   "metadata": {},
   "outputs": [],
   "source": [
    "# While there are multiple 'id' attributes, none of them are in the <html> tag at the top.\n",
    "soup.get('id')"
   ]
  },
  {
   "cell_type": "code",
   "execution_count": 15,
   "id": "24b4116d",
   "metadata": {
    "scrolled": true
   },
   "outputs": [
    {
     "data": {
      "text/plain": [
       "'content'"
      ]
     },
     "execution_count": 15,
     "metadata": {},
     "output_type": "execute_result"
    }
   ],
   "source": [
    "soup.find('div').get('id')"
   ]
  },
  {
   "cell_type": "markdown",
   "id": "01292e8e",
   "metadata": {
    "slideshow": {
     "slide_type": "slide"
    }
   },
   "source": [
    "## Example: Scraping the Jiaotong global classroom page"
   ]
  },
  {
   "cell_type": "markdown",
   "id": "7cfdb9a9",
   "metadata": {
    "slideshow": {
     "slide_type": "slide"
    }
   },
   "source": [
    "### Example\n",
    "\n",
    "Let's try and extract a list of courses from https://global.sjtu.edu.cn/en/cooperation/globalclass.\n",
    "\n",
    "A good first step is to use the \"inspect element\" tool in our web browser."
   ]
  },
  {
   "cell_type": "code",
   "execution_count": 16,
   "id": "eb436506",
   "metadata": {},
   "outputs": [
    {
     "data": {
      "text/plain": [
       "<Response [200]>"
      ]
     },
     "execution_count": 16,
     "metadata": {},
     "output_type": "execute_result"
    }
   ],
   "source": [
    "fac_response = requests.get('https://global.sjtu.edu.cn/en/cooperation/globalclass')\n",
    "fac_response"
   ]
  },
  {
   "cell_type": "code",
   "execution_count": 17,
   "id": "f795f0ae",
   "metadata": {},
   "outputs": [],
   "source": [
    "soup = bs4.BeautifulSoup(fac_response.text)"
   ]
  },
  {
   "cell_type": "markdown",
   "id": "e72c3c4c",
   "metadata": {
    "slideshow": {
     "slide_type": "slide"
    }
   },
   "source": [
    "It seems like the relevant `<div>`s for all courses are the ones where the `class` attribute is equal to `'layui-col-lg3 layui-col-md4 layui-col-sm6 layui-col-xsm6 layui-col-xs12'`. Let's find all of those."
   ]
  },
  {
   "cell_type": "code",
   "execution_count": 18,
   "id": "69823e8c",
   "metadata": {
    "slideshow": {
     "slide_type": "-"
    }
   },
   "outputs": [
    {
     "data": {
      "text/plain": [
       "20"
      ]
     },
     "execution_count": 18,
     "metadata": {},
     "output_type": "execute_result"
    }
   ],
   "source": [
    "divs = soup.find_all('div', attrs={'class': 'layui-col-lg3 layui-col-md4 layui-col-sm6 layui-col-xsm6 layui-col-xs12'})\n",
    "len(divs)"
   ]
  },
  {
   "cell_type": "markdown",
   "id": "ae33b5bc",
   "metadata": {
    "slideshow": {
     "slide_type": "slide"
    }
   },
   "source": [
    "It seems like the relevant `<div>`s for course titles are the ones where the `class` attribute is equal to `'large-tile'`. Let's find all of those."
   ]
  },
  {
   "cell_type": "code",
   "execution_count": 19,
   "id": "421d11b1",
   "metadata": {},
   "outputs": [
    {
     "data": {
      "text/plain": [
       "'PHIL6319 Philosophy, Technology, and Society'"
      ]
     },
     "execution_count": 19,
     "metadata": {},
     "output_type": "execute_result"
    }
   ],
   "source": [
    "divs[0].find('div',attrs={'class':'large-title'}).text.strip()"
   ]
  },
  {
   "cell_type": "markdown",
   "id": "d4afe6f4",
   "metadata": {
    "slideshow": {
     "slide_type": "fragment"
    }
   },
   "source": [
    "Within here, we need to extract the link to each course. It seems like names are stored in the `href` attribute within an `<a>` tag."
   ]
  },
  {
   "cell_type": "code",
   "execution_count": 20,
   "id": "dc529f47",
   "metadata": {},
   "outputs": [
    {
     "data": {
      "text/plain": [
       "'/en/page/sub/433'"
      ]
     },
     "execution_count": 20,
     "metadata": {},
     "output_type": "execute_result"
    }
   ],
   "source": [
    "divs[0].find('a').get('href')"
   ]
  },
  {
   "cell_type": "markdown",
   "id": "bca40939",
   "metadata": {
    "slideshow": {
     "slide_type": "fragment"
    }
   },
   "source": [
    "We can also extract course credit:"
   ]
  },
  {
   "cell_type": "code",
   "execution_count": 21,
   "id": "dac50856",
   "metadata": {},
   "outputs": [
    {
     "data": {
      "text/plain": [
       "'Credits: 2'"
      ]
     },
     "execution_count": 21,
     "metadata": {},
     "output_type": "execute_result"
    }
   ],
   "source": [
    "divs[0].find_all('p')[1].text"
   ]
  },
  {
   "cell_type": "markdown",
   "id": "6280b3a2",
   "metadata": {
    "slideshow": {
     "slide_type": "fragment"
    }
   },
   "source": [
    "We can also extract course department:"
   ]
  },
  {
   "cell_type": "code",
   "execution_count": 22,
   "id": "ef790b14",
   "metadata": {},
   "outputs": [
    {
     "data": {
      "text/plain": [
       "'School of Humanities'"
      ]
     },
     "execution_count": 22,
     "metadata": {},
     "output_type": "execute_result"
    }
   ],
   "source": [
    "divs[0].find_all('p')[0].text"
   ]
  },
  {
   "cell_type": "markdown",
   "id": "2638aa93",
   "metadata": {
    "slideshow": {
     "slide_type": "slide"
    }
   },
   "source": [
    "Let's create a DataFrame consisting of credit, department, and link for each course."
   ]
  },
  {
   "cell_type": "code",
   "execution_count": 23,
   "id": "23bd6cea",
   "metadata": {
    "scrolled": true
   },
   "outputs": [
    {
     "data": {
      "text/plain": [
       "['PHIL6319 Philosophy, Technology, and Society',\n",
       " 'MATH6307P Automation and System Control',\n",
       " 'PUM8301 Mega-urban Projects and Comparison',\n",
       " 'POL6301 Politics and International Relations Theory',\n",
       " 'PUM6004 Social Science Methodology']"
      ]
     },
     "execution_count": 23,
     "metadata": {},
     "output_type": "execute_result"
    }
   ],
   "source": [
    "names = [div.find('div',attrs={'class':'large-title'}).text.strip() for div in divs]\n",
    "names[:5]"
   ]
  },
  {
   "cell_type": "code",
   "execution_count": 24,
   "id": "3bae85c1",
   "metadata": {},
   "outputs": [
    {
     "data": {
      "text/plain": [
       "['Credits: 2', 'Credits:2', 'Credits:2\\xa0', 'Credits:3', 'Credits：3']"
      ]
     },
     "execution_count": 24,
     "metadata": {},
     "output_type": "execute_result"
    }
   ],
   "source": [
    "credits = [div.find_all('p')[1].text for div in divs]\n",
    "credits[:5]"
   ]
  },
  {
   "cell_type": "code",
   "execution_count": 25,
   "id": "0b3b2120",
   "metadata": {},
   "outputs": [
    {
     "data": {
      "text/plain": [
       "['School of Humanities',\n",
       " 'SJTU Paris Elite Institute of Technology',\n",
       " 'School of International and Public Affairs',\n",
       " 'School of International and Public Affairs',\n",
       " 'School of International and Public Affairs']"
      ]
     },
     "execution_count": 25,
     "metadata": {},
     "output_type": "execute_result"
    }
   ],
   "source": [
    "departments = [div.find_all('p')[0].text for div in divs]\n",
    "departments[:5]"
   ]
  },
  {
   "cell_type": "code",
   "execution_count": 26,
   "id": "5f511262",
   "metadata": {},
   "outputs": [
    {
     "data": {
      "text/plain": [
       "['https://global.sjtu.edu.cn/en/page/sub/433',\n",
       " 'https://global.sjtu.edu.cn/en/page/sub/431',\n",
       " 'https://global.sjtu.edu.cn/en/page/sub/430',\n",
       " 'https://global.sjtu.edu.cn/en/page/sub/429',\n",
       " 'https://global.sjtu.edu.cn/en/page/sub/395']"
      ]
     },
     "execution_count": 26,
     "metadata": {},
     "output_type": "execute_result"
    }
   ],
   "source": [
    "links = [ 'https://global.sjtu.edu.cn'+div.find('a').get('href') for div in divs]\n",
    "links[:5]\n"
   ]
  },
  {
   "cell_type": "code",
   "execution_count": null,
   "id": "711c7ba8",
   "metadata": {},
   "outputs": [],
   "source": []
  },
  {
   "cell_type": "markdown",
   "id": "37d5f399",
   "metadata": {},
   "source": [
    "Now we have a DataFrame!"
   ]
  },
  {
   "cell_type": "code",
   "execution_count": 27,
   "id": "cf508d64",
   "metadata": {},
   "outputs": [
    {
     "data": {
      "text/html": [
       "<div>\n",
       "<style scoped>\n",
       "    .dataframe tbody tr th:only-of-type {\n",
       "        vertical-align: middle;\n",
       "    }\n",
       "\n",
       "    .dataframe tbody tr th {\n",
       "        vertical-align: top;\n",
       "    }\n",
       "\n",
       "    .dataframe thead th {\n",
       "        text-align: right;\n",
       "    }\n",
       "</style>\n",
       "<table border=\"1\" class=\"dataframe\">\n",
       "  <thead>\n",
       "    <tr style=\"text-align: right;\">\n",
       "      <th></th>\n",
       "      <th>name</th>\n",
       "      <th>credit</th>\n",
       "      <th>department</th>\n",
       "      <th>link</th>\n",
       "    </tr>\n",
       "  </thead>\n",
       "  <tbody>\n",
       "    <tr>\n",
       "      <th>0</th>\n",
       "      <td>PHIL6319 Philosophy, Technology, and Society</td>\n",
       "      <td>Credits: 2</td>\n",
       "      <td>School of Humanities</td>\n",
       "      <td>https://global.sjtu.edu.cn/en/page/sub/433</td>\n",
       "    </tr>\n",
       "    <tr>\n",
       "      <th>1</th>\n",
       "      <td>MATH6307P Automation and System Control</td>\n",
       "      <td>Credits:2</td>\n",
       "      <td>SJTU Paris Elite Institute of Technology</td>\n",
       "      <td>https://global.sjtu.edu.cn/en/page/sub/431</td>\n",
       "    </tr>\n",
       "    <tr>\n",
       "      <th>2</th>\n",
       "      <td>PUM8301 Mega-urban Projects and Comparison</td>\n",
       "      <td>Credits:2</td>\n",
       "      <td>School of International and Public Affairs</td>\n",
       "      <td>https://global.sjtu.edu.cn/en/page/sub/430</td>\n",
       "    </tr>\n",
       "    <tr>\n",
       "      <th>3</th>\n",
       "      <td>POL6301 Politics and International Relations T...</td>\n",
       "      <td>Credits:3</td>\n",
       "      <td>School of International and Public Affairs</td>\n",
       "      <td>https://global.sjtu.edu.cn/en/page/sub/429</td>\n",
       "    </tr>\n",
       "    <tr>\n",
       "      <th>4</th>\n",
       "      <td>PUM6004 Social Science Methodology</td>\n",
       "      <td>Credits：3</td>\n",
       "      <td>School of International and Public Affairs</td>\n",
       "      <td>https://global.sjtu.edu.cn/en/page/sub/395</td>\n",
       "    </tr>\n",
       "  </tbody>\n",
       "</table>\n",
       "</div>"
      ],
      "text/plain": [
       "                                                name      credit  \\\n",
       "0       PHIL6319 Philosophy, Technology, and Society  Credits: 2   \n",
       "1            MATH6307P Automation and System Control   Credits:2   \n",
       "2         PUM8301 Mega-urban Projects and Comparison  Credits:2    \n",
       "3  POL6301 Politics and International Relations T...   Credits:3   \n",
       "4                 PUM6004 Social Science Methodology   Credits：3   \n",
       "\n",
       "                                   department  \\\n",
       "0                        School of Humanities   \n",
       "1    SJTU Paris Elite Institute of Technology   \n",
       "2  School of International and Public Affairs   \n",
       "3  School of International and Public Affairs   \n",
       "4  School of International and Public Affairs   \n",
       "\n",
       "                                         link  \n",
       "0  https://global.sjtu.edu.cn/en/page/sub/433  \n",
       "1  https://global.sjtu.edu.cn/en/page/sub/431  \n",
       "2  https://global.sjtu.edu.cn/en/page/sub/430  \n",
       "3  https://global.sjtu.edu.cn/en/page/sub/429  \n",
       "4  https://global.sjtu.edu.cn/en/page/sub/395  "
      ]
     },
     "execution_count": 27,
     "metadata": {},
     "output_type": "execute_result"
    }
   ],
   "source": [
    "courses = pd.DataFrame().assign(name=names, credit=credits, department=departments ,link=links)\n",
    "courses.head()"
   ]
  },
  {
   "cell_type": "code",
   "execution_count": 28,
   "id": "f9b9b135",
   "metadata": {},
   "outputs": [
    {
     "data": {
      "text/html": [
       "<div>\n",
       "<style scoped>\n",
       "    .dataframe tbody tr th:only-of-type {\n",
       "        vertical-align: middle;\n",
       "    }\n",
       "\n",
       "    .dataframe tbody tr th {\n",
       "        vertical-align: top;\n",
       "    }\n",
       "\n",
       "    .dataframe thead th {\n",
       "        text-align: right;\n",
       "    }\n",
       "</style>\n",
       "<table border=\"1\" class=\"dataframe\">\n",
       "  <thead>\n",
       "    <tr style=\"text-align: right;\">\n",
       "      <th></th>\n",
       "      <th>name</th>\n",
       "      <th>credit</th>\n",
       "      <th>department</th>\n",
       "      <th>link</th>\n",
       "    </tr>\n",
       "  </thead>\n",
       "  <tbody>\n",
       "    <tr>\n",
       "      <th>13</th>\n",
       "      <td>ECE6202J Solid State Physics</td>\n",
       "      <td>Credit 3</td>\n",
       "      <td>UM-SJTU Joint Institute</td>\n",
       "      <td>https://global.sjtu.edu.cn/en/page/sub/407</td>\n",
       "    </tr>\n",
       "    <tr>\n",
       "      <th>14</th>\n",
       "      <td>ME2110J Introduction to Solid Mechanics</td>\n",
       "      <td>Credits: 4</td>\n",
       "      <td>UM-SJTU Joint Institute</td>\n",
       "      <td>https://global.sjtu.edu.cn/en/page/sub/406</td>\n",
       "    </tr>\n",
       "  </tbody>\n",
       "</table>\n",
       "</div>"
      ],
      "text/plain": [
       "                                       name      credit  \\\n",
       "13             ECE6202J Solid State Physics    Credit 3   \n",
       "14  ME2110J Introduction to Solid Mechanics  Credits: 4   \n",
       "\n",
       "                 department                                        link  \n",
       "13  UM-SJTU Joint Institute  https://global.sjtu.edu.cn/en/page/sub/407  \n",
       "14  UM-SJTU Joint Institute  https://global.sjtu.edu.cn/en/page/sub/406  "
      ]
     },
     "execution_count": 28,
     "metadata": {},
     "output_type": "execute_result"
    }
   ],
   "source": [
    "courses[courses['department']=='UM-SJTU Joint Institute']"
   ]
  },
  {
   "cell_type": "markdown",
   "id": "564c7ce7",
   "metadata": {
    "slideshow": {
     "slide_type": "slide"
    }
   },
   "source": [
    "What if we want to get course's pictures? It seems like we should look at the attributes of an `<img>` tag."
   ]
  },
  {
   "cell_type": "code",
   "execution_count": 29,
   "id": "e6791f0a",
   "metadata": {},
   "outputs": [],
   "source": [
    "def show_picture(name):\n",
    "    idx = names.index(name)\n",
    "    url = divs[idx].find('img').get('src')\n",
    "    display(Image(url))"
   ]
  },
  {
   "cell_type": "code",
   "execution_count": 31,
   "id": "93e9be3d",
   "metadata": {},
   "outputs": [],
   "source": [
    "# show_picture('ECE2810J Data Structures and Algorithms')"
   ]
  },
  {
   "cell_type": "markdown",
   "id": "2f0d4415",
   "metadata": {
    "slideshow": {
     "slide_type": "slide"
    }
   },
   "source": [
    "## Example: Scraping quotes"
   ]
  },
  {
   "cell_type": "markdown",
   "id": "019f606c",
   "metadata": {
    "slideshow": {
     "slide_type": "slide"
    }
   },
   "source": [
    "### Example: Scraping quotes\n",
    "\n",
    "Let's scrape quotes from https://quotes.toscrape.com/.\n",
    "\n",
    "<center><img src=\"imgs/quotes2scrape.png\" width=60%></center>"
   ]
  },
  {
   "cell_type": "markdown",
   "id": "bb141b04",
   "metadata": {
    "slideshow": {
     "slide_type": "fragment"
    }
   },
   "source": [
    "Specifically, let's try to make a DataFrame that looks like the one below:\n",
    "\n",
    "<table border=\"1\" class=\"dataframe\">\n",
    "  <thead>\n",
    "    <tr style=\"text-align: right;\">\n",
    "      <th></th>\n",
    "      <th>quote</th>\n",
    "      <th>author</th>\n",
    "      <th>author_url</th>\n",
    "      <th>tags</th>\n",
    "    </tr>\n",
    "  </thead>\n",
    "  <tbody>\n",
    "    <tr>\n",
    "      <th>0</th>\n",
    "      <td>“The world as we have created it is a process of our thinking. It cannot be changed without changing our thinking.”</td>\n",
    "      <td>Albert Einstein</td>\n",
    "      <td>https://quotes.toscrape.com/author/Albert-Einstein</td>\n",
    "      <td>change,deep-thoughts,thinking,world</td>\n",
    "    </tr>\n",
    "    <tr>\n",
    "      <th>1</th>\n",
    "      <td>“It is our choices, Harry, that show what we truly are, far more than our abilities.”</td>\n",
    "      <td>J.K. Rowling</td>\n",
    "      <td>https://quotes.toscrape.com/author/J-K-Rowling</td>\n",
    "      <td>abilities,choices</td>\n",
    "    </tr>\n",
    "    <tr>\n",
    "      <th>2</th>\n",
    "      <td>“There are only two ways to live your life. One is as though nothing is a miracle. The other is as though everything is a miracle.”</td>\n",
    "      <td>Albert Einstein</td>\n",
    "      <td>https://quotes.toscrape.com/author/Albert-Einstein</td>\n",
    "      <td>inspirational,life,live,miracle,miracles</td>\n",
    "    </tr>\n",
    "  </tbody>\n",
    "</table>"
   ]
  },
  {
   "cell_type": "markdown",
   "id": "53e66358",
   "metadata": {
    "slideshow": {
     "slide_type": "slide"
    }
   },
   "source": [
    "### The plan\n",
    "\n",
    "Eventually, we will create a single function – `quote_df` – which takes in an integer `n` and returns a **DataFrame** with the quotes on the **first `n` pages** of https://quotes.toscrape.com/.\n",
    "\n",
    "To do this, we will define several helper functions:"
   ]
  },
  {
   "cell_type": "markdown",
   "id": "9f13e070",
   "metadata": {
    "slideshow": {
     "slide_type": "fragment"
    }
   },
   "source": [
    "- `download_page(i)`, which downloads a **single page** (page `i`) and returns a `BeautifulSoup` object of the response."
   ]
  },
  {
   "cell_type": "markdown",
   "id": "345f5d6e",
   "metadata": {
    "slideshow": {
     "slide_type": "fragment"
    }
   },
   "source": [
    "- `process_quote(div)`, which takes in a `<div>` tree corresponding to a **single quote** and returns a Series containing all of the relevant information for that quote."
   ]
  },
  {
   "cell_type": "markdown",
   "id": "e6d4fa97",
   "metadata": {
    "slideshow": {
     "slide_type": "fragment"
    }
   },
   "source": [
    "- `process_page(divs)`, which takes in a list of `<div>` trees corresponding to a **single page** and returns a DataFrame containing all of the relevant information for all quotes on that page."
   ]
  },
  {
   "cell_type": "markdown",
   "id": "66214488",
   "metadata": {
    "slideshow": {
     "slide_type": "slide"
    }
   },
   "source": [
    "Key principle: some of our helper functions will make **requests**, and others will **parse**, but none will do both! \n",
    "- Easier to debug and catch errors.\n",
    "- Avoids unnecessary requests."
   ]
  },
  {
   "cell_type": "markdown",
   "id": "c90a4563",
   "metadata": {
    "slideshow": {
     "slide_type": "slide"
    }
   },
   "source": [
    "### Downloading a single page"
   ]
  },
  {
   "cell_type": "code",
   "execution_count": 32,
   "id": "6db125af",
   "metadata": {
    "slideshow": {
     "slide_type": "-"
    }
   },
   "outputs": [],
   "source": [
    "def download_page(i):\n",
    "    url = f'https://quotes.toscrape.com/page/{i}'\n",
    "    request = requests.get(url)\n",
    "    return bs4.BeautifulSoup(request.text)"
   ]
  },
  {
   "cell_type": "markdown",
   "id": "e452bb34",
   "metadata": {},
   "source": [
    "In `quote_df`, we will call `download_page` repeatedly – once for `i=1`, once for `i=2`, ..., `i = n`. For now, we will work with just page 5 (chosen arbitrarily)."
   ]
  },
  {
   "cell_type": "code",
   "execution_count": 33,
   "id": "27aa68f3",
   "metadata": {},
   "outputs": [],
   "source": [
    "soup = download_page(5)"
   ]
  },
  {
   "cell_type": "code",
   "execution_count": 34,
   "id": "4d8cef28",
   "metadata": {
    "scrolled": false
   },
   "outputs": [
    {
     "data": {
      "text/plain": [
       "<!DOCTYPE html>\n",
       "<html lang=\"en\">\n",
       "<head>\n",
       "<meta charset=\"utf-8\"/>\n",
       "<title>Quotes to Scrape</title>\n",
       "<link href=\"/static/bootstrap.min.css\" rel=\"stylesheet\"/>\n",
       "<link href=\"/static/main.css\" rel=\"stylesheet\"/>\n",
       "</head>\n",
       "<body>\n",
       "<div class=\"container\">\n",
       "<div class=\"row header-box\">\n",
       "<div class=\"col-md-8\">\n",
       "<h1>\n",
       "<a href=\"/\" style=\"text-decoration: none\">Quotes to Scrape</a>\n",
       "</h1>\n",
       "</div>\n",
       "<div class=\"col-md-4\">\n",
       "<p>\n",
       "<a href=\"/login\">Login</a>\n",
       "</p>\n",
       "</div>\n",
       "</div>\n",
       "<div class=\"row\">\n",
       "<div class=\"col-md-8\">\n",
       "<div class=\"quote\" itemscope=\"\" itemtype=\"http://schema.org/CreativeWork\">\n",
       "<span class=\"text\" itemprop=\"text\">“A reader lives a thousand lives before he dies, said Jojen. The man who never reads lives only one.”</span>\n",
       "<span>by <small class=\"author\" itemprop=\"author\">George R.R. Martin</small>\n",
       "<a href=\"/author/George-R-R-Martin\">(about)</a>\n",
       "</span>\n",
       "<div class=\"tags\">\n",
       "            Tags:\n",
       "            <meta class=\"keywords\" content=\"read,readers,reading,reading-books\" itemprop=\"keywords\"/>\n",
       "<a class=\"tag\" href=\"/tag/read/page/1/\">read</a>\n",
       "<a class=\"tag\" href=\"/tag/readers/page/1/\">readers</a>\n",
       "<a class=\"tag\" href=\"/tag/reading/page/1/\">reading</a>\n",
       "<a class=\"tag\" href=\"/tag/reading-books/page/1/\">reading-books</a>\n",
       "</div>\n",
       "</div>\n",
       "<div class=\"quote\" itemscope=\"\" itemtype=\"http://schema.org/CreativeWork\">\n",
       "<span class=\"text\" itemprop=\"text\">“You can never get a cup of tea large enough or a book long enough to suit me.”</span>\n",
       "<span>by <small class=\"author\" itemprop=\"author\">C.S. Lewis</small>\n",
       "<a href=\"/author/C-S-Lewis\">(about)</a>\n",
       "</span>\n",
       "<div class=\"tags\">\n",
       "            Tags:\n",
       "            <meta class=\"keywords\" content=\"books,inspirational,reading,tea\" itemprop=\"keywords\"/>\n",
       "<a class=\"tag\" href=\"/tag/books/page/1/\">books</a>\n",
       "<a class=\"tag\" href=\"/tag/inspirational/page/1/\">inspirational</a>\n",
       "<a class=\"tag\" href=\"/tag/reading/page/1/\">reading</a>\n",
       "<a class=\"tag\" href=\"/tag/tea/page/1/\">tea</a>\n",
       "</div>\n",
       "</div>\n",
       "<div class=\"quote\" itemscope=\"\" itemtype=\"http://schema.org/CreativeWork\">\n",
       "<span class=\"text\" itemprop=\"text\">“You believe lies so you eventually learn to trust no one but yourself.”</span>\n",
       "<span>by <small class=\"author\" itemprop=\"author\">Marilyn Monroe</small>\n",
       "<a href=\"/author/Marilyn-Monroe\">(about)</a>\n",
       "</span>\n",
       "<div class=\"tags\">\n",
       "<meta class=\"keywords\" content=\"\" itemprop=\"keywords\"/>\n",
       "</div>\n",
       "</div>\n",
       "<div class=\"quote\" itemscope=\"\" itemtype=\"http://schema.org/CreativeWork\">\n",
       "<span class=\"text\" itemprop=\"text\">“If you can make a woman laugh, you can make her do anything.”</span>\n",
       "<span>by <small class=\"author\" itemprop=\"author\">Marilyn Monroe</small>\n",
       "<a href=\"/author/Marilyn-Monroe\">(about)</a>\n",
       "</span>\n",
       "<div class=\"tags\">\n",
       "            Tags:\n",
       "            <meta class=\"keywords\" content=\"girls,love\" itemprop=\"keywords\"/>\n",
       "<a class=\"tag\" href=\"/tag/girls/page/1/\">girls</a>\n",
       "<a class=\"tag\" href=\"/tag/love/page/1/\">love</a>\n",
       "</div>\n",
       "</div>\n",
       "<div class=\"quote\" itemscope=\"\" itemtype=\"http://schema.org/CreativeWork\">\n",
       "<span class=\"text\" itemprop=\"text\">“Life is like riding a bicycle. To keep your balance, you must keep moving.”</span>\n",
       "<span>by <small class=\"author\" itemprop=\"author\">Albert Einstein</small>\n",
       "<a href=\"/author/Albert-Einstein\">(about)</a>\n",
       "</span>\n",
       "<div class=\"tags\">\n",
       "            Tags:\n",
       "            <meta class=\"keywords\" content=\"life,simile\" itemprop=\"keywords\"/>\n",
       "<a class=\"tag\" href=\"/tag/life/page/1/\">life</a>\n",
       "<a class=\"tag\" href=\"/tag/simile/page/1/\">simile</a>\n",
       "</div>\n",
       "</div>\n",
       "<div class=\"quote\" itemscope=\"\" itemtype=\"http://schema.org/CreativeWork\">\n",
       "<span class=\"text\" itemprop=\"text\">“The real lover is the man who can thrill you by kissing your forehead or smiling into your eyes or just staring into space.”</span>\n",
       "<span>by <small class=\"author\" itemprop=\"author\">Marilyn Monroe</small>\n",
       "<a href=\"/author/Marilyn-Monroe\">(about)</a>\n",
       "</span>\n",
       "<div class=\"tags\">\n",
       "            Tags:\n",
       "            <meta class=\"keywords\" content=\"love\" itemprop=\"keywords\"/>\n",
       "<a class=\"tag\" href=\"/tag/love/page/1/\">love</a>\n",
       "</div>\n",
       "</div>\n",
       "<div class=\"quote\" itemscope=\"\" itemtype=\"http://schema.org/CreativeWork\">\n",
       "<span class=\"text\" itemprop=\"text\">“A wise girl kisses but doesn't love, listens but doesn't believe, and leaves before she is left.”</span>\n",
       "<span>by <small class=\"author\" itemprop=\"author\">Marilyn Monroe</small>\n",
       "<a href=\"/author/Marilyn-Monroe\">(about)</a>\n",
       "</span>\n",
       "<div class=\"tags\">\n",
       "            Tags:\n",
       "            <meta class=\"keywords\" content=\"attributed-no-source\" itemprop=\"keywords\"/>\n",
       "<a class=\"tag\" href=\"/tag/attributed-no-source/page/1/\">attributed-no-source</a>\n",
       "</div>\n",
       "</div>\n",
       "<div class=\"quote\" itemscope=\"\" itemtype=\"http://schema.org/CreativeWork\">\n",
       "<span class=\"text\" itemprop=\"text\">“Only in the darkness can you see the stars.”</span>\n",
       "<span>by <small class=\"author\" itemprop=\"author\">Martin Luther King Jr.</small>\n",
       "<a href=\"/author/Martin-Luther-King-Jr\">(about)</a>\n",
       "</span>\n",
       "<div class=\"tags\">\n",
       "            Tags:\n",
       "            <meta class=\"keywords\" content=\"hope,inspirational\" itemprop=\"keywords\"/>\n",
       "<a class=\"tag\" href=\"/tag/hope/page/1/\">hope</a>\n",
       "<a class=\"tag\" href=\"/tag/inspirational/page/1/\">inspirational</a>\n",
       "</div>\n",
       "</div>\n",
       "<div class=\"quote\" itemscope=\"\" itemtype=\"http://schema.org/CreativeWork\">\n",
       "<span class=\"text\" itemprop=\"text\">“It matters not what someone is born, but what they grow to be.”</span>\n",
       "<span>by <small class=\"author\" itemprop=\"author\">J.K. Rowling</small>\n",
       "<a href=\"/author/J-K-Rowling\">(about)</a>\n",
       "</span>\n",
       "<div class=\"tags\">\n",
       "            Tags:\n",
       "            <meta class=\"keywords\" content=\"dumbledore\" itemprop=\"keywords\"/>\n",
       "<a class=\"tag\" href=\"/tag/dumbledore/page/1/\">dumbledore</a>\n",
       "</div>\n",
       "</div>\n",
       "<div class=\"quote\" itemscope=\"\" itemtype=\"http://schema.org/CreativeWork\">\n",
       "<span class=\"text\" itemprop=\"text\">“Love does not begin and end the way we seem to think it does. Love is a battle, love is a war; love is a growing up.”</span>\n",
       "<span>by <small class=\"author\" itemprop=\"author\">James Baldwin</small>\n",
       "<a href=\"/author/James-Baldwin\">(about)</a>\n",
       "</span>\n",
       "<div class=\"tags\">\n",
       "            Tags:\n",
       "            <meta class=\"keywords\" content=\"love\" itemprop=\"keywords\"/>\n",
       "<a class=\"tag\" href=\"/tag/love/page/1/\">love</a>\n",
       "</div>\n",
       "</div>\n",
       "<nav>\n",
       "<ul class=\"pager\">\n",
       "<li class=\"previous\">\n",
       "<a href=\"/page/4/\"><span aria-hidden=\"true\">←</span> Previous</a>\n",
       "</li>\n",
       "<li class=\"next\">\n",
       "<a href=\"/page/6/\">Next <span aria-hidden=\"true\">→</span></a>\n",
       "</li>\n",
       "</ul>\n",
       "</nav>\n",
       "</div>\n",
       "<div class=\"col-md-4 tags-box\">\n",
       "<h2>Top Ten tags</h2>\n",
       "<span class=\"tag-item\">\n",
       "<a class=\"tag\" href=\"/tag/love/\" style=\"font-size: 28px\">love</a>\n",
       "</span>\n",
       "<span class=\"tag-item\">\n",
       "<a class=\"tag\" href=\"/tag/inspirational/\" style=\"font-size: 26px\">inspirational</a>\n",
       "</span>\n",
       "<span class=\"tag-item\">\n",
       "<a class=\"tag\" href=\"/tag/life/\" style=\"font-size: 26px\">life</a>\n",
       "</span>\n",
       "<span class=\"tag-item\">\n",
       "<a class=\"tag\" href=\"/tag/humor/\" style=\"font-size: 24px\">humor</a>\n",
       "</span>\n",
       "<span class=\"tag-item\">\n",
       "<a class=\"tag\" href=\"/tag/books/\" style=\"font-size: 22px\">books</a>\n",
       "</span>\n",
       "<span class=\"tag-item\">\n",
       "<a class=\"tag\" href=\"/tag/reading/\" style=\"font-size: 14px\">reading</a>\n",
       "</span>\n",
       "<span class=\"tag-item\">\n",
       "<a class=\"tag\" href=\"/tag/friendship/\" style=\"font-size: 10px\">friendship</a>\n",
       "</span>\n",
       "<span class=\"tag-item\">\n",
       "<a class=\"tag\" href=\"/tag/friends/\" style=\"font-size: 8px\">friends</a>\n",
       "</span>\n",
       "<span class=\"tag-item\">\n",
       "<a class=\"tag\" href=\"/tag/truth/\" style=\"font-size: 8px\">truth</a>\n",
       "</span>\n",
       "<span class=\"tag-item\">\n",
       "<a class=\"tag\" href=\"/tag/simile/\" style=\"font-size: 6px\">simile</a>\n",
       "</span>\n",
       "</div>\n",
       "</div>\n",
       "</div>\n",
       "<footer class=\"footer\">\n",
       "<div class=\"container\">\n",
       "<p class=\"text-muted\">\n",
       "                Quotes by: <a href=\"https://www.goodreads.com/quotes\">GoodReads.com</a>\n",
       "</p>\n",
       "<p class=\"copyright\">\n",
       "                Made with <span class=\"zyte\">❤</span> by <a class=\"zyte\" href=\"https://www.zyte.com\">Zyte</a>\n",
       "</p>\n",
       "</div>\n",
       "</footer>\n",
       "</body>\n",
       "</html>"
      ]
     },
     "execution_count": 34,
     "metadata": {},
     "output_type": "execute_result"
    }
   ],
   "source": [
    "soup"
   ]
  },
  {
   "cell_type": "markdown",
   "id": "d59697cc",
   "metadata": {
    "slideshow": {
     "slide_type": "slide"
    }
   },
   "source": [
    "### Parsing a single page\n",
    "\n",
    "Let's look at the page's source code (via \"inspect element\") to find where the quotes in the page are located."
   ]
  },
  {
   "cell_type": "code",
   "execution_count": 35,
   "id": "67152459",
   "metadata": {},
   "outputs": [],
   "source": [
    "divs = soup.find_all('div', attrs={'class': 'quote'})"
   ]
  },
  {
   "cell_type": "code",
   "execution_count": 36,
   "id": "b387c27b",
   "metadata": {},
   "outputs": [
    {
     "data": {
      "text/plain": [
       "<div class=\"quote\" itemscope=\"\" itemtype=\"http://schema.org/CreativeWork\">\n",
       "<span class=\"text\" itemprop=\"text\">“A reader lives a thousand lives before he dies, said Jojen. The man who never reads lives only one.”</span>\n",
       "<span>by <small class=\"author\" itemprop=\"author\">George R.R. Martin</small>\n",
       "<a href=\"/author/George-R-R-Martin\">(about)</a>\n",
       "</span>\n",
       "<div class=\"tags\">\n",
       "            Tags:\n",
       "            <meta class=\"keywords\" content=\"read,readers,reading,reading-books\" itemprop=\"keywords\"/>\n",
       "<a class=\"tag\" href=\"/tag/read/page/1/\">read</a>\n",
       "<a class=\"tag\" href=\"/tag/readers/page/1/\">readers</a>\n",
       "<a class=\"tag\" href=\"/tag/reading/page/1/\">reading</a>\n",
       "<a class=\"tag\" href=\"/tag/reading-books/page/1/\">reading-books</a>\n",
       "</div>\n",
       "</div>"
      ]
     },
     "execution_count": 36,
     "metadata": {},
     "output_type": "execute_result"
    }
   ],
   "source": [
    "divs[0]"
   ]
  },
  {
   "cell_type": "markdown",
   "id": "c6757bf4",
   "metadata": {
    "slideshow": {
     "slide_type": "fragment"
    }
   },
   "source": [
    "From this `<div>`, we can extract the quote, author name, author's URL, and tags."
   ]
  },
  {
   "cell_type": "code",
   "execution_count": 37,
   "id": "4f30262c",
   "metadata": {},
   "outputs": [
    {
     "data": {
      "text/plain": [
       "'“A reader lives a thousand lives before he dies, said Jojen. The man who never reads lives only one.”'"
      ]
     },
     "execution_count": 37,
     "metadata": {},
     "output_type": "execute_result"
    }
   ],
   "source": [
    "divs[0].find('span', attrs={'class': 'text'}).text"
   ]
  },
  {
   "cell_type": "code",
   "execution_count": 38,
   "id": "1272c502",
   "metadata": {},
   "outputs": [
    {
     "data": {
      "text/plain": [
       "'George R.R. Martin'"
      ]
     },
     "execution_count": 38,
     "metadata": {},
     "output_type": "execute_result"
    }
   ],
   "source": [
    "divs[0].find('small', attrs={'class': 'author'}).text"
   ]
  },
  {
   "cell_type": "code",
   "execution_count": 39,
   "id": "f718f109",
   "metadata": {},
   "outputs": [
    {
     "data": {
      "text/plain": [
       "'/author/George-R-R-Martin'"
      ]
     },
     "execution_count": 39,
     "metadata": {},
     "output_type": "execute_result"
    }
   ],
   "source": [
    "divs[0].find('a').get('href')"
   ]
  },
  {
   "cell_type": "code",
   "execution_count": 40,
   "id": "12aafc18",
   "metadata": {},
   "outputs": [
    {
     "data": {
      "text/plain": [
       "'read,readers,reading,reading-books'"
      ]
     },
     "execution_count": 40,
     "metadata": {},
     "output_type": "execute_result"
    }
   ],
   "source": [
    "divs[0].find('meta', attrs={'class': 'keywords'}).get('content')"
   ]
  },
  {
   "cell_type": "markdown",
   "id": "c497f2fc",
   "metadata": {
    "slideshow": {
     "slide_type": "slide"
    }
   },
   "source": [
    "Let's implement our next function, `process_quote`, which takes in a `<div>` corresponding to a single quote and returns a **Series** containing the quote's information.\n",
    "\n",
    "Note that this approach is different than the approach taken in the HDSI Faculty page example – there, we created each column of our final DataFrame separately, while here we are creating one **row** of our final DataFrame at a time."
   ]
  },
  {
   "cell_type": "code",
   "execution_count": 41,
   "id": "7e51643f",
   "metadata": {},
   "outputs": [],
   "source": [
    "def process_quote(div):\n",
    "    quote = div.find('span', attrs={'class': 'text'}).text\n",
    "    author = div.find('small', attrs={'class': 'author'}).text\n",
    "    author_url = 'https://quotes.toscrape.com' + div.find('a').get('href')\n",
    "    tags = div.find('meta', attrs={'class': 'keywords'}).get('content')\n",
    "    \n",
    "    return pd.Series({'quote': quote, 'author': author, 'author_url': author_url, 'tags': tags})"
   ]
  },
  {
   "cell_type": "code",
   "execution_count": 42,
   "id": "3b620164",
   "metadata": {},
   "outputs": [
    {
     "data": {
      "text/plain": [
       "quote         “If you can make a woman laugh, you can make h...\n",
       "author                                           Marilyn Monroe\n",
       "author_url    https://quotes.toscrape.com/author/Marilyn-Monroe\n",
       "tags                                                 girls,love\n",
       "dtype: object"
      ]
     },
     "execution_count": 42,
     "metadata": {},
     "output_type": "execute_result"
    }
   ],
   "source": [
    "process_quote(divs[3])"
   ]
  },
  {
   "cell_type": "markdown",
   "id": "f70a761e",
   "metadata": {
    "slideshow": {
     "slide_type": "slide"
    }
   },
   "source": [
    "Our last helper function will take in a **list** of `<div>`s, call `process_quote` on each `<div>` in the list, and return a **DataFrame**."
   ]
  },
  {
   "cell_type": "code",
   "execution_count": 43,
   "id": "100b9953",
   "metadata": {},
   "outputs": [],
   "source": [
    "def process_page(divs):\n",
    "    return pd.DataFrame([process_quote(div) for div in divs])"
   ]
  },
  {
   "cell_type": "code",
   "execution_count": 44,
   "id": "c8b3625b",
   "metadata": {},
   "outputs": [
    {
     "data": {
      "text/html": [
       "<div>\n",
       "<style scoped>\n",
       "    .dataframe tbody tr th:only-of-type {\n",
       "        vertical-align: middle;\n",
       "    }\n",
       "\n",
       "    .dataframe tbody tr th {\n",
       "        vertical-align: top;\n",
       "    }\n",
       "\n",
       "    .dataframe thead th {\n",
       "        text-align: right;\n",
       "    }\n",
       "</style>\n",
       "<table border=\"1\" class=\"dataframe\">\n",
       "  <thead>\n",
       "    <tr style=\"text-align: right;\">\n",
       "      <th></th>\n",
       "      <th>quote</th>\n",
       "      <th>author</th>\n",
       "      <th>author_url</th>\n",
       "      <th>tags</th>\n",
       "    </tr>\n",
       "  </thead>\n",
       "  <tbody>\n",
       "    <tr>\n",
       "      <th>0</th>\n",
       "      <td>“A reader lives a thousand lives before he die...</td>\n",
       "      <td>George R.R. Martin</td>\n",
       "      <td>https://quotes.toscrape.com/author/George-R-R-...</td>\n",
       "      <td>read,readers,reading,reading-books</td>\n",
       "    </tr>\n",
       "    <tr>\n",
       "      <th>1</th>\n",
       "      <td>“You can never get a cup of tea large enough o...</td>\n",
       "      <td>C.S. Lewis</td>\n",
       "      <td>https://quotes.toscrape.com/author/C-S-Lewis</td>\n",
       "      <td>books,inspirational,reading,tea</td>\n",
       "    </tr>\n",
       "    <tr>\n",
       "      <th>2</th>\n",
       "      <td>“You believe lies so you eventually learn to t...</td>\n",
       "      <td>Marilyn Monroe</td>\n",
       "      <td>https://quotes.toscrape.com/author/Marilyn-Monroe</td>\n",
       "      <td></td>\n",
       "    </tr>\n",
       "    <tr>\n",
       "      <th>3</th>\n",
       "      <td>“If you can make a woman laugh, you can make h...</td>\n",
       "      <td>Marilyn Monroe</td>\n",
       "      <td>https://quotes.toscrape.com/author/Marilyn-Monroe</td>\n",
       "      <td>girls,love</td>\n",
       "    </tr>\n",
       "    <tr>\n",
       "      <th>4</th>\n",
       "      <td>“Life is like riding a bicycle. To keep your b...</td>\n",
       "      <td>Albert Einstein</td>\n",
       "      <td>https://quotes.toscrape.com/author/Albert-Eins...</td>\n",
       "      <td>life,simile</td>\n",
       "    </tr>\n",
       "    <tr>\n",
       "      <th>5</th>\n",
       "      <td>“The real lover is the man who can thrill you ...</td>\n",
       "      <td>Marilyn Monroe</td>\n",
       "      <td>https://quotes.toscrape.com/author/Marilyn-Monroe</td>\n",
       "      <td>love</td>\n",
       "    </tr>\n",
       "    <tr>\n",
       "      <th>6</th>\n",
       "      <td>“A wise girl kisses but doesn't love, listens ...</td>\n",
       "      <td>Marilyn Monroe</td>\n",
       "      <td>https://quotes.toscrape.com/author/Marilyn-Monroe</td>\n",
       "      <td>attributed-no-source</td>\n",
       "    </tr>\n",
       "    <tr>\n",
       "      <th>7</th>\n",
       "      <td>“Only in the darkness can you see the stars.”</td>\n",
       "      <td>Martin Luther King Jr.</td>\n",
       "      <td>https://quotes.toscrape.com/author/Martin-Luth...</td>\n",
       "      <td>hope,inspirational</td>\n",
       "    </tr>\n",
       "    <tr>\n",
       "      <th>8</th>\n",
       "      <td>“It matters not what someone is born, but what...</td>\n",
       "      <td>J.K. Rowling</td>\n",
       "      <td>https://quotes.toscrape.com/author/J-K-Rowling</td>\n",
       "      <td>dumbledore</td>\n",
       "    </tr>\n",
       "    <tr>\n",
       "      <th>9</th>\n",
       "      <td>“Love does not begin and end the way we seem t...</td>\n",
       "      <td>James Baldwin</td>\n",
       "      <td>https://quotes.toscrape.com/author/James-Baldwin</td>\n",
       "      <td>love</td>\n",
       "    </tr>\n",
       "  </tbody>\n",
       "</table>\n",
       "</div>"
      ],
      "text/plain": [
       "                                               quote                  author  \\\n",
       "0  “A reader lives a thousand lives before he die...      George R.R. Martin   \n",
       "1  “You can never get a cup of tea large enough o...              C.S. Lewis   \n",
       "2  “You believe lies so you eventually learn to t...          Marilyn Monroe   \n",
       "3  “If you can make a woman laugh, you can make h...          Marilyn Monroe   \n",
       "4  “Life is like riding a bicycle. To keep your b...         Albert Einstein   \n",
       "5  “The real lover is the man who can thrill you ...          Marilyn Monroe   \n",
       "6  “A wise girl kisses but doesn't love, listens ...          Marilyn Monroe   \n",
       "7      “Only in the darkness can you see the stars.”  Martin Luther King Jr.   \n",
       "8  “It matters not what someone is born, but what...            J.K. Rowling   \n",
       "9  “Love does not begin and end the way we seem t...           James Baldwin   \n",
       "\n",
       "                                          author_url  \\\n",
       "0  https://quotes.toscrape.com/author/George-R-R-...   \n",
       "1       https://quotes.toscrape.com/author/C-S-Lewis   \n",
       "2  https://quotes.toscrape.com/author/Marilyn-Monroe   \n",
       "3  https://quotes.toscrape.com/author/Marilyn-Monroe   \n",
       "4  https://quotes.toscrape.com/author/Albert-Eins...   \n",
       "5  https://quotes.toscrape.com/author/Marilyn-Monroe   \n",
       "6  https://quotes.toscrape.com/author/Marilyn-Monroe   \n",
       "7  https://quotes.toscrape.com/author/Martin-Luth...   \n",
       "8     https://quotes.toscrape.com/author/J-K-Rowling   \n",
       "9   https://quotes.toscrape.com/author/James-Baldwin   \n",
       "\n",
       "                                 tags  \n",
       "0  read,readers,reading,reading-books  \n",
       "1     books,inspirational,reading,tea  \n",
       "2                                      \n",
       "3                          girls,love  \n",
       "4                         life,simile  \n",
       "5                                love  \n",
       "6                attributed-no-source  \n",
       "7                  hope,inspirational  \n",
       "8                          dumbledore  \n",
       "9                                love  "
      ]
     },
     "execution_count": 44,
     "metadata": {},
     "output_type": "execute_result"
    }
   ],
   "source": [
    "process_page(divs)"
   ]
  },
  {
   "cell_type": "markdown",
   "id": "a0408fbd",
   "metadata": {
    "slideshow": {
     "slide_type": "slide"
    }
   },
   "source": [
    "### Putting it all together"
   ]
  },
  {
   "cell_type": "code",
   "execution_count": 45,
   "id": "40f71cb1",
   "metadata": {},
   "outputs": [],
   "source": [
    "def quote_df(n):\n",
    "    '''Returns a DataFrame containing the quotes on the first n pages of https://quotes.toscrape.com/.'''\n",
    "    dfs = []\n",
    "    for i in range(1, n + 1):\n",
    "        # Download page n and create a BeautifulSoup object.\n",
    "        soup = download_page(i)\n",
    "        \n",
    "        # Create DataFrame using the information in that page.\n",
    "        divs = soup.find_all('div', attrs={'class': 'quote'})\n",
    "        df = process_page(divs)\n",
    "        \n",
    "        # Append DataFrame to dfs.\n",
    "        dfs.append(df)\n",
    "        \n",
    "    # Stitch all DataFrames together.\n",
    "    return pd.concat(dfs).reset_index(drop=True)"
   ]
  },
  {
   "cell_type": "code",
   "execution_count": 46,
   "id": "5a410385",
   "metadata": {
    "scrolled": true
   },
   "outputs": [
    {
     "data": {
      "text/html": [
       "<div>\n",
       "<style scoped>\n",
       "    .dataframe tbody tr th:only-of-type {\n",
       "        vertical-align: middle;\n",
       "    }\n",
       "\n",
       "    .dataframe tbody tr th {\n",
       "        vertical-align: top;\n",
       "    }\n",
       "\n",
       "    .dataframe thead th {\n",
       "        text-align: right;\n",
       "    }\n",
       "</style>\n",
       "<table border=\"1\" class=\"dataframe\">\n",
       "  <thead>\n",
       "    <tr style=\"text-align: right;\">\n",
       "      <th></th>\n",
       "      <th>quote</th>\n",
       "      <th>author</th>\n",
       "      <th>author_url</th>\n",
       "      <th>tags</th>\n",
       "    </tr>\n",
       "  </thead>\n",
       "  <tbody>\n",
       "    <tr>\n",
       "      <th>0</th>\n",
       "      <td>“The world as we have created it is a process ...</td>\n",
       "      <td>Albert Einstein</td>\n",
       "      <td>https://quotes.toscrape.com/author/Albert-Eins...</td>\n",
       "      <td>change,deep-thoughts,thinking,world</td>\n",
       "    </tr>\n",
       "    <tr>\n",
       "      <th>1</th>\n",
       "      <td>“It is our choices, Harry, that show what we t...</td>\n",
       "      <td>J.K. Rowling</td>\n",
       "      <td>https://quotes.toscrape.com/author/J-K-Rowling</td>\n",
       "      <td>abilities,choices</td>\n",
       "    </tr>\n",
       "    <tr>\n",
       "      <th>2</th>\n",
       "      <td>“There are only two ways to live your life. On...</td>\n",
       "      <td>Albert Einstein</td>\n",
       "      <td>https://quotes.toscrape.com/author/Albert-Eins...</td>\n",
       "      <td>inspirational,life,live,miracle,miracles</td>\n",
       "    </tr>\n",
       "    <tr>\n",
       "      <th>3</th>\n",
       "      <td>“The person, be it gentleman or lady, who has ...</td>\n",
       "      <td>Jane Austen</td>\n",
       "      <td>https://quotes.toscrape.com/author/Jane-Austen</td>\n",
       "      <td>aliteracy,books,classic,humor</td>\n",
       "    </tr>\n",
       "    <tr>\n",
       "      <th>4</th>\n",
       "      <td>“Imperfection is beauty, madness is genius and...</td>\n",
       "      <td>Marilyn Monroe</td>\n",
       "      <td>https://quotes.toscrape.com/author/Marilyn-Monroe</td>\n",
       "      <td>be-yourself,inspirational</td>\n",
       "    </tr>\n",
       "  </tbody>\n",
       "</table>\n",
       "</div>"
      ],
      "text/plain": [
       "                                               quote           author  \\\n",
       "0  “The world as we have created it is a process ...  Albert Einstein   \n",
       "1  “It is our choices, Harry, that show what we t...     J.K. Rowling   \n",
       "2  “There are only two ways to live your life. On...  Albert Einstein   \n",
       "3  “The person, be it gentleman or lady, who has ...      Jane Austen   \n",
       "4  “Imperfection is beauty, madness is genius and...   Marilyn Monroe   \n",
       "\n",
       "                                          author_url  \\\n",
       "0  https://quotes.toscrape.com/author/Albert-Eins...   \n",
       "1     https://quotes.toscrape.com/author/J-K-Rowling   \n",
       "2  https://quotes.toscrape.com/author/Albert-Eins...   \n",
       "3     https://quotes.toscrape.com/author/Jane-Austen   \n",
       "4  https://quotes.toscrape.com/author/Marilyn-Monroe   \n",
       "\n",
       "                                       tags  \n",
       "0       change,deep-thoughts,thinking,world  \n",
       "1                         abilities,choices  \n",
       "2  inspirational,life,live,miracle,miracles  \n",
       "3             aliteracy,books,classic,humor  \n",
       "4                 be-yourself,inspirational  "
      ]
     },
     "execution_count": 46,
     "metadata": {},
     "output_type": "execute_result"
    }
   ],
   "source": [
    "first_three_pages = quote_df(3)\n",
    "first_three_pages.head()"
   ]
  },
  {
   "cell_type": "code",
   "execution_count": 47,
   "id": "8fd1d8ae",
   "metadata": {},
   "outputs": [
    {
     "data": {
      "text/plain": [
       "['change', 'deep-thoughts', 'thinking', 'world']"
      ]
     },
     "execution_count": 47,
     "metadata": {},
     "output_type": "execute_result"
    }
   ],
   "source": [
    "first_three_pages.loc[0,'tags'].split(',')"
   ]
  },
  {
   "cell_type": "markdown",
   "id": "1d64de1c",
   "metadata": {},
   "source": [
    "The elements in the `'tags'` column are all strings, but they look like lists. This is not ideal, as we will see shortly."
   ]
  },
  {
   "cell_type": "markdown",
   "id": "a71f46b9",
   "metadata": {
    "slideshow": {
     "slide_type": "slide"
    }
   },
   "source": [
    "### Key takeaways\n",
    "\n",
    "* Make as few requests as possible.\n",
    "* Create a request and parsing plan **beforehand**.\n",
    "* Create your output schema **beforehand**.\n",
    "* Make requests and parse in **separate functions**!"
   ]
  },
  {
   "cell_type": "markdown",
   "id": "a976a583",
   "metadata": {
    "slideshow": {
     "slide_type": "slide"
    }
   },
   "source": [
    "## Nested vs. flat data formats"
   ]
  },
  {
   "cell_type": "markdown",
   "id": "0cf0ba3e",
   "metadata": {
    "slideshow": {
     "slide_type": "slide"
    }
   },
   "source": [
    "### Nested vs. flat data formats\n",
    "\n",
    "- **Nested** data formats, like HTML, JSON, and XML, allow us to represent hierarchical relationships between variables.\n",
    "\n",
    "* **Flat** (i.e. tabular) data formats, like CSV, do not.\n",
    "\n",
    "<center><img src=\"imgs/hierarchy.png\" width=40%></center>"
   ]
  },
  {
   "cell_type": "markdown",
   "id": "c56eb463",
   "metadata": {
    "slideshow": {
     "slide_type": "slide"
    }
   },
   "source": [
    "### Aside: JSON Crack\n",
    "\n",
    "The site [jsoncrack.com](https://jsoncrack.com/editor) allows you to upload a JSON file and visualizes it. Let's try it with `data/family.json`!"
   ]
  },
  {
   "cell_type": "markdown",
   "id": "cb90c5f7",
   "metadata": {
    "slideshow": {
     "slide_type": "slide"
    }
   },
   "source": [
    "### Example: Scraping quotes, again\n",
    "\n",
    "- Suppose we obtained the quotes data via an API and saved it to the file `data/quotes2scrape.json`.\n",
    "- `quotes2scrape.json` is a **JSON records** file; each line is a valid JSON object, **but the entire document is not**."
   ]
  },
  {
   "cell_type": "code",
   "execution_count": 48,
   "id": "efd6d2e7",
   "metadata": {},
   "outputs": [],
   "source": [
    "f = open(os.path.join('data', 'quotes2scrape.json'))"
   ]
  },
  {
   "cell_type": "code",
   "execution_count": 49,
   "id": "674d6be9",
   "metadata": {},
   "outputs": [
    {
     "data": {
      "text/plain": [
       "{'auth_url': 'http://quotes.toscrape.com/author/Albert-Einstein',\n",
       " 'quote_auth': 'Albert Einstein',\n",
       " 'quote_text': '“The world as we have created it is a process of our thinking. It cannot be changed without changing our thinking.”',\n",
       " 'bio': 'In 1879, Albert Einstein was born in Ulm, Germany. He completed his Ph.D. at the University of Zurich by 1909. His 1905 paper explaining the photoelectric effect, the basis of electronics, earned him the Nobel Prize in 1921. His first paper on Special Relativity Theory, also published in 1905, changed the world. After the rise of the Nazi party, Einstein made Princeton his permanent home, becoming a U.S. citizen in 1940. Einstein, a pacifist during World War I, stayed a firm proponent of social justice and responsibility. He chaired the Emergency Committee of Atomic Scientists, which organized to alert the public to the dangers of atomic warfare.At a symposium, he advised: \"In their struggle for the ethical good, teachers of religion must have the stature to give up the doctrine of a personal God, that is, give up that source of fear and hope which in the past placed such vast power in the hands of priests. In their labors they will have to avail themselves of those forces which are capable of cultivating the Good, the True, and the Beautiful in humanity itself. This is, to be sure a more difficult but an incomparably more worthy task . . . \" (\"Science, Philosophy and Religion, A Symposium,\" published by the Conference on Science, Philosophy and Religion in their Relation to the Democratic Way of Life, Inc., New York, 1941). In a letter to philosopher Eric Gutkind, dated Jan. 3, 1954, Einstein stated: \"The word god is for me nothing more than the expression and product of human weaknesses, the Bible a collection of honorable, but still primitive legends which are nevertheless pretty childish. No interpretation no matter how subtle can (for me) change this,\" (The Guardian, \"Childish superstition: Einstein\\'s letter makes view of religion relatively clear,\" by James Randerson, May 13, 2008). D. 1955.While best known for his mass–energy equivalence formula E = mc2 (which has been dubbed \"the world\\'s most famous equation\"), he received the 1921 Nobel Prize in Physics \"for his services to theoretical physics, and especially for his discovery of the law of the photoelectric effect\". The latter was pivotal in establishing quantum theory.Einstein thought that Newtonion mechanics was no longer enough to reconcile the laws of classical mechanics with the laws of the electromagnetic field. This led to the development of his special theory of relativity. He realized, however, that the principle of relativity could also be extended to gravitational fields, and with his subsequent theory of gravitation in 1916, he published a paper on the general theory of relativity. He continued to deal with problems of statistical mechanics and quantum theory, which led to his explanations of particle theory and the motion of molecules. He also investigated the thermal properties of light which laid the foundation of the photon theory of light.He was visiting the United States when Adolf Hitler came to power in 1933 and did not go back to Germany. On the eve of World War II, he endorsed a letter to President Franklin D. Roosevelt alerting him to the potential development of \"extremely powerful bombs of a new type\" and recommending that the U.S. begin similar research. This eventually led to what would become the Manhattan Project. Einstein supported defending the Allied forces, but largely denounced the idea of using the newly discovered nuclear fission as a weapon. Later, with Bertrand Russell, Einstein signed the Russell–Einstein Manifesto, which highlighted the danger of nuclear weapons. Einstein was affiliated with the Institute for Advanced Study in Princeton, New Jersey, until his death in 1955.His great intellectual achievements and originality have made the word \"Einstein\" synonymous with genius.More: http://en.wikipedia.org/wiki/Albert_E...http://www.nobelprize.org/nobel_prize...',\n",
       " 'dob': 'March 14, 1879',\n",
       " 'tags': ['change', 'deep-thoughts', 'thinking', 'world']}"
      ]
     },
     "execution_count": 49,
     "metadata": {},
     "output_type": "execute_result"
    }
   ],
   "source": [
    "json.loads(f.readline())"
   ]
  },
  {
   "cell_type": "markdown",
   "id": "1638d5dc",
   "metadata": {},
   "source": [
    "Note that for a single quote, we have keys for `'auth_url'`, `'quote_auth'`, `'quote_text'`, `'bio'`, `'dob'`, and `'tags'`."
   ]
  },
  {
   "cell_type": "markdown",
   "id": "e8ae99c1",
   "metadata": {
    "slideshow": {
     "slide_type": "slide"
    }
   },
   "source": [
    "Since each line is a separate JSON object, let's read in each line one at a time."
   ]
  },
  {
   "cell_type": "code",
   "execution_count": 50,
   "id": "77e703ae",
   "metadata": {},
   "outputs": [],
   "source": [
    "L = [json.loads(x) for x in open(os.path.join('data', 'quotes2scrape.json'))]"
   ]
  },
  {
   "cell_type": "markdown",
   "id": "51d17e8a",
   "metadata": {},
   "source": [
    "Let's convert the result to a DataFrame."
   ]
  },
  {
   "cell_type": "code",
   "execution_count": 51,
   "id": "d892a834",
   "metadata": {},
   "outputs": [
    {
     "data": {
      "text/html": [
       "<div>\n",
       "<style scoped>\n",
       "    .dataframe tbody tr th:only-of-type {\n",
       "        vertical-align: middle;\n",
       "    }\n",
       "\n",
       "    .dataframe tbody tr th {\n",
       "        vertical-align: top;\n",
       "    }\n",
       "\n",
       "    .dataframe thead th {\n",
       "        text-align: right;\n",
       "    }\n",
       "</style>\n",
       "<table border=\"1\" class=\"dataframe\">\n",
       "  <thead>\n",
       "    <tr style=\"text-align: right;\">\n",
       "      <th></th>\n",
       "      <th>auth_url</th>\n",
       "      <th>quote_auth</th>\n",
       "      <th>quote_text</th>\n",
       "      <th>bio</th>\n",
       "      <th>dob</th>\n",
       "      <th>tags</th>\n",
       "    </tr>\n",
       "  </thead>\n",
       "  <tbody>\n",
       "    <tr>\n",
       "      <th>0</th>\n",
       "      <td>http://quotes.toscrape.com/author/Albert-Einstein</td>\n",
       "      <td>Albert Einstein</td>\n",
       "      <td>“The world as we have created it is a process ...</td>\n",
       "      <td>In 1879, Albert Einstein was born in Ulm, Germ...</td>\n",
       "      <td>March 14, 1879</td>\n",
       "      <td>[change, deep-thoughts, thinking, world]</td>\n",
       "    </tr>\n",
       "    <tr>\n",
       "      <th>1</th>\n",
       "      <td>http://quotes.toscrape.com/author/J-K-Rowling</td>\n",
       "      <td>J.K. Rowling</td>\n",
       "      <td>“It is our choices, Harry, that show what we t...</td>\n",
       "      <td>See also: Robert GalbraithAlthough she writes ...</td>\n",
       "      <td>July 31, 1965</td>\n",
       "      <td>[abilities, choices]</td>\n",
       "    </tr>\n",
       "    <tr>\n",
       "      <th>2</th>\n",
       "      <td>http://quotes.toscrape.com/author/Albert-Einstein</td>\n",
       "      <td>Albert Einstein</td>\n",
       "      <td>“There are only two ways to live your life. On...</td>\n",
       "      <td>In 1879, Albert Einstein was born in Ulm, Germ...</td>\n",
       "      <td>March 14, 1879</td>\n",
       "      <td>[inspirational, life, live, miracle, miracles]</td>\n",
       "    </tr>\n",
       "    <tr>\n",
       "      <th>3</th>\n",
       "      <td>http://quotes.toscrape.com/author/Jane-Austen</td>\n",
       "      <td>Jane Austen</td>\n",
       "      <td>“The person, be it gentleman or lady, who has ...</td>\n",
       "      <td>Jane Austen was an English novelist whose work...</td>\n",
       "      <td>December 16, 1775</td>\n",
       "      <td>[aliteracy, books, classic, humor]</td>\n",
       "    </tr>\n",
       "    <tr>\n",
       "      <th>4</th>\n",
       "      <td>http://quotes.toscrape.com/author/Marilyn-Monroe</td>\n",
       "      <td>Marilyn Monroe</td>\n",
       "      <td>“Imperfection is beauty, madness is genius and...</td>\n",
       "      <td>Marilyn Monroe (born Norma Jeane Mortenson; Ju...</td>\n",
       "      <td>June 01, 1926</td>\n",
       "      <td>[be-yourself, inspirational]</td>\n",
       "    </tr>\n",
       "  </tbody>\n",
       "</table>\n",
       "</div>"
      ],
      "text/plain": [
       "                                            auth_url       quote_auth  \\\n",
       "0  http://quotes.toscrape.com/author/Albert-Einstein  Albert Einstein   \n",
       "1      http://quotes.toscrape.com/author/J-K-Rowling     J.K. Rowling   \n",
       "2  http://quotes.toscrape.com/author/Albert-Einstein  Albert Einstein   \n",
       "3      http://quotes.toscrape.com/author/Jane-Austen      Jane Austen   \n",
       "4   http://quotes.toscrape.com/author/Marilyn-Monroe   Marilyn Monroe   \n",
       "\n",
       "                                          quote_text  \\\n",
       "0  “The world as we have created it is a process ...   \n",
       "1  “It is our choices, Harry, that show what we t...   \n",
       "2  “There are only two ways to live your life. On...   \n",
       "3  “The person, be it gentleman or lady, who has ...   \n",
       "4  “Imperfection is beauty, madness is genius and...   \n",
       "\n",
       "                                                 bio                dob  \\\n",
       "0  In 1879, Albert Einstein was born in Ulm, Germ...     March 14, 1879   \n",
       "1  See also: Robert GalbraithAlthough she writes ...      July 31, 1965   \n",
       "2  In 1879, Albert Einstein was born in Ulm, Germ...     March 14, 1879   \n",
       "3  Jane Austen was an English novelist whose work...  December 16, 1775   \n",
       "4  Marilyn Monroe (born Norma Jeane Mortenson; Ju...      June 01, 1926   \n",
       "\n",
       "                                             tags  \n",
       "0        [change, deep-thoughts, thinking, world]  \n",
       "1                            [abilities, choices]  \n",
       "2  [inspirational, life, live, miracle, miracles]  \n",
       "3              [aliteracy, books, classic, humor]  \n",
       "4                    [be-yourself, inspirational]  "
      ]
     },
     "execution_count": 51,
     "metadata": {},
     "output_type": "execute_result"
    }
   ],
   "source": [
    "df = pd.DataFrame(L)\n",
    "df.head()"
   ]
  },
  {
   "cell_type": "markdown",
   "id": "6837a6d6",
   "metadata": {},
   "source": [
    "What data type is the `'tags'` column?"
   ]
  },
  {
   "cell_type": "code",
   "execution_count": 52,
   "id": "67d3a103",
   "metadata": {},
   "outputs": [
    {
     "data": {
      "text/plain": [
       "['change', 'deep-thoughts', 'thinking', 'world']"
      ]
     },
     "execution_count": 52,
     "metadata": {},
     "output_type": "execute_result"
    }
   ],
   "source": [
    "df['tags'].iloc[0]"
   ]
  },
  {
   "cell_type": "markdown",
   "id": "e1558e39",
   "metadata": {},
   "source": [
    "Let's save `df` to a CSV and read it back in."
   ]
  },
  {
   "cell_type": "code",
   "execution_count": 53,
   "id": "7596565b",
   "metadata": {},
   "outputs": [],
   "source": [
    "df.to_csv('out.csv')"
   ]
  },
  {
   "cell_type": "code",
   "execution_count": 54,
   "id": "59bc0184",
   "metadata": {},
   "outputs": [
    {
     "data": {
      "text/html": [
       "<div>\n",
       "<style scoped>\n",
       "    .dataframe tbody tr th:only-of-type {\n",
       "        vertical-align: middle;\n",
       "    }\n",
       "\n",
       "    .dataframe tbody tr th {\n",
       "        vertical-align: top;\n",
       "    }\n",
       "\n",
       "    .dataframe thead th {\n",
       "        text-align: right;\n",
       "    }\n",
       "</style>\n",
       "<table border=\"1\" class=\"dataframe\">\n",
       "  <thead>\n",
       "    <tr style=\"text-align: right;\">\n",
       "      <th></th>\n",
       "      <th>Unnamed: 0</th>\n",
       "      <th>auth_url</th>\n",
       "      <th>quote_auth</th>\n",
       "      <th>quote_text</th>\n",
       "      <th>bio</th>\n",
       "      <th>dob</th>\n",
       "      <th>tags</th>\n",
       "    </tr>\n",
       "  </thead>\n",
       "  <tbody>\n",
       "    <tr>\n",
       "      <th>0</th>\n",
       "      <td>0</td>\n",
       "      <td>http://quotes.toscrape.com/author/Albert-Einstein</td>\n",
       "      <td>Albert Einstein</td>\n",
       "      <td>“The world as we have created it is a process ...</td>\n",
       "      <td>In 1879, Albert Einstein was born in Ulm, Germ...</td>\n",
       "      <td>March 14, 1879</td>\n",
       "      <td>['change', 'deep-thoughts', 'thinking', 'world']</td>\n",
       "    </tr>\n",
       "    <tr>\n",
       "      <th>1</th>\n",
       "      <td>1</td>\n",
       "      <td>http://quotes.toscrape.com/author/J-K-Rowling</td>\n",
       "      <td>J.K. Rowling</td>\n",
       "      <td>“It is our choices, Harry, that show what we t...</td>\n",
       "      <td>See also: Robert GalbraithAlthough she writes ...</td>\n",
       "      <td>July 31, 1965</td>\n",
       "      <td>['abilities', 'choices']</td>\n",
       "    </tr>\n",
       "    <tr>\n",
       "      <th>2</th>\n",
       "      <td>2</td>\n",
       "      <td>http://quotes.toscrape.com/author/Albert-Einstein</td>\n",
       "      <td>Albert Einstein</td>\n",
       "      <td>“There are only two ways to live your life. On...</td>\n",
       "      <td>In 1879, Albert Einstein was born in Ulm, Germ...</td>\n",
       "      <td>March 14, 1879</td>\n",
       "      <td>['inspirational', 'life', 'live', 'miracle', '...</td>\n",
       "    </tr>\n",
       "    <tr>\n",
       "      <th>3</th>\n",
       "      <td>3</td>\n",
       "      <td>http://quotes.toscrape.com/author/Jane-Austen</td>\n",
       "      <td>Jane Austen</td>\n",
       "      <td>“The person, be it gentleman or lady, who has ...</td>\n",
       "      <td>Jane Austen was an English novelist whose work...</td>\n",
       "      <td>December 16, 1775</td>\n",
       "      <td>['aliteracy', 'books', 'classic', 'humor']</td>\n",
       "    </tr>\n",
       "    <tr>\n",
       "      <th>4</th>\n",
       "      <td>4</td>\n",
       "      <td>http://quotes.toscrape.com/author/Marilyn-Monroe</td>\n",
       "      <td>Marilyn Monroe</td>\n",
       "      <td>“Imperfection is beauty, madness is genius and...</td>\n",
       "      <td>Marilyn Monroe (born Norma Jeane Mortenson; Ju...</td>\n",
       "      <td>June 01, 1926</td>\n",
       "      <td>['be-yourself', 'inspirational']</td>\n",
       "    </tr>\n",
       "  </tbody>\n",
       "</table>\n",
       "</div>"
      ],
      "text/plain": [
       "   Unnamed: 0                                           auth_url  \\\n",
       "0           0  http://quotes.toscrape.com/author/Albert-Einstein   \n",
       "1           1      http://quotes.toscrape.com/author/J-K-Rowling   \n",
       "2           2  http://quotes.toscrape.com/author/Albert-Einstein   \n",
       "3           3      http://quotes.toscrape.com/author/Jane-Austen   \n",
       "4           4   http://quotes.toscrape.com/author/Marilyn-Monroe   \n",
       "\n",
       "        quote_auth                                         quote_text  \\\n",
       "0  Albert Einstein  “The world as we have created it is a process ...   \n",
       "1     J.K. Rowling  “It is our choices, Harry, that show what we t...   \n",
       "2  Albert Einstein  “There are only two ways to live your life. On...   \n",
       "3      Jane Austen  “The person, be it gentleman or lady, who has ...   \n",
       "4   Marilyn Monroe  “Imperfection is beauty, madness is genius and...   \n",
       "\n",
       "                                                 bio                dob  \\\n",
       "0  In 1879, Albert Einstein was born in Ulm, Germ...     March 14, 1879   \n",
       "1  See also: Robert GalbraithAlthough she writes ...      July 31, 1965   \n",
       "2  In 1879, Albert Einstein was born in Ulm, Germ...     March 14, 1879   \n",
       "3  Jane Austen was an English novelist whose work...  December 16, 1775   \n",
       "4  Marilyn Monroe (born Norma Jeane Mortenson; Ju...      June 01, 1926   \n",
       "\n",
       "                                                tags  \n",
       "0   ['change', 'deep-thoughts', 'thinking', 'world']  \n",
       "1                           ['abilities', 'choices']  \n",
       "2  ['inspirational', 'life', 'live', 'miracle', '...  \n",
       "3         ['aliteracy', 'books', 'classic', 'humor']  \n",
       "4                   ['be-yourself', 'inspirational']  "
      ]
     },
     "execution_count": 54,
     "metadata": {},
     "output_type": "execute_result"
    }
   ],
   "source": [
    "df_again = pd.read_csv('out.csv')\n",
    "df_again.head()"
   ]
  },
  {
   "cell_type": "markdown",
   "id": "84d4795f",
   "metadata": {},
   "source": [
    "What data type is the `'tags'` column now?"
   ]
  },
  {
   "cell_type": "code",
   "execution_count": 55,
   "id": "a45cc5f1",
   "metadata": {},
   "outputs": [
    {
     "data": {
      "text/plain": [
       "\"['change', 'deep-thoughts', 'thinking', 'world']\""
      ]
     },
     "execution_count": 55,
     "metadata": {},
     "output_type": "execute_result"
    }
   ],
   "source": [
    "df_again['tags'].iloc[0]"
   ]
  },
  {
   "cell_type": "markdown",
   "id": "dea5b1e7",
   "metadata": {
    "slideshow": {
     "slide_type": "slide"
    }
   },
   "source": [
    "### One-hot encoding"
   ]
  },
  {
   "cell_type": "markdown",
   "id": "b7bae91f",
   "metadata": {
    "slideshow": {
     "slide_type": "fragment"
    }
   },
   "source": [
    "- So that we don't have to deal with lists within Series, we can **flatten** lists of tags so that there is **one column per unique tag**.\n",
    "    - For example, consider the tag `'inspirational'`.\n",
    "    - If a quote has a 1 in the `'inspirational'` column, it **was** tagged `'inspirational'`.\n",
    "    - If a quote has a 0 in the `'inspirational'` column, it **was not** tagged `'inspirational'`."
   ]
  },
  {
   "cell_type": "markdown",
   "id": "c520566d",
   "metadata": {
    "slideshow": {
     "slide_type": "fragment"
    }
   },
   "source": [
    "- This process – of converting categorical variables into columns of 1s and 0s – is called **one-hot encoding**. We will revisit it in a few weeks."
   ]
  },
  {
   "cell_type": "markdown",
   "id": "57c7d350",
   "metadata": {
    "slideshow": {
     "slide_type": "slide"
    }
   },
   "source": [
    "Let's write a function that takes in the list of tags (`taglist`) for a given quote and returns the one-hot-encoded sequence of 1s and 0s for that quote."
   ]
  },
  {
   "cell_type": "code",
   "execution_count": 56,
   "id": "e2ee8d5c",
   "metadata": {},
   "outputs": [
    {
     "data": {
      "text/html": [
       "<div>\n",
       "<style scoped>\n",
       "    .dataframe tbody tr th:only-of-type {\n",
       "        vertical-align: middle;\n",
       "    }\n",
       "\n",
       "    .dataframe tbody tr th {\n",
       "        vertical-align: top;\n",
       "    }\n",
       "\n",
       "    .dataframe thead th {\n",
       "        text-align: right;\n",
       "    }\n",
       "</style>\n",
       "<table border=\"1\" class=\"dataframe\">\n",
       "  <thead>\n",
       "    <tr style=\"text-align: right;\">\n",
       "      <th></th>\n",
       "      <th>change</th>\n",
       "      <th>deep-thoughts</th>\n",
       "      <th>thinking</th>\n",
       "      <th>world</th>\n",
       "      <th>abilities</th>\n",
       "      <th>choices</th>\n",
       "      <th>inspirational</th>\n",
       "      <th>life</th>\n",
       "      <th>live</th>\n",
       "      <th>miracle</th>\n",
       "      <th>...</th>\n",
       "      <th>christianity</th>\n",
       "      <th>faith</th>\n",
       "      <th>sun</th>\n",
       "      <th>adventure</th>\n",
       "      <th>better-life-empathy</th>\n",
       "      <th>difficult</th>\n",
       "      <th>grown-ups</th>\n",
       "      <th>write</th>\n",
       "      <th>writers</th>\n",
       "      <th>mind</th>\n",
       "    </tr>\n",
       "  </thead>\n",
       "  <tbody>\n",
       "    <tr>\n",
       "      <th>0</th>\n",
       "      <td>1</td>\n",
       "      <td>1</td>\n",
       "      <td>1</td>\n",
       "      <td>1</td>\n",
       "      <td>0</td>\n",
       "      <td>0</td>\n",
       "      <td>0</td>\n",
       "      <td>0</td>\n",
       "      <td>0</td>\n",
       "      <td>0</td>\n",
       "      <td>...</td>\n",
       "      <td>0</td>\n",
       "      <td>0</td>\n",
       "      <td>0</td>\n",
       "      <td>0</td>\n",
       "      <td>0</td>\n",
       "      <td>0</td>\n",
       "      <td>0</td>\n",
       "      <td>0</td>\n",
       "      <td>0</td>\n",
       "      <td>0</td>\n",
       "    </tr>\n",
       "    <tr>\n",
       "      <th>1</th>\n",
       "      <td>0</td>\n",
       "      <td>0</td>\n",
       "      <td>0</td>\n",
       "      <td>0</td>\n",
       "      <td>1</td>\n",
       "      <td>1</td>\n",
       "      <td>0</td>\n",
       "      <td>0</td>\n",
       "      <td>0</td>\n",
       "      <td>0</td>\n",
       "      <td>...</td>\n",
       "      <td>0</td>\n",
       "      <td>0</td>\n",
       "      <td>0</td>\n",
       "      <td>0</td>\n",
       "      <td>0</td>\n",
       "      <td>0</td>\n",
       "      <td>0</td>\n",
       "      <td>0</td>\n",
       "      <td>0</td>\n",
       "      <td>0</td>\n",
       "    </tr>\n",
       "    <tr>\n",
       "      <th>2</th>\n",
       "      <td>0</td>\n",
       "      <td>0</td>\n",
       "      <td>0</td>\n",
       "      <td>0</td>\n",
       "      <td>0</td>\n",
       "      <td>0</td>\n",
       "      <td>1</td>\n",
       "      <td>1</td>\n",
       "      <td>1</td>\n",
       "      <td>1</td>\n",
       "      <td>...</td>\n",
       "      <td>0</td>\n",
       "      <td>0</td>\n",
       "      <td>0</td>\n",
       "      <td>0</td>\n",
       "      <td>0</td>\n",
       "      <td>0</td>\n",
       "      <td>0</td>\n",
       "      <td>0</td>\n",
       "      <td>0</td>\n",
       "      <td>0</td>\n",
       "    </tr>\n",
       "    <tr>\n",
       "      <th>3</th>\n",
       "      <td>0</td>\n",
       "      <td>0</td>\n",
       "      <td>0</td>\n",
       "      <td>0</td>\n",
       "      <td>0</td>\n",
       "      <td>0</td>\n",
       "      <td>0</td>\n",
       "      <td>0</td>\n",
       "      <td>0</td>\n",
       "      <td>0</td>\n",
       "      <td>...</td>\n",
       "      <td>0</td>\n",
       "      <td>0</td>\n",
       "      <td>0</td>\n",
       "      <td>0</td>\n",
       "      <td>0</td>\n",
       "      <td>0</td>\n",
       "      <td>0</td>\n",
       "      <td>0</td>\n",
       "      <td>0</td>\n",
       "      <td>0</td>\n",
       "    </tr>\n",
       "    <tr>\n",
       "      <th>4</th>\n",
       "      <td>0</td>\n",
       "      <td>0</td>\n",
       "      <td>0</td>\n",
       "      <td>0</td>\n",
       "      <td>0</td>\n",
       "      <td>0</td>\n",
       "      <td>1</td>\n",
       "      <td>0</td>\n",
       "      <td>0</td>\n",
       "      <td>0</td>\n",
       "      <td>...</td>\n",
       "      <td>0</td>\n",
       "      <td>0</td>\n",
       "      <td>0</td>\n",
       "      <td>0</td>\n",
       "      <td>0</td>\n",
       "      <td>0</td>\n",
       "      <td>0</td>\n",
       "      <td>0</td>\n",
       "      <td>0</td>\n",
       "      <td>0</td>\n",
       "    </tr>\n",
       "  </tbody>\n",
       "</table>\n",
       "<p>5 rows × 137 columns</p>\n",
       "</div>"
      ],
      "text/plain": [
       "   change  deep-thoughts  thinking  world  abilities  choices  inspirational  \\\n",
       "0       1              1         1      1          0        0              0   \n",
       "1       0              0         0      0          1        1              0   \n",
       "2       0              0         0      0          0        0              1   \n",
       "3       0              0         0      0          0        0              0   \n",
       "4       0              0         0      0          0        0              1   \n",
       "\n",
       "   life  live  miracle  ...  christianity  faith  sun  adventure  \\\n",
       "0     0     0        0  ...             0      0    0          0   \n",
       "1     0     0        0  ...             0      0    0          0   \n",
       "2     1     1        1  ...             0      0    0          0   \n",
       "3     0     0        0  ...             0      0    0          0   \n",
       "4     0     0        0  ...             0      0    0          0   \n",
       "\n",
       "   better-life-empathy  difficult  grown-ups  write  writers  mind  \n",
       "0                    0          0          0      0        0     0  \n",
       "1                    0          0          0      0        0     0  \n",
       "2                    0          0          0      0        0     0  \n",
       "3                    0          0          0      0        0     0  \n",
       "4                    0          0          0      0        0     0  \n",
       "\n",
       "[5 rows x 137 columns]"
      ]
     },
     "execution_count": 56,
     "metadata": {},
     "output_type": "execute_result"
    }
   ],
   "source": [
    "def flatten_tags(taglist):\n",
    "    return pd.Series({k:1 for k in taglist}, dtype=float)\n",
    "\n",
    "tags = df['tags'].apply(flatten_tags).fillna(0).astype(int)\n",
    "tags.head()"
   ]
  },
  {
   "cell_type": "markdown",
   "id": "7f5ed85d",
   "metadata": {
    "slideshow": {
     "slide_type": "slide"
    }
   },
   "source": [
    "Let's combine this one-hot-encoded DataFrame with `df`."
   ]
  },
  {
   "cell_type": "code",
   "execution_count": 57,
   "id": "de44a476",
   "metadata": {},
   "outputs": [
    {
     "data": {
      "text/html": [
       "<div>\n",
       "<style scoped>\n",
       "    .dataframe tbody tr th:only-of-type {\n",
       "        vertical-align: middle;\n",
       "    }\n",
       "\n",
       "    .dataframe tbody tr th {\n",
       "        vertical-align: top;\n",
       "    }\n",
       "\n",
       "    .dataframe thead th {\n",
       "        text-align: right;\n",
       "    }\n",
       "</style>\n",
       "<table border=\"1\" class=\"dataframe\">\n",
       "  <thead>\n",
       "    <tr style=\"text-align: right;\">\n",
       "      <th></th>\n",
       "      <th>auth_url</th>\n",
       "      <th>quote_auth</th>\n",
       "      <th>quote_text</th>\n",
       "      <th>bio</th>\n",
       "      <th>dob</th>\n",
       "      <th>change</th>\n",
       "      <th>deep-thoughts</th>\n",
       "      <th>thinking</th>\n",
       "      <th>world</th>\n",
       "      <th>abilities</th>\n",
       "      <th>...</th>\n",
       "      <th>christianity</th>\n",
       "      <th>faith</th>\n",
       "      <th>sun</th>\n",
       "      <th>adventure</th>\n",
       "      <th>better-life-empathy</th>\n",
       "      <th>difficult</th>\n",
       "      <th>grown-ups</th>\n",
       "      <th>write</th>\n",
       "      <th>writers</th>\n",
       "      <th>mind</th>\n",
       "    </tr>\n",
       "  </thead>\n",
       "  <tbody>\n",
       "    <tr>\n",
       "      <th>0</th>\n",
       "      <td>http://quotes.toscrape.com/author/Albert-Einstein</td>\n",
       "      <td>Albert Einstein</td>\n",
       "      <td>“The world as we have created it is a process ...</td>\n",
       "      <td>In 1879, Albert Einstein was born in Ulm, Germ...</td>\n",
       "      <td>March 14, 1879</td>\n",
       "      <td>1</td>\n",
       "      <td>1</td>\n",
       "      <td>1</td>\n",
       "      <td>1</td>\n",
       "      <td>0</td>\n",
       "      <td>...</td>\n",
       "      <td>0</td>\n",
       "      <td>0</td>\n",
       "      <td>0</td>\n",
       "      <td>0</td>\n",
       "      <td>0</td>\n",
       "      <td>0</td>\n",
       "      <td>0</td>\n",
       "      <td>0</td>\n",
       "      <td>0</td>\n",
       "      <td>0</td>\n",
       "    </tr>\n",
       "    <tr>\n",
       "      <th>1</th>\n",
       "      <td>http://quotes.toscrape.com/author/J-K-Rowling</td>\n",
       "      <td>J.K. Rowling</td>\n",
       "      <td>“It is our choices, Harry, that show what we t...</td>\n",
       "      <td>See also: Robert GalbraithAlthough she writes ...</td>\n",
       "      <td>July 31, 1965</td>\n",
       "      <td>0</td>\n",
       "      <td>0</td>\n",
       "      <td>0</td>\n",
       "      <td>0</td>\n",
       "      <td>1</td>\n",
       "      <td>...</td>\n",
       "      <td>0</td>\n",
       "      <td>0</td>\n",
       "      <td>0</td>\n",
       "      <td>0</td>\n",
       "      <td>0</td>\n",
       "      <td>0</td>\n",
       "      <td>0</td>\n",
       "      <td>0</td>\n",
       "      <td>0</td>\n",
       "      <td>0</td>\n",
       "    </tr>\n",
       "    <tr>\n",
       "      <th>2</th>\n",
       "      <td>http://quotes.toscrape.com/author/Albert-Einstein</td>\n",
       "      <td>Albert Einstein</td>\n",
       "      <td>“There are only two ways to live your life. On...</td>\n",
       "      <td>In 1879, Albert Einstein was born in Ulm, Germ...</td>\n",
       "      <td>March 14, 1879</td>\n",
       "      <td>0</td>\n",
       "      <td>0</td>\n",
       "      <td>0</td>\n",
       "      <td>0</td>\n",
       "      <td>0</td>\n",
       "      <td>...</td>\n",
       "      <td>0</td>\n",
       "      <td>0</td>\n",
       "      <td>0</td>\n",
       "      <td>0</td>\n",
       "      <td>0</td>\n",
       "      <td>0</td>\n",
       "      <td>0</td>\n",
       "      <td>0</td>\n",
       "      <td>0</td>\n",
       "      <td>0</td>\n",
       "    </tr>\n",
       "    <tr>\n",
       "      <th>3</th>\n",
       "      <td>http://quotes.toscrape.com/author/Jane-Austen</td>\n",
       "      <td>Jane Austen</td>\n",
       "      <td>“The person, be it gentleman or lady, who has ...</td>\n",
       "      <td>Jane Austen was an English novelist whose work...</td>\n",
       "      <td>December 16, 1775</td>\n",
       "      <td>0</td>\n",
       "      <td>0</td>\n",
       "      <td>0</td>\n",
       "      <td>0</td>\n",
       "      <td>0</td>\n",
       "      <td>...</td>\n",
       "      <td>0</td>\n",
       "      <td>0</td>\n",
       "      <td>0</td>\n",
       "      <td>0</td>\n",
       "      <td>0</td>\n",
       "      <td>0</td>\n",
       "      <td>0</td>\n",
       "      <td>0</td>\n",
       "      <td>0</td>\n",
       "      <td>0</td>\n",
       "    </tr>\n",
       "    <tr>\n",
       "      <th>4</th>\n",
       "      <td>http://quotes.toscrape.com/author/Marilyn-Monroe</td>\n",
       "      <td>Marilyn Monroe</td>\n",
       "      <td>“Imperfection is beauty, madness is genius and...</td>\n",
       "      <td>Marilyn Monroe (born Norma Jeane Mortenson; Ju...</td>\n",
       "      <td>June 01, 1926</td>\n",
       "      <td>0</td>\n",
       "      <td>0</td>\n",
       "      <td>0</td>\n",
       "      <td>0</td>\n",
       "      <td>0</td>\n",
       "      <td>...</td>\n",
       "      <td>0</td>\n",
       "      <td>0</td>\n",
       "      <td>0</td>\n",
       "      <td>0</td>\n",
       "      <td>0</td>\n",
       "      <td>0</td>\n",
       "      <td>0</td>\n",
       "      <td>0</td>\n",
       "      <td>0</td>\n",
       "      <td>0</td>\n",
       "    </tr>\n",
       "  </tbody>\n",
       "</table>\n",
       "<p>5 rows × 142 columns</p>\n",
       "</div>"
      ],
      "text/plain": [
       "                                            auth_url       quote_auth  \\\n",
       "0  http://quotes.toscrape.com/author/Albert-Einstein  Albert Einstein   \n",
       "1      http://quotes.toscrape.com/author/J-K-Rowling     J.K. Rowling   \n",
       "2  http://quotes.toscrape.com/author/Albert-Einstein  Albert Einstein   \n",
       "3      http://quotes.toscrape.com/author/Jane-Austen      Jane Austen   \n",
       "4   http://quotes.toscrape.com/author/Marilyn-Monroe   Marilyn Monroe   \n",
       "\n",
       "                                          quote_text  \\\n",
       "0  “The world as we have created it is a process ...   \n",
       "1  “It is our choices, Harry, that show what we t...   \n",
       "2  “There are only two ways to live your life. On...   \n",
       "3  “The person, be it gentleman or lady, who has ...   \n",
       "4  “Imperfection is beauty, madness is genius and...   \n",
       "\n",
       "                                                 bio                dob  \\\n",
       "0  In 1879, Albert Einstein was born in Ulm, Germ...     March 14, 1879   \n",
       "1  See also: Robert GalbraithAlthough she writes ...      July 31, 1965   \n",
       "2  In 1879, Albert Einstein was born in Ulm, Germ...     March 14, 1879   \n",
       "3  Jane Austen was an English novelist whose work...  December 16, 1775   \n",
       "4  Marilyn Monroe (born Norma Jeane Mortenson; Ju...      June 01, 1926   \n",
       "\n",
       "   change  deep-thoughts  thinking  world  abilities  ...  christianity  \\\n",
       "0       1              1         1      1          0  ...             0   \n",
       "1       0              0         0      0          1  ...             0   \n",
       "2       0              0         0      0          0  ...             0   \n",
       "3       0              0         0      0          0  ...             0   \n",
       "4       0              0         0      0          0  ...             0   \n",
       "\n",
       "   faith  sun  adventure  better-life-empathy  difficult  grown-ups  write  \\\n",
       "0      0    0          0                    0          0          0      0   \n",
       "1      0    0          0                    0          0          0      0   \n",
       "2      0    0          0                    0          0          0      0   \n",
       "3      0    0          0                    0          0          0      0   \n",
       "4      0    0          0                    0          0          0      0   \n",
       "\n",
       "   writers  mind  \n",
       "0        0     0  \n",
       "1        0     0  \n",
       "2        0     0  \n",
       "3        0     0  \n",
       "4        0     0  \n",
       "\n",
       "[5 rows x 142 columns]"
      ]
     },
     "execution_count": 57,
     "metadata": {},
     "output_type": "execute_result"
    }
   ],
   "source": [
    "df_full = pd.concat([df, tags], axis=1).drop(columns='tags')\n",
    "df_full.head()"
   ]
  },
  {
   "cell_type": "markdown",
   "id": "dd0f1f55",
   "metadata": {},
   "source": [
    "If we want all quotes tagged `'inspiration'`, we can simply query:"
   ]
  },
  {
   "cell_type": "code",
   "execution_count": 58,
   "id": "488e7dd9",
   "metadata": {},
   "outputs": [
    {
     "data": {
      "text/html": [
       "<div>\n",
       "<style scoped>\n",
       "    .dataframe tbody tr th:only-of-type {\n",
       "        vertical-align: middle;\n",
       "    }\n",
       "\n",
       "    .dataframe tbody tr th {\n",
       "        vertical-align: top;\n",
       "    }\n",
       "\n",
       "    .dataframe thead th {\n",
       "        text-align: right;\n",
       "    }\n",
       "</style>\n",
       "<table border=\"1\" class=\"dataframe\">\n",
       "  <thead>\n",
       "    <tr style=\"text-align: right;\">\n",
       "      <th></th>\n",
       "      <th>auth_url</th>\n",
       "      <th>quote_auth</th>\n",
       "      <th>quote_text</th>\n",
       "      <th>bio</th>\n",
       "      <th>dob</th>\n",
       "      <th>change</th>\n",
       "      <th>deep-thoughts</th>\n",
       "      <th>thinking</th>\n",
       "      <th>world</th>\n",
       "      <th>abilities</th>\n",
       "      <th>...</th>\n",
       "      <th>christianity</th>\n",
       "      <th>faith</th>\n",
       "      <th>sun</th>\n",
       "      <th>adventure</th>\n",
       "      <th>better-life-empathy</th>\n",
       "      <th>difficult</th>\n",
       "      <th>grown-ups</th>\n",
       "      <th>write</th>\n",
       "      <th>writers</th>\n",
       "      <th>mind</th>\n",
       "    </tr>\n",
       "  </thead>\n",
       "  <tbody>\n",
       "    <tr>\n",
       "      <th>2</th>\n",
       "      <td>http://quotes.toscrape.com/author/Albert-Einstein</td>\n",
       "      <td>Albert Einstein</td>\n",
       "      <td>“There are only two ways to live your life. On...</td>\n",
       "      <td>In 1879, Albert Einstein was born in Ulm, Germ...</td>\n",
       "      <td>March 14, 1879</td>\n",
       "      <td>0</td>\n",
       "      <td>0</td>\n",
       "      <td>0</td>\n",
       "      <td>0</td>\n",
       "      <td>0</td>\n",
       "      <td>...</td>\n",
       "      <td>0</td>\n",
       "      <td>0</td>\n",
       "      <td>0</td>\n",
       "      <td>0</td>\n",
       "      <td>0</td>\n",
       "      <td>0</td>\n",
       "      <td>0</td>\n",
       "      <td>0</td>\n",
       "      <td>0</td>\n",
       "      <td>0</td>\n",
       "    </tr>\n",
       "    <tr>\n",
       "      <th>4</th>\n",
       "      <td>http://quotes.toscrape.com/author/Marilyn-Monroe</td>\n",
       "      <td>Marilyn Monroe</td>\n",
       "      <td>“Imperfection is beauty, madness is genius and...</td>\n",
       "      <td>Marilyn Monroe (born Norma Jeane Mortenson; Ju...</td>\n",
       "      <td>June 01, 1926</td>\n",
       "      <td>0</td>\n",
       "      <td>0</td>\n",
       "      <td>0</td>\n",
       "      <td>0</td>\n",
       "      <td>0</td>\n",
       "      <td>...</td>\n",
       "      <td>0</td>\n",
       "      <td>0</td>\n",
       "      <td>0</td>\n",
       "      <td>0</td>\n",
       "      <td>0</td>\n",
       "      <td>0</td>\n",
       "      <td>0</td>\n",
       "      <td>0</td>\n",
       "      <td>0</td>\n",
       "      <td>0</td>\n",
       "    </tr>\n",
       "    <tr>\n",
       "      <th>7</th>\n",
       "      <td>http://quotes.toscrape.com/author/Thomas-A-Edison</td>\n",
       "      <td>Thomas A. Edison</td>\n",
       "      <td>“I have not failed. I've just found 10,000 way...</td>\n",
       "      <td>Thomas Alva Edison was an American inventor, s...</td>\n",
       "      <td>February 11, 1847</td>\n",
       "      <td>0</td>\n",
       "      <td>0</td>\n",
       "      <td>0</td>\n",
       "      <td>0</td>\n",
       "      <td>0</td>\n",
       "      <td>...</td>\n",
       "      <td>0</td>\n",
       "      <td>0</td>\n",
       "      <td>0</td>\n",
       "      <td>0</td>\n",
       "      <td>0</td>\n",
       "      <td>0</td>\n",
       "      <td>0</td>\n",
       "      <td>0</td>\n",
       "      <td>0</td>\n",
       "      <td>0</td>\n",
       "    </tr>\n",
       "    <tr>\n",
       "      <th>10</th>\n",
       "      <td>http://quotes.toscrape.com/author/Marilyn-Monroe</td>\n",
       "      <td>Marilyn Monroe</td>\n",
       "      <td>“This life is what you make it. No matter what...</td>\n",
       "      <td>Marilyn Monroe (born Norma Jeane Mortenson; Ju...</td>\n",
       "      <td>June 01, 1926</td>\n",
       "      <td>0</td>\n",
       "      <td>0</td>\n",
       "      <td>0</td>\n",
       "      <td>0</td>\n",
       "      <td>0</td>\n",
       "      <td>...</td>\n",
       "      <td>0</td>\n",
       "      <td>0</td>\n",
       "      <td>0</td>\n",
       "      <td>0</td>\n",
       "      <td>0</td>\n",
       "      <td>0</td>\n",
       "      <td>0</td>\n",
       "      <td>0</td>\n",
       "      <td>0</td>\n",
       "      <td>0</td>\n",
       "    </tr>\n",
       "    <tr>\n",
       "      <th>16</th>\n",
       "      <td>http://quotes.toscrape.com/author/Elie-Wiesel</td>\n",
       "      <td>Elie Wiesel</td>\n",
       "      <td>“The opposite of love is not hate, it's indiff...</td>\n",
       "      <td>Eliezer Wiesel was a Romania-born American nov...</td>\n",
       "      <td>September 30, 1928</td>\n",
       "      <td>0</td>\n",
       "      <td>0</td>\n",
       "      <td>0</td>\n",
       "      <td>0</td>\n",
       "      <td>0</td>\n",
       "      <td>...</td>\n",
       "      <td>0</td>\n",
       "      <td>0</td>\n",
       "      <td>0</td>\n",
       "      <td>0</td>\n",
       "      <td>0</td>\n",
       "      <td>0</td>\n",
       "      <td>0</td>\n",
       "      <td>0</td>\n",
       "      <td>0</td>\n",
       "      <td>0</td>\n",
       "    </tr>\n",
       "  </tbody>\n",
       "</table>\n",
       "<p>5 rows × 142 columns</p>\n",
       "</div>"
      ],
      "text/plain": [
       "                                             auth_url        quote_auth  \\\n",
       "2   http://quotes.toscrape.com/author/Albert-Einstein   Albert Einstein   \n",
       "4    http://quotes.toscrape.com/author/Marilyn-Monroe    Marilyn Monroe   \n",
       "7   http://quotes.toscrape.com/author/Thomas-A-Edison  Thomas A. Edison   \n",
       "10   http://quotes.toscrape.com/author/Marilyn-Monroe    Marilyn Monroe   \n",
       "16      http://quotes.toscrape.com/author/Elie-Wiesel       Elie Wiesel   \n",
       "\n",
       "                                           quote_text  \\\n",
       "2   “There are only two ways to live your life. On...   \n",
       "4   “Imperfection is beauty, madness is genius and...   \n",
       "7   “I have not failed. I've just found 10,000 way...   \n",
       "10  “This life is what you make it. No matter what...   \n",
       "16  “The opposite of love is not hate, it's indiff...   \n",
       "\n",
       "                                                  bio                 dob  \\\n",
       "2   In 1879, Albert Einstein was born in Ulm, Germ...      March 14, 1879   \n",
       "4   Marilyn Monroe (born Norma Jeane Mortenson; Ju...       June 01, 1926   \n",
       "7   Thomas Alva Edison was an American inventor, s...   February 11, 1847   \n",
       "10  Marilyn Monroe (born Norma Jeane Mortenson; Ju...       June 01, 1926   \n",
       "16  Eliezer Wiesel was a Romania-born American nov...  September 30, 1928   \n",
       "\n",
       "    change  deep-thoughts  thinking  world  abilities  ...  christianity  \\\n",
       "2        0              0         0      0          0  ...             0   \n",
       "4        0              0         0      0          0  ...             0   \n",
       "7        0              0         0      0          0  ...             0   \n",
       "10       0              0         0      0          0  ...             0   \n",
       "16       0              0         0      0          0  ...             0   \n",
       "\n",
       "    faith  sun  adventure  better-life-empathy  difficult  grown-ups  write  \\\n",
       "2       0    0          0                    0          0          0      0   \n",
       "4       0    0          0                    0          0          0      0   \n",
       "7       0    0          0                    0          0          0      0   \n",
       "10      0    0          0                    0          0          0      0   \n",
       "16      0    0          0                    0          0          0      0   \n",
       "\n",
       "    writers  mind  \n",
       "2         0     0  \n",
       "4         0     0  \n",
       "7         0     0  \n",
       "10        0     0  \n",
       "16        0     0  \n",
       "\n",
       "[5 rows x 142 columns]"
      ]
     },
     "execution_count": 58,
     "metadata": {},
     "output_type": "execute_result"
    }
   ],
   "source": [
    "df_full[df_full['inspirational'] == 1].head()"
   ]
  },
  {
   "cell_type": "markdown",
   "id": "b19a7206",
   "metadata": {},
   "source": [
    "Note that this DataFrame representation of the response JSON takes up much more space than the original JSON. Why is that?"
   ]
  },
  {
   "cell_type": "markdown",
   "id": "269efd96",
   "metadata": {
    "slideshow": {
     "slide_type": "slide"
    }
   },
   "source": [
    "## Summary"
   ]
  },
  {
   "cell_type": "markdown",
   "id": "ea3ab7da",
   "metadata": {
    "slideshow": {
     "slide_type": "slide"
    }
   },
   "source": [
    "### Summary\n",
    "\n",
    "- Beautiful Soup is an HTML parser that allows us to (somewhat) easily extract information from HTML documents.\n",
    "    - `soup.find` and `soup.find_all` are the functions you will use most often.\n",
    "- When writing scraping code:\n",
    "    - Use \"inspect element\" to identify the names of tags and attributes that are relevant to the information you want to extract.\n",
    "    - Separate your logic for making requests and for parsing."
   ]
  }
 ],
 "metadata": {
  "celltoolbar": "Slideshow",
  "kernelspec": {
   "display_name": "Python 3 (ipykernel)",
   "language": "python",
   "name": "python3"
  },
  "language_info": {
   "codemirror_mode": {
    "name": "ipython",
    "version": 3
   },
   "file_extension": ".py",
   "mimetype": "text/x-python",
   "name": "python",
   "nbconvert_exporter": "python",
   "pygments_lexer": "ipython3",
   "version": "3.6.13"
  },
  "livereveal": {
   "scroll": true
  },
  "rise": {
   "transition": "none"
  },
  "vscode": {
   "interpreter": {
    "hash": "fa21447ba3ca0ac29cfe033d1e623e3db9da50a3031a1ad33c9e1c367d9ba6e8"
   }
  }
 },
 "nbformat": 4,
 "nbformat_minor": 5
}
