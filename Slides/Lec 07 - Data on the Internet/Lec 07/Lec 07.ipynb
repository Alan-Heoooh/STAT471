{
 "cells": [
  {
   "cell_type": "code",
   "execution_count": null,
   "id": "8c8a44b8",
   "metadata": {
    "slideshow": {
     "slide_type": "skip"
    }
   },
   "outputs": [],
   "source": [
    "import pandas as pd\n",
    "import numpy as np\n",
    "import os\n",
    "\n",
    "\n",
    "import plotly.express as px\n",
    "import plotly.figure_factory as ff\n",
    "pd.options.plotting.backend = 'plotly'"
   ]
  },
  {
   "cell_type": "markdown",
   "id": "6ca51859",
   "metadata": {
    "slideshow": {
     "slide_type": "slide"
    }
   },
   "source": [
    "# Lecture 08 – Data on the internet"
   ]
  },
  {
   "cell_type": "markdown",
   "id": "22824200",
   "metadata": {
    "slideshow": {
     "slide_type": "slide"
    }
   },
   "source": [
    "### Agenda\n",
    "\n",
    "- Introduction to HTTP.\n",
    "- Making HTTP requests.\n",
    "- Data formats.\n",
    "- APIs and scraping\n",
    "- The anatomy of HTML documents.\n",
    "- Parsing HTML using Beautiful Soup"
   ]
  },
  {
   "cell_type": "markdown",
   "id": "0b0a7d54",
   "metadata": {
    "slideshow": {
     "slide_type": "slide"
    }
   },
   "source": [
    "## Introduction to HTTP\n",
    "\n"
   ]
  },
  {
   "cell_type": "markdown",
   "id": "62270a93",
   "metadata": {
    "slideshow": {
     "slide_type": "slide"
    }
   },
   "source": [
    "### Data sources"
   ]
  },
  {
   "cell_type": "markdown",
   "id": "2e64cbba",
   "metadata": {
    "slideshow": {
     "slide_type": "fragment"
    }
   },
   "source": [
    "* Sometimes, the data you need doesn't exist in \"clean\" `.csv` files."
   ]
  },
  {
   "cell_type": "markdown",
   "id": "46b1c140",
   "metadata": {
    "slideshow": {
     "slide_type": "fragment"
    }
   },
   "source": [
    "* **Solution:** Collect your own data!\n",
    "    - Design and administer your own survey or run an experiment.\n",
    "    - Find related data on the internet."
   ]
  },
  {
   "cell_type": "markdown",
   "id": "d2b57141",
   "metadata": {
    "slideshow": {
     "slide_type": "fragment"
    }
   },
   "source": [
    "- The internet contains **massive** amounts of historical record; for most questions you can think of, the answer exists somewhere on the internet."
   ]
  },
  {
   "cell_type": "markdown",
   "id": "ff801f12",
   "metadata": {
    "slideshow": {
     "slide_type": "slide"
    }
   },
   "source": [
    "### Collecting data from the internet"
   ]
  },
  {
   "cell_type": "markdown",
   "id": "76594f73",
   "metadata": {
    "slideshow": {
     "slide_type": "fragment"
    }
   },
   "source": [
    "- There are two ways to programmatically access data on the internet:\n",
    "    - through an API.\n",
    "    - by scraping."
   ]
  },
  {
   "cell_type": "markdown",
   "id": "d51a660f",
   "metadata": {
    "slideshow": {
     "slide_type": "slide"
    }
   },
   "source": [
    "### HTTP"
   ]
  },
  {
   "cell_type": "markdown",
   "id": "005a0fc3",
   "metadata": {
    "slideshow": {
     "slide_type": "fragment"
    }
   },
   "source": [
    "- HTTP stands for **Hypertext Transfer Protocol**.\n",
    "    - It was developed in 1989 by Tim Berners-Lee (and friends)."
   ]
  },
  {
   "cell_type": "markdown",
   "id": "9fb42973",
   "metadata": {
    "slideshow": {
     "slide_type": "fragment"
    }
   },
   "source": [
    "- It is a **request-response** protocol.\n",
    "    - Protocol = set of rules."
   ]
  },
  {
   "cell_type": "markdown",
   "id": "ad4d1a77",
   "metadata": {
    "slideshow": {
     "slide_type": "fragment"
    }
   },
   "source": [
    "- HTTP allows...\n",
    "    - computers to talk to each other over a network.\n",
    "    - devices to fetch data from \"web servers\"."
   ]
  },
  {
   "cell_type": "markdown",
   "id": "db6ec30e",
   "metadata": {
    "slideshow": {
     "slide_type": "fragment"
    }
   },
   "source": [
    "- The \"S\" in HTTPS stands for \"secure\"."
   ]
  },
  {
   "cell_type": "markdown",
   "id": "4f606980",
   "metadata": {},
   "source": [
    "### ARPANET \n",
    "\n",
    "Advanced Research Projects Agency Network (Many of the protocols used by computer networks today were developed for ARPANET, and it is considered the forerunner of the modern internet.)\n",
    "\n",
    "<center><img src='imgs/arpanet.png'></center>"
   ]
  },
  {
   "cell_type": "markdown",
   "id": "a2dda4ff",
   "metadata": {
    "slideshow": {
     "slide_type": "slide"
    }
   },
   "source": [
    "### The request-response model\n",
    "\n",
    "HTTP follows the **request-response** model.\n",
    "\n",
    "<center><img src='imgs/req-response.png' width=600></center>"
   ]
  },
  {
   "cell_type": "markdown",
   "id": "347d4258",
   "metadata": {
    "slideshow": {
     "slide_type": "fragment"
    }
   },
   "source": [
    "- A **request** is made by the **client**."
   ]
  },
  {
   "cell_type": "markdown",
   "id": "35ba88ec",
   "metadata": {
    "slideshow": {
     "slide_type": "fragment"
    }
   },
   "source": [
    "- A **response** is returned by the **server**."
   ]
  },
  {
   "cell_type": "markdown",
   "id": "221b48f5",
   "metadata": {
    "slideshow": {
     "slide_type": "fragment"
    }
   },
   "source": [
    "- **Example:** Tiktok 🎥.\n",
    "    - Your phone's mobile App, a **client**, makes an HTTP **request** to view a video.\n",
    "    - The **server**, Tiktok, is a computer that is sitting somewhere else.\n",
    "    - The server returns a **response** that contains the video."
   ]
  },
  {
   "cell_type": "markdown",
   "id": "729671b6",
   "metadata": {
    "slideshow": {
     "slide_type": "slide"
    }
   },
   "source": [
    "### Request methods\n",
    "\n",
    "The request methods you will use most often are `GET` and `POST`; see [Mozilla's web docs](https://developer.mozilla.org/en-US/docs/Web/HTTP/Methods) for a detailed list of request methods.    "
   ]
  },
  {
   "cell_type": "markdown",
   "id": "338b8aae",
   "metadata": {
    "slideshow": {
     "slide_type": "fragment"
    }
   },
   "source": [
    "- `GET` is used to request data **from** a specified resource."
   ]
  },
  {
   "cell_type": "markdown",
   "id": "4ea5031a",
   "metadata": {
    "slideshow": {
     "slide_type": "fragment"
    }
   },
   "source": [
    "- `POST` is used to **send** data to the server. \n",
    "    - e.g. uploading a video to Tiktok or entering credit card information on Amazon."
   ]
  },
  {
   "cell_type": "markdown",
   "id": "bcc2a6ab",
   "metadata": {
    "slideshow": {
     "slide_type": "slide"
    }
   },
   "source": [
    "### Example `GET` request\n",
    "\n",
    "Below is an example `GET` HTTP request made by a browser when accessing [bing.com](https://bing.com).\n",
    "\n",
    "```HTTP\n",
    "authority: assets.msn.cn\n",
    ":method: GET\n",
    ":path: /bundles/v1/bingHomepage/latest/card-actions-wc.544845754c7853b4c833.js\n",
    ":scheme: https\n",
    "accept: */*\n",
    "accept-encoding: gzip, deflate, br\n",
    "accept-language: zh-CN,zh;q=0.9,en-US;q=0.8,en;q=0.7\n",
    "if-none-match: 0x8DB1694BFE94BE8\n",
    "origin: https://www.bing.com\n",
    "referer: https://www.bing.com/\n",
    "sec-ch-ua: \"Chromium\";v=\"110\", \"Not A(Brand\";v=\"24\", \"Google Chrome\";v=\"110\"\n",
    "sec-ch-ua-mobile: ?0\n",
    "sec-ch-ua-platform: \"macOS\"\n",
    "sec-fetch-dest: script\n",
    "sec-fetch-mode: cors\n",
    "sec-fetch-site: cross-site\n",
    "user-agent: Mozilla/5.0 (Macintosh; Intel Mac OS X 10_15_7) AppleWebKit/537.36 (KHTML, like Gecko) Chrome/110.0.0\n",
    "```"
   ]
  },
  {
   "cell_type": "markdown",
   "id": "e942817d",
   "metadata": {
    "slideshow": {
     "slide_type": "fragment"
    }
   },
   "source": [
    "-  \"request line\"\n",
    "-  \"header fields\". Header fields contain metadata. "
   ]
  },
  {
   "cell_type": "markdown",
   "id": "6e6dfff8",
   "metadata": {
    "slideshow": {
     "slide_type": "fragment"
    }
   },
   "source": [
    "- We _could_ also provide a \"body\" after the header fields."
   ]
  },
  {
   "cell_type": "markdown",
   "id": "944b582e",
   "metadata": {
    "slideshow": {
     "slide_type": "fragment"
    }
   },
   "source": [
    "- To see HTTP requests in Google Chrome, follow [these steps](https://mkyong.com/computer-tips/how-to-view-http-headers-in-google-chrome/)."
   ]
  },
  {
   "cell_type": "markdown",
   "id": "5546a534",
   "metadata": {
    "slideshow": {
     "slide_type": "slide"
    }
   },
   "source": [
    "### Example `GET` response\n",
    "\n"
   ]
  },
  {
   "cell_type": "markdown",
   "id": "e5c9eb92",
   "metadata": {
    "slideshow": {
     "slide_type": "slide"
    }
   },
   "source": [
    "### Consequences of the request-response model"
   ]
  },
  {
   "cell_type": "markdown",
   "id": "5d4c6b4a",
   "metadata": {
    "slideshow": {
     "slide_type": "fragment"
    }
   },
   "source": [
    "- When a request is sent to view content on a webpage, the server must:\n",
    "    - process your request (i.e. prepare data for the response).\n",
    "    - send content back to the client in its response."
   ]
  },
  {
   "cell_type": "markdown",
   "id": "41ca8f2a",
   "metadata": {
    "slideshow": {
     "slide_type": "fragment"
    }
   },
   "source": [
    "- Remember, servers are computers. \n",
    "    - Someone has to pay to keep these computers running.\n",
    "    - **This means that every time you access a website, someone has to pay.**"
   ]
  },
  {
   "cell_type": "markdown",
   "id": "9595b0c3",
   "metadata": {
    "slideshow": {
     "slide_type": "slide"
    }
   },
   "source": [
    "## Making HTTP requests"
   ]
  },
  {
   "cell_type": "markdown",
   "id": "00a3e380",
   "metadata": {
    "slideshow": {
     "slide_type": "slide"
    }
   },
   "source": [
    "### Making HTTP requests\n",
    "\n",
    "We'll see two ways to make HTTP requests outside of a browser:"
   ]
  },
  {
   "cell_type": "markdown",
   "id": "f2eff248",
   "metadata": {
    "slideshow": {
     "slide_type": "fragment"
    }
   },
   "source": [
    "- From the command line, with `curl`."
   ]
  },
  {
   "cell_type": "markdown",
   "id": "0370de40",
   "metadata": {
    "slideshow": {
     "slide_type": "fragment"
    }
   },
   "source": [
    "- **From Python, with the `requests` package.**"
   ]
  },
  {
   "cell_type": "markdown",
   "id": "45ea0a0a",
   "metadata": {
    "slideshow": {
     "slide_type": "slide"
    }
   },
   "source": [
    "### Making HTTP requests using `curl`\n",
    "\n",
    "[`curl`](https://curl.haxx.se/docs/httpscripting.html) is a **command-line tool** that sends HTTP requests, like a browser.\n",
    "\n",
    "1. The client, `curl`, sends a HTTP request. \n",
    "2. The request contains a method (e.g. `GET` or `POST`).\n",
    "3. The HTTP server responds with:\n",
    "    - a status line, indicating if things went well, \n",
    "    - response headers, and\n",
    "    - (usually) a response body, containing the requested data."
   ]
  },
  {
   "cell_type": "markdown",
   "id": "514d9b12",
   "metadata": {
    "slideshow": {
     "slide_type": "slide"
    }
   },
   "source": [
    "### Example: `GET` requests via `curl`"
   ]
  },
  {
   "cell_type": "markdown",
   "id": "9466dfb8",
   "metadata": {
    "slideshow": {
     "slide_type": "fragment"
    }
   },
   "source": [
    "- By default, `curl` issues a `GET` request."
   ]
  },
  {
   "cell_type": "markdown",
   "id": "51dd1706",
   "metadata": {
    "slideshow": {
     "slide_type": "fragment"
    }
   },
   "source": [
    "```zsh\n",
    "# `-v` is short for verbose\n",
    "curl -v https://httpbin.org/html \n",
    "```"
   ]
  },
  {
   "cell_type": "markdown",
   "id": "ae9aee16",
   "metadata": {
    "slideshow": {
     "slide_type": "fragment"
    }
   },
   "source": [
    "- Remember, you can run command-line commands in a Jupyter Notebook by placing a `!` before them. Let's try that here."
   ]
  },
  {
   "cell_type": "code",
   "execution_count": null,
   "id": "93674d90",
   "metadata": {
    "scrolled": false
   },
   "outputs": [],
   "source": [
    "# Compare the output to what you see when you go to https://httpbin.org/html in your browser!\n",
    "!curl -v https://httpbin.org/html"
   ]
  },
  {
   "cell_type": "markdown",
   "id": "5cfac241",
   "metadata": {
    "slideshow": {
     "slide_type": "slide"
    }
   },
   "source": [
    "### Queries in a `GET` request"
   ]
  },
  {
   "cell_type": "markdown",
   "id": "ae01b2c5",
   "metadata": {
    "slideshow": {
     "slide_type": "fragment"
    }
   },
   "source": [
    "- In order to request more specific information, we can include a **query string** in the URL. `?` begins a query."
   ]
  },
  {
   "cell_type": "markdown",
   "id": "03abfcbf",
   "metadata": {
    "slideshow": {
     "slide_type": "fragment"
    }
   },
   "source": [
    "<a href=\"https://www.bing.com/search?q=shanghai\"><pre>\n",
    "https://www.bing.com/search?q=shanghai\n",
    "</pre></a>"
   ]
  },
  {
   "cell_type": "markdown",
   "id": "f5789938",
   "metadata": {
    "slideshow": {
     "slide_type": "fragment"
    }
   },
   "source": [
    "- This method works well when sending small amounts of data; we will use a similiar technique when working with APIs (coming later!)."
   ]
  },
  {
   "cell_type": "markdown",
   "id": "62b7c2e6",
   "metadata": {
    "slideshow": {
     "slide_type": "fragment"
    }
   },
   "source": [
    "- Be on the lookout for query strings in URLs you share on social media!"
   ]
  },
  {
   "cell_type": "code",
   "execution_count": null,
   "id": "bf59fb63",
   "metadata": {},
   "outputs": [],
   "source": [
    "!curl -v http://cn.bing.com/search?q=shanghai"
   ]
  },
  {
   "cell_type": "markdown",
   "id": "5c0bd625",
   "metadata": {
    "slideshow": {
     "slide_type": "slide"
    }
   },
   "source": [
    "### Making HTTP requests using `requests`\n",
    "\n",
    "- `requests` is a Python module that allows you to use Python to interact with the internet!  \n",
    "- There are other packages that work similarly (e.g. `urllib`), but `requests` is arguably the easiest to use."
   ]
  },
  {
   "cell_type": "code",
   "execution_count": null,
   "id": "d79da8ad",
   "metadata": {},
   "outputs": [],
   "source": [
    "import requests"
   ]
  },
  {
   "cell_type": "markdown",
   "id": "fa03e447",
   "metadata": {
    "slideshow": {
     "slide_type": "slide"
    }
   },
   "source": [
    "### Example: `GET` requests via `requests`\n",
    "\n",
    "To access the source code of the Bing home page, all we need to run is the following:\n",
    "\n",
    "```py\n",
    "requests.get('https://bing.com').text\n",
    "```"
   ]
  },
  {
   "cell_type": "code",
   "execution_count": null,
   "id": "a03b40f2",
   "metadata": {},
   "outputs": [],
   "source": [
    "res = requests.get('https://bing.com')"
   ]
  },
  {
   "cell_type": "markdown",
   "id": "17f3fe8e",
   "metadata": {
    "slideshow": {
     "slide_type": "fragment"
    }
   },
   "source": [
    "`res` is now a `Response` object."
   ]
  },
  {
   "cell_type": "code",
   "execution_count": null,
   "id": "f314829f",
   "metadata": {},
   "outputs": [],
   "source": [
    "res"
   ]
  },
  {
   "cell_type": "code",
   "execution_count": null,
   "id": "b3cec80a",
   "metadata": {},
   "outputs": [],
   "source": [
    "res.text"
   ]
  },
  {
   "cell_type": "markdown",
   "id": "b3b1def6",
   "metadata": {
    "slideshow": {
     "slide_type": "fragment"
    }
   },
   "source": [
    "The `text` attribute of `res` is a string that containing the entire response."
   ]
  },
  {
   "cell_type": "code",
   "execution_count": null,
   "id": "527ca37e",
   "metadata": {},
   "outputs": [],
   "source": [
    "type(res.text)"
   ]
  },
  {
   "cell_type": "code",
   "execution_count": null,
   "id": "024fe0e1",
   "metadata": {},
   "outputs": [],
   "source": [
    "len(res.text)"
   ]
  },
  {
   "cell_type": "code",
   "execution_count": null,
   "id": "2b792ad1",
   "metadata": {},
   "outputs": [],
   "source": [
    "print(res.text[:1000])"
   ]
  },
  {
   "cell_type": "markdown",
   "id": "b812c6fd",
   "metadata": {
    "slideshow": {
     "slide_type": "slide"
    }
   },
   "source": [
    "### Example: `POST` requests via `requests`\n",
    "\n",
    "The following call to `requests.post` makes a post request to https://httpbin.org/post, with a `'name'` parameter of `'King Triton'`."
   ]
  },
  {
   "cell_type": "code",
   "execution_count": null,
   "id": "b6522677",
   "metadata": {},
   "outputs": [],
   "source": [
    "post_res = requests.post('https://httpbin.org/post',\n",
    "                         data={'name': 'King Triton'})\n",
    "\n",
    "post_res"
   ]
  },
  {
   "cell_type": "code",
   "execution_count": null,
   "id": "c8fc5dc1",
   "metadata": {
    "scrolled": true
   },
   "outputs": [],
   "source": [
    "post_res.text"
   ]
  },
  {
   "cell_type": "code",
   "execution_count": null,
   "id": "6c289e1a",
   "metadata": {
    "slideshow": {
     "slide_type": "fragment"
    }
   },
   "outputs": [],
   "source": [
    "# More on this shortly!\n",
    "post_res.json()"
   ]
  },
  {
   "cell_type": "markdown",
   "id": "e3d264eb",
   "metadata": {
    "slideshow": {
     "slide_type": "slide"
    }
   },
   "source": [
    "What happens when we try and make a `POST` request somewhere where we're unable to?"
   ]
  },
  {
   "cell_type": "code",
   "execution_count": null,
   "id": "f0d389b8",
   "metadata": {},
   "outputs": [],
   "source": [
    "yt_res = requests.post('https://www.sjtu.edu.cn',\n",
    "                       data={'name': 'King Triton'})\n",
    "\n",
    "yt_res"
   ]
  },
  {
   "cell_type": "markdown",
   "id": "c0e99fa7",
   "metadata": {
    "slideshow": {
     "slide_type": "fragment"
    }
   },
   "source": [
    "`yt_res.text` is a string containing HTML – we can render this in-line using `IPython.display.HTML`."
   ]
  },
  {
   "cell_type": "code",
   "execution_count": null,
   "id": "c91edd27",
   "metadata": {},
   "outputs": [],
   "source": [
    "from IPython.display import HTML"
   ]
  },
  {
   "cell_type": "code",
   "execution_count": null,
   "id": "ec9c5220",
   "metadata": {
    "scrolled": true
   },
   "outputs": [],
   "source": [
    "HTML(yt_res.text)"
   ]
  },
  {
   "cell_type": "code",
   "execution_count": null,
   "id": "48bb6328",
   "metadata": {},
   "outputs": [],
   "source": []
  },
  {
   "cell_type": "markdown",
   "id": "c28709d4",
   "metadata": {
    "slideshow": {
     "slide_type": "slide"
    }
   },
   "source": [
    "### HTTP status codes"
   ]
  },
  {
   "cell_type": "markdown",
   "id": "37bea987",
   "metadata": {
    "slideshow": {
     "slide_type": "fragment"
    }
   },
   "source": [
    "- When we **request** data from a website, the server includes an **HTTP status code** in the response.  "
   ]
  },
  {
   "cell_type": "markdown",
   "id": "8b05503d",
   "metadata": {
    "slideshow": {
     "slide_type": "fragment"
    }
   },
   "source": [
    "* The most common status code is `200`, which means there were no issues.  "
   ]
  },
  {
   "cell_type": "markdown",
   "id": "0d3e5caa",
   "metadata": {
    "slideshow": {
     "slide_type": "fragment"
    }
   },
   "source": [
    "* Other times, you will see a different status code, describing some sort of event or error.\n",
    "    - Common examples: `400` – bad request, `404` – page not found, `500` – internal server error.\n",
    "    - [The first digit of a status describes its general \"category\".](https://developer.mozilla.org/en-US/docs/Web/HTTP/Status)"
   ]
  },
  {
   "cell_type": "markdown",
   "id": "de58497b",
   "metadata": {
    "slideshow": {
     "slide_type": "fragment"
    }
   },
   "source": [
    "- See [https://httpstat.us](https://httpstat.us/) for a list of all HTTP status codes.\n",
    "    - It also has example sites for each status code; for example, https://httpstat.us/404 returns a `404`."
   ]
  },
  {
   "cell_type": "code",
   "execution_count": null,
   "id": "72ccc861",
   "metadata": {},
   "outputs": [],
   "source": [
    "yt_res.status_code"
   ]
  },
  {
   "cell_type": "code",
   "execution_count": null,
   "id": "ca35b1b5",
   "metadata": {},
   "outputs": [],
   "source": [
    "r = requests.get('https://httpstat.us/200')\n",
    "print(r.status_code)\n",
    "print(r.text)"
   ]
  },
  {
   "cell_type": "markdown",
   "id": "d0576fcf",
   "metadata": {
    "slideshow": {
     "slide_type": "slide"
    }
   },
   "source": [
    "### Successful requests ✅"
   ]
  },
  {
   "cell_type": "markdown",
   "id": "4e5dcabd",
   "metadata": {
    "slideshow": {
     "slide_type": "fragment"
    }
   },
   "source": [
    "- You can check if a request was successful using the `ok` attribute, which returns a bool.\n",
    "    - If a status is in the 200s, then it is successful."
   ]
  },
  {
   "cell_type": "code",
   "execution_count": null,
   "id": "8b512fde",
   "metadata": {
    "slideshow": {
     "slide_type": "fragment"
    }
   },
   "outputs": [],
   "source": [
    "yt_res.status_code, yt_res.ok"
   ]
  },
  {
   "cell_type": "code",
   "execution_count": null,
   "id": "e30602d4",
   "metadata": {
    "slideshow": {
     "slide_type": "fragment"
    }
   },
   "outputs": [],
   "source": [
    "post_res.status_code, post_res.ok"
   ]
  },
  {
   "cell_type": "markdown",
   "id": "3ae073e2",
   "metadata": {
    "slideshow": {
     "slide_type": "fragment"
    }
   },
   "source": [
    "- Unsuccessful requests can be re-tried, depending on the issue.\n",
    "    - Wait a little, then try the request again.\n",
    "    - You can even re-try requests programmatically (e.g. using a loop). If rate of requests is too high, slow down requests between each retry (e.g. using `time.sleep`)."
   ]
  },
  {
   "cell_type": "markdown",
   "id": "333ab4bc",
   "metadata": {
    "slideshow": {
     "slide_type": "fragment"
    }
   },
   "source": []
  },
  {
   "cell_type": "markdown",
   "id": "9e447bab",
   "metadata": {
    "slideshow": {
     "slide_type": "slide"
    }
   },
   "source": [
    "## Data formats"
   ]
  },
  {
   "cell_type": "markdown",
   "id": "68142b5f",
   "metadata": {
    "slideshow": {
     "slide_type": "slide"
    }
   },
   "source": [
    "### The data formats of the internet\n",
    "\n",
    "Responses typically come in one of two formats: HTML or JSON."
   ]
  },
  {
   "cell_type": "markdown",
   "id": "cd5f16cc",
   "metadata": {
    "slideshow": {
     "slide_type": "fragment"
    }
   },
   "source": [
    "- The response body of a `GET` request is usually either JSON (when using an API) or HTML (when accessing a webpage)."
   ]
  },
  {
   "cell_type": "markdown",
   "id": "2f8248fa",
   "metadata": {
    "slideshow": {
     "slide_type": "fragment"
    }
   },
   "source": [
    "- The response body of a `POST` request is usually JSON."
   ]
  },
  {
   "cell_type": "markdown",
   "id": "73f8cebd",
   "metadata": {
    "slideshow": {
     "slide_type": "fragment"
    }
   },
   "source": [
    "- XML is also a common format, but not as popular as it once was."
   ]
  },
  {
   "cell_type": "markdown",
   "id": "44796fee",
   "metadata": {
    "slideshow": {
     "slide_type": "slide"
    }
   },
   "source": [
    "### JSON"
   ]
  },
  {
   "cell_type": "markdown",
   "id": "2046cb5f",
   "metadata": {
    "slideshow": {
     "slide_type": "fragment"
    }
   },
   "source": [
    "- JSON stands for **JavaScript Object Notation**. It is a lightweight format for storing and transferring data."
   ]
  },
  {
   "cell_type": "markdown",
   "id": "db2a5617",
   "metadata": {
    "slideshow": {
     "slide_type": "fragment"
    }
   },
   "source": [
    "- It is:\n",
    "    - very easy for computers to read and write.\n",
    "    - moderately easy for programmers to read and write by hand.\n",
    "    - meant to be generated and parsed."
   ]
  },
  {
   "cell_type": "markdown",
   "id": "508e3001",
   "metadata": {
    "slideshow": {
     "slide_type": "fragment"
    }
   },
   "source": [
    "- Most modern languages have an interface for working with JSON objects.\n",
    "    - JSON objects _resemble_ Python dictionaries (but are not the same!)."
   ]
  },
  {
   "cell_type": "markdown",
   "id": "ff1a792a",
   "metadata": {
    "slideshow": {
     "slide_type": "slide"
    }
   },
   "source": [
    "### JSON data types\n",
    "\n",
    "| Type | Description |\n",
    "| --- | --- |\n",
    "| String | Anything inside double quotes. |\n",
    "| Number | Any number (no difference between ints and floats). |\n",
    "| Boolean | `true` and `false`. |\n",
    "| Null | JSON's empty value, denoted by `null`. |\n",
    "| Array | Like Python lists. |\n",
    "| Object | A collection of key-value pairs, like dictionaries. Keys must be strings, values can be anything (even other objects). |\n",
    "\n",
    "See [json-schema.org](https://json-schema.org/understanding-json-schema/reference/type.html) for more details."
   ]
  },
  {
   "cell_type": "markdown",
   "id": "1e49584b",
   "metadata": {
    "slideshow": {
     "slide_type": "slide"
    }
   },
   "source": [
    "### Example JSON object\n",
    "\n",
    "See `data/family.json`.\n",
    "\n",
    "<center><img src='imgs/hierarchy.png' width=50%></center>"
   ]
  },
  {
   "cell_type": "code",
   "execution_count": null,
   "id": "0096bba7",
   "metadata": {},
   "outputs": [],
   "source": [
    "import json\n",
    "\n",
    "f = open(os.path.join('data', 'family.json'), 'r')\n",
    "family_tree = json.load(f)"
   ]
  },
  {
   "cell_type": "code",
   "execution_count": null,
   "id": "c0df56f4",
   "metadata": {},
   "outputs": [],
   "source": [
    "family_tree"
   ]
  },
  {
   "cell_type": "code",
   "execution_count": null,
   "id": "5d717b05",
   "metadata": {},
   "outputs": [],
   "source": [
    "family_tree['children'][0]['children'][0]['age']"
   ]
  },
  {
   "cell_type": "code",
   "execution_count": null,
   "id": "4d6dfb41",
   "metadata": {},
   "outputs": [],
   "source": [
    "f_other = open(os.path.join('data', 'family.json'))\n",
    "s = f_other.read()\n",
    "s"
   ]
  },
  {
   "cell_type": "code",
   "execution_count": null,
   "id": "039ed90e",
   "metadata": {},
   "outputs": [],
   "source": [
    "json.loads(s)"
   ]
  },
  {
   "cell_type": "markdown",
   "id": "be22ed20",
   "metadata": {
    "slideshow": {
     "slide_type": "slide"
    }
   },
   "source": [
    "### Using the `json` module\n",
    "\n",
    "Let's process the same file using the `json` module. Recall:\n",
    "- `json.load(f)` loads a JSON file from a file object.\n",
    "- `json.loads(f)` loads a JSON file from a **s**tring."
   ]
  },
  {
   "cell_type": "code",
   "execution_count": null,
   "id": "8a26d63b",
   "metadata": {},
   "outputs": [],
   "source": [
    "f_other = open(os.path.join('data', 'evil_family.json'))\n",
    "s = f_other.read()\n",
    "s"
   ]
  },
  {
   "cell_type": "code",
   "execution_count": null,
   "id": "63a2329b",
   "metadata": {},
   "outputs": [],
   "source": [
    "json.loads(s)"
   ]
  },
  {
   "cell_type": "markdown",
   "id": "c544faf7",
   "metadata": {
    "slideshow": {
     "slide_type": "fragment"
    }
   },
   "source": [
    "- Since `util.err()` is not a string in JSON (there are no quotes around it), `json.loads` is not able to parse it as a JSON object."
   ]
  },
  {
   "cell_type": "markdown",
   "id": "0aabad14",
   "metadata": {
    "slideshow": {
     "slide_type": "fragment"
    }
   },
   "source": [
    "- This \"safety check\" is intentional."
   ]
  },
  {
   "cell_type": "markdown",
   "id": "bbe64ccb",
   "metadata": {
    "slideshow": {
     "slide_type": "slide"
    }
   },
   "source": [
    "### Handling _unfamiliar_ data"
   ]
  },
  {
   "cell_type": "markdown",
   "id": "6923029b",
   "metadata": {
    "slideshow": {
     "slide_type": "fragment"
    }
   },
   "source": [
    "- Never trust data from an unfamiliar site."
   ]
  },
  {
   "cell_type": "markdown",
   "id": "c173556c",
   "metadata": {
    "slideshow": {
     "slide_type": "fragment"
    }
   },
   "source": [
    "- **Never** use `eval` on \"raw\" data that you didn't create!"
   ]
  },
  {
   "cell_type": "markdown",
   "id": "74c89bb6",
   "metadata": {
    "slideshow": {
     "slide_type": "fragment"
    }
   },
   "source": [
    "- The JSON data format needs to be **parsed**, not evaluated as a dictionary.\n",
    "    - It was designed with safety in mind!"
   ]
  },
  {
   "cell_type": "markdown",
   "id": "515ff589",
   "metadata": {
    "slideshow": {
     "slide_type": "slide"
    }
   },
   "source": [
    "## APIs and scraping"
   ]
  },
  {
   "cell_type": "markdown",
   "id": "86133535",
   "metadata": {
    "slideshow": {
     "slide_type": "slide"
    }
   },
   "source": [
    "### Programmatic requests"
   ]
  },
  {
   "cell_type": "markdown",
   "id": "84e47aa1",
   "metadata": {
    "slideshow": {
     "slide_type": "fragment"
    }
   },
   "source": [
    "* We learned how to use the Python `requests` package to exchange data via HTTP.\n",
    "    - `GET` requests are used to request data **from** a server.\n",
    "    - `POST` requests are used to **send** data to a server."
   ]
  },
  {
   "cell_type": "markdown",
   "id": "cf6a8b4c",
   "metadata": {
    "slideshow": {
     "slide_type": "fragment"
    }
   },
   "source": [
    "* There are two ways of collecting data through a request:\n",
    "    * By using a published API (application programming interface).\n",
    "    * By scraping a webpage to collect its HTML source code."
   ]
  },
  {
   "cell_type": "markdown",
   "id": "012c368e",
   "metadata": {
    "slideshow": {
     "slide_type": "slide"
    }
   },
   "source": [
    "### APIs\n",
    "\n",
    "An API is a service that makes data directly available to the user in a convenient fashion.\n",
    "\n",
    "Advantages:"
   ]
  },
  {
   "cell_type": "markdown",
   "id": "6a32873e",
   "metadata": {
    "slideshow": {
     "slide_type": "fragment"
    }
   },
   "source": [
    "- The data are usually clean, up-to-date, and ready to use."
   ]
  },
  {
   "cell_type": "markdown",
   "id": "cbe9fa8e",
   "metadata": {
    "slideshow": {
     "slide_type": "fragment"
    }
   },
   "source": [
    "- The presence of a API signals that the data provider is okay with you using their data."
   ]
  },
  {
   "cell_type": "markdown",
   "id": "2e704528",
   "metadata": {
    "slideshow": {
     "slide_type": "fragment"
    }
   },
   "source": [
    "- The data provider can plan and regulate data usage.\n",
    "    - Some APIs require you to create an API \"key\", which is like an account for using the API.\n",
    "    - APIs can also give you access to data that isn't publicly available on a webpage."
   ]
  },
  {
   "cell_type": "markdown",
   "id": "44da6d6e",
   "metadata": {
    "slideshow": {
     "slide_type": "fragment"
    }
   },
   "source": [
    "Disadvantages:\n",
    "- APIs don't always exist for the data you want!"
   ]
  },
  {
   "cell_type": "markdown",
   "id": "1233c56a",
   "metadata": {
    "slideshow": {
     "slide_type": "slide"
    }
   },
   "source": [
    "### API terminology\n",
    "\n",
    "- A URL, or uniform resource locator, describes the location of a website or resource.\n",
    "\n",
    "- An **API endpoint** is a URL of the data source that the user wants to make requests to.\n",
    "\n",
    "- For example, on the [Reddit API](https://www.reddit.com/dev/api/):\n",
    "    * the `/comments` endpoint retrieves information about comments.\n",
    "    * the `/hot` endpoint retrieves data about posts labeled \"hot\" right now. \n",
    "    - To access these endpoints, you add the endpoint name to the base URL of the API."
   ]
  },
  {
   "cell_type": "markdown",
   "id": "460afa71",
   "metadata": {
    "slideshow": {
     "slide_type": "slide"
    }
   },
   "source": [
    "### API requests\n",
    "\n",
    "- API requests are just `GET`/`POST` requests to a specially maintained URL.\n",
    "- Let's test out the [Pokémon API](https://pokeapi.co)."
   ]
  },
  {
   "cell_type": "markdown",
   "id": "e05943e0",
   "metadata": {
    "slideshow": {
     "slide_type": "fragment"
    }
   },
   "source": [
    "First, let's make a `GET` request for `'squirtle'`."
   ]
  },
  {
   "cell_type": "code",
   "execution_count": null,
   "id": "f4994b92",
   "metadata": {},
   "outputs": [],
   "source": [
    "r = requests.get('https://pokeapi.co/api/v2/pokemon/squirtle')\n",
    "r"
   ]
  },
  {
   "cell_type": "markdown",
   "id": "f7c657f7",
   "metadata": {},
   "source": [
    "Remember, the 200 status code is good! Let's take a look at the **content**:"
   ]
  },
  {
   "cell_type": "code",
   "execution_count": null,
   "id": "a9ec92e8",
   "metadata": {},
   "outputs": [],
   "source": [
    "r.content[:1000]"
   ]
  },
  {
   "cell_type": "markdown",
   "id": "3e8d0cd6",
   "metadata": {},
   "source": [
    "Looks like JSON. We can extract the JSON from this request with the `json` method (or by passing `r.text` to `json.loads`)."
   ]
  },
  {
   "cell_type": "code",
   "execution_count": null,
   "id": "7f0ab31d",
   "metadata": {},
   "outputs": [],
   "source": [
    "r.json()"
   ]
  },
  {
   "cell_type": "markdown",
   "id": "a0710871",
   "metadata": {
    "slideshow": {
     "slide_type": "slide"
    }
   },
   "source": [
    "Let's try a `GET` request for `'billy'`."
   ]
  },
  {
   "cell_type": "code",
   "execution_count": null,
   "id": "edfc11da",
   "metadata": {},
   "outputs": [],
   "source": [
    "r = requests.get('https://pokeapi.co/api/v2/pokemon/bil')\n",
    "r"
   ]
  },
  {
   "cell_type": "markdown",
   "id": "1c1dd915",
   "metadata": {},
   "source": [
    "Uh oh..."
   ]
  },
  {
   "cell_type": "markdown",
   "id": "60e30f9a",
   "metadata": {
    "slideshow": {
     "slide_type": "slide"
    }
   },
   "source": [
    "### Scraping\n",
    "\n",
    "Scraping is the act of programmatically \"browsing\" the web, downloading the source code (HTML) of pages that you're interested in extracting data from.\n",
    "\n",
    "Advantages:"
   ]
  },
  {
   "cell_type": "markdown",
   "id": "9afc12cf",
   "metadata": {
    "slideshow": {
     "slide_type": "fragment"
    }
   },
   "source": [
    "* You can always do it!\n",
    "    - e.g. Google scrapes webpages in order to make them searchable."
   ]
  },
  {
   "cell_type": "markdown",
   "id": "c2159ce1",
   "metadata": {
    "slideshow": {
     "slide_type": "fragment"
    }
   },
   "source": [
    "Disadvantages:"
   ]
  },
  {
   "cell_type": "markdown",
   "id": "7dd6edc7",
   "metadata": {
    "slideshow": {
     "slide_type": "fragment"
    }
   },
   "source": [
    "- It is often difficult to parse and clean scraped data.\n",
    "    - Source code often includes a lot of content unrelated to the data you're trying to find (e.g. formatting, advertisements, other text)."
   ]
  },
  {
   "cell_type": "markdown",
   "id": "1586e7ae",
   "metadata": {
    "slideshow": {
     "slide_type": "fragment"
    }
   },
   "source": [
    "- Websites can change often, so scraping code can get outdated quickly."
   ]
  },
  {
   "cell_type": "markdown",
   "id": "3dedd360",
   "metadata": {
    "slideshow": {
     "slide_type": "fragment"
    }
   },
   "source": [
    "- Websites may not want you to scrape their data!"
   ]
  },
  {
   "cell_type": "markdown",
   "id": "0cdb3a4d",
   "metadata": {
    "slideshow": {
     "slide_type": "fragment"
    }
   },
   "source": [
    "- **In general, we prefer APIs.**"
   ]
  },
  {
   "cell_type": "markdown",
   "id": "01d068f2",
   "metadata": {
    "slideshow": {
     "slide_type": "slide"
    }
   },
   "source": [
    "### Accessing HTML\n",
    "\n",
    "**Goal**: Access information about JI research center.\n",
    "\n",
    "Let's start by making a `GET` request to the JI research center page and see what the resulting HTML looks like. "
   ]
  },
  {
   "cell_type": "code",
   "execution_count": null,
   "id": "452ea7b0",
   "metadata": {},
   "outputs": [],
   "source": [
    "r = requests.get('https://www.ji.sjtu.edu.cn/research/research-center/')\n",
    "r"
   ]
  },
  {
   "cell_type": "code",
   "execution_count": null,
   "id": "f80dbd38",
   "metadata": {},
   "outputs": [],
   "source": [
    "research_text = r.text\n",
    "len(research_text)"
   ]
  },
  {
   "cell_type": "code",
   "execution_count": null,
   "id": "6440e7c5",
   "metadata": {},
   "outputs": [],
   "source": [
    "print(research_text[:1000])"
   ]
  },
  {
   "cell_type": "code",
   "execution_count": null,
   "id": "cd3d2214",
   "metadata": {},
   "outputs": [],
   "source": [
    "'COO' in research_text"
   ]
  },
  {
   "cell_type": "markdown",
   "id": "08efd3a9",
   "metadata": {
    "slideshow": {
     "slide_type": "slide"
    }
   },
   "source": [
    "Wow, that is gross looking! 😰 \n",
    "\n",
    "- It is **raw** HTML, which web browsers use to display websites.\n",
    "- The information we are looking for – research information – is in there somewhere, but we have to search for it and extract it, which we wouldn't have to do if we had an API.\n",
    "- We'll now look at how HTML documents are structured and how to extract information from them."
   ]
  },
  {
   "cell_type": "markdown",
   "id": "d75a992c",
   "metadata": {
    "slideshow": {
     "slide_type": "slide"
    }
   },
   "source": [
    "### Best practices for scraping\n",
    "\n",
    "1. **Send requests slowly** and be upfront about what you are doing!\n",
    "2. Respect the policy published in the page's `robots.txt` file.\n",
    "    - Many sites have a `robots.txt` file in their root directory, which contains a policy that allows or disallows automatic access to their site. \n",
    "    - See [here](https://moz.com/learn/seo/robotstxt) for more details.\n",
    "3. Don't spoof your User-agent (i.e. don't try to trick the server into thinking you are a person).\n",
    "4. Read the Terms of Service for the site and follow it."
   ]
  },
  {
   "cell_type": "markdown",
   "id": "fc20aea1",
   "metadata": {
    "slideshow": {
     "slide_type": "slide"
    }
   },
   "source": [
    "### Consequences of irresponsible scraping\n",
    "\n",
    "If you make too many requests:\n",
    "* The server may block your IP Address.\n",
    "* You may take down the website.\n",
    "   "
   ]
  },
  {
   "cell_type": "markdown",
   "id": "ed586479",
   "metadata": {
    "slideshow": {
     "slide_type": "slide"
    }
   },
   "source": [
    "## The anatomy of HTML documents"
   ]
  },
  {
   "cell_type": "markdown",
   "id": "23cc2b88",
   "metadata": {
    "slideshow": {
     "slide_type": "slide"
    }
   },
   "source": [
    "### What is HTML?"
   ]
  },
  {
   "cell_type": "markdown",
   "id": "e29409f7",
   "metadata": {
    "slideshow": {
     "slide_type": "fragment"
    }
   },
   "source": [
    "* HTML (HyperText Markup Language) is **the** basic building block of the internet. \n"
   ]
  },
  {
   "cell_type": "markdown",
   "id": "1ac58e4d",
   "metadata": {
    "slideshow": {
     "slide_type": "fragment"
    }
   },
   "source": [
    "* It defines the content and layout of a webpage, and as such, it is what you get back when you scrape a webpage."
   ]
  },
  {
   "cell_type": "markdown",
   "id": "7213fa7d",
   "metadata": {
    "slideshow": {
     "slide_type": "fragment"
    }
   },
   "source": [
    "* See [this tutorial](http://fab.academany.org/2018/labs/fablaboshanghai/students/bob-wu/Fabclass/week2_project_management/HTML.html) for more details."
   ]
  },
  {
   "cell_type": "markdown",
   "id": "97f0d895",
   "metadata": {
    "slideshow": {
     "slide_type": "slide"
    }
   },
   "source": [
    "For instance, here's the content of a very basic webpage."
   ]
  },
  {
   "cell_type": "code",
   "execution_count": null,
   "id": "856c836b",
   "metadata": {},
   "outputs": [],
   "source": [
    "!cat data/Lec8_ex.html"
   ]
  },
  {
   "cell_type": "markdown",
   "id": "8dc0b186",
   "metadata": {
    "slideshow": {
     "slide_type": "fragment"
    }
   },
   "source": [
    "Using `IPython.display.HTML`, we can render it directly in our notebook."
   ]
  },
  {
   "cell_type": "code",
   "execution_count": null,
   "id": "ec1c4f5b",
   "metadata": {
    "slideshow": {
     "slide_type": "-"
    }
   },
   "outputs": [],
   "source": [
    "from IPython.display import HTML\n",
    "HTML(os.path.join('data', 'Lec8_ex.html'))"
   ]
  },
  {
   "cell_type": "markdown",
   "id": "61ab3db3",
   "metadata": {
    "slideshow": {
     "slide_type": "slide"
    }
   },
   "source": [
    "### The anatomy of HTML documents\n",
    "\n",
    "* **HTML document**: The totality of markup that makes up a webpage.\n",
    "\n",
    "* **Document Object Model (DOM)**: The internal representation of a HTML document as a hierarchical **tree** structure.\n",
    "\n",
    "* **HTML element**: An object in the DOM, such as a paragraph, header, or title.\n",
    "* **HTML tags**: Markers that denote the **start** and **end** of an element, such as `<p>` and `</p>`.\n",
    "\n",
    "<center><img src='imgs/dom.jpg'></center>\n",
    "\n",
    "<center><a href='https://simplesnippets.tech/what-is-document-object-modeldom-how-js-interacts-with-dom/'>(source)</a></center>"
   ]
  },
  {
   "cell_type": "markdown",
   "id": "13404bf2",
   "metadata": {
    "slideshow": {
     "slide_type": "slide"
    }
   },
   "source": [
    "### Useful tags to know\n",
    "\n",
    "\n",
    "|Element|Description|\n",
    "|:---|:---|\n",
    "|`<html>`|the document|\n",
    "|`<head>`|the header|\n",
    "|`<body>`|the body|\n",
    "|`<div>` |a logical division of the document|\n",
    "|`<span>`|an *inline* logical division|\n",
    "|`<p>`|a paragraph|\n",
    "| `<a>`| an anchor (hyperlink)|\n",
    "|`<h1>, <h2>, ...`| header(s) |\n",
    "|`<img>`| an image |\n",
    "\n",
    "There are many, many more. See [this article](https://en.wikipedia.org/wiki/HTML_element) for examples."
   ]
  },
  {
   "cell_type": "markdown",
   "id": "0a3532d3",
   "metadata": {
    "slideshow": {
     "slide_type": "slide"
    }
   },
   "source": [
    "### Example: images and hyperlinks\n",
    "\n",
    "Tags can have **attributes**, which further specify how to display information on a webpage."
   ]
  },
  {
   "cell_type": "markdown",
   "id": "beb545d9",
   "metadata": {
    "slideshow": {
     "slide_type": "fragment"
    }
   },
   "source": [
    "For instance, `<img>` tags have `src` and `alt` attributes (among others):\n",
    "\n",
    "```html\n",
    "<img src=\"king-selfie.png\" alt=\"A photograph of King Triton.\" width=500>\n",
    "```"
   ]
  },
  {
   "cell_type": "markdown",
   "id": "7e83cd22",
   "metadata": {
    "slideshow": {
     "slide_type": "fragment"
    }
   },
   "source": [
    "Hyperlinks have `href` attributes: \n",
    "\n",
    "```html\n",
    "Click <a href=\"https://bing.com\">this link</a> to search your keywords.\n",
    "```"
   ]
  },
  {
   "cell_type": "markdown",
   "id": "b655cf7a",
   "metadata": {
    "slideshow": {
     "slide_type": "slide"
    }
   },
   "source": [
    "What do you think this webpage looks like?"
   ]
  },
  {
   "cell_type": "code",
   "execution_count": null,
   "id": "12cf573f",
   "metadata": {},
   "outputs": [],
   "source": [
    "!cat data/Lec8.html"
   ]
  },
  {
   "cell_type": "markdown",
   "id": "25fbb9e2",
   "metadata": {
    "slideshow": {
     "slide_type": "slide"
    }
   },
   "source": [
    "### The `<div>` tag\n",
    "\n",
    "```html\n",
    "<div style=\"background-color:lightblue\">\n",
    "  <h3>This is a heading</h3>\n",
    "  <p>This is a paragraph.</p>\n",
    "</div>\n",
    "```\n",
    "\n",
    "* The `<div>` tag defines a division or a \"section\" of an HTML document.\n",
    "    * Think of a `<div>` as a \"cell\" in a Jupyter Notebook.\n",
    "\n",
    "* The `<div>` element is often used as a container for other HTML elements to style them with CSS or to perform operations involving them using JavaScript.\n",
    "\n",
    "* `<div>` elements often have attributes, **which are important when scraping**!"
   ]
  },
  {
   "cell_type": "markdown",
   "id": "fdf6f3ac",
   "metadata": {
    "slideshow": {
     "slide_type": "slide"
    }
   },
   "source": [
    "### Document trees"
   ]
  },
  {
   "cell_type": "markdown",
   "id": "da13e188",
   "metadata": {
    "slideshow": {
     "slide_type": "fragment"
    }
   },
   "source": [
    "Under the document object model (DOM), HTML documents are trees. In DOM trees, child nodes are **ordered**.\n",
    "\n",
    "<center>\n",
    "\n",
    "<img src=\"imgs/webpage_anatomy.png\" width=\"50%\">\n",
    "\n",
    "</center>    \n",
    "\n",
    "What does the DOM tree look like for this document?"
   ]
  },
  {
   "cell_type": "markdown",
   "id": "39915947",
   "metadata": {
    "slideshow": {
     "slide_type": "fragment"
    }
   },
   "source": [
    "<center><img src=\"imgs/dom_tree.png\" width=\"50%\"></center>"
   ]
  },
  {
   "cell_type": "markdown",
   "id": "c642c1c0",
   "metadata": {
    "slideshow": {
     "slide_type": "slide"
    }
   },
   "source": [
    "### Example: Quote scraping\n",
    "\n",
    "Consider the following webpage.\n",
    "\n",
    "<center><img src=\"imgs/quotes2scrape.png\" width=60%></center>\n",
    "\n",
    "- What do you think the DOM tree looks like?\n",
    "- If you had to store the data on this page in a DataFrame, what would the rows and columns represent?"
   ]
  },
  {
   "cell_type": "markdown",
   "id": "363abd65",
   "metadata": {
    "slideshow": {
     "slide_type": "fragment"
    }
   },
   "source": [
    "<center><img src=\"imgs/quote_dom.png\" width=\"50%\"></center>"
   ]
  },
  {
   "cell_type": "markdown",
   "id": "4a797498",
   "metadata": {
    "slideshow": {
     "slide_type": "slide"
    }
   },
   "source": [
    "## Parsing HTML using Beautiful Soup"
   ]
  },
  {
   "cell_type": "markdown",
   "id": "20f74bd7",
   "metadata": {
    "slideshow": {
     "slide_type": "slide"
    }
   },
   "source": [
    "### Beautiful Soup 🍜\n",
    "\n",
    "* [Beautiful Soup 4](https://www.crummy.com/software/BeautifulSoup/bs4/doc/) is a Python HTML parser.\n",
    "    - To \"parse\" means to \"extract meaning from a sequence of symbols\".\n",
    "* **Warning:** Beautiful Soup 4 and Beautiful Soup 3 work differently, so make sure you are using and looking at documentation for Beautiful Soup 4."
   ]
  },
  {
   "cell_type": "markdown",
   "id": "11b42bbd",
   "metadata": {
    "slideshow": {
     "slide_type": "slide"
    }
   },
   "source": [
    "### Example HTML document\n",
    "\n",
    "To start, we'll work with the source code for an HTML page with the DOM tree shown below:\n",
    "\n",
    "<center><img src=\"imgs/dom_tree_1.png\" width=\"50%\"></center>"
   ]
  },
  {
   "cell_type": "markdown",
   "id": "8a3b4ded",
   "metadata": {
    "slideshow": {
     "slide_type": "fragment"
    }
   },
   "source": [
    "The string `html_string` contains an HTML \"document\"."
   ]
  },
  {
   "cell_type": "code",
   "execution_count": null,
   "id": "da0809c0",
   "metadata": {
    "slideshow": {
     "slide_type": "-"
    }
   },
   "outputs": [],
   "source": [
    "html_string = '''\n",
    "<html>\n",
    "    <body>\n",
    "      <div id=\"content\">\n",
    "        <h1>Heading here</h1>\n",
    "        <p>My First paragraph</p>\n",
    "        <p>My <em>second</em> paragraph</p>\n",
    "        <hr>\n",
    "      </div>\n",
    "      <div id=\"nav\">\n",
    "        <ul>\n",
    "          <li>item 1</li>\n",
    "          <li>item 2</li>\n",
    "          <li>item 3</li>\n",
    "        </ul>\n",
    "      </div>\n",
    "    </body>\n",
    "</html>\n",
    "'''.strip()"
   ]
  },
  {
   "cell_type": "code",
   "execution_count": null,
   "id": "b3699a5d",
   "metadata": {
    "scrolled": true
   },
   "outputs": [],
   "source": [
    "HTML(html_string)"
   ]
  },
  {
   "cell_type": "markdown",
   "id": "05a7a4bf",
   "metadata": {
    "slideshow": {
     "slide_type": "slide"
    }
   },
   "source": [
    "### `BeautifulSoup` objects\n",
    "\n",
    "`bs4.BeautifulSoup` takes in a string or file-like object representing HTML (`markup`) and returns a **parsed** document."
   ]
  },
  {
   "cell_type": "code",
   "execution_count": null,
   "id": "8e39ceb3",
   "metadata": {},
   "outputs": [],
   "source": [
    "import bs4"
   ]
  },
  {
   "cell_type": "code",
   "execution_count": null,
   "id": "6ff4c7a7",
   "metadata": {},
   "outputs": [],
   "source": [
    "bs4.BeautifulSoup?"
   ]
  },
  {
   "cell_type": "markdown",
   "id": "352a2bdc",
   "metadata": {},
   "source": [
    "Normally, we pass the result of a `GET` request to `bs4.BeautifulSoup`, but here we will pass our hand-crafted `html_string`."
   ]
  },
  {
   "cell_type": "code",
   "execution_count": null,
   "id": "cbb904c6",
   "metadata": {},
   "outputs": [],
   "source": [
    "soup = bs4.BeautifulSoup(html_string)\n",
    "soup"
   ]
  },
  {
   "cell_type": "code",
   "execution_count": null,
   "id": "213bf464",
   "metadata": {},
   "outputs": [],
   "source": [
    "type(soup)"
   ]
  },
  {
   "cell_type": "markdown",
   "id": "e4cb1154",
   "metadata": {},
   "source": [
    "`BeautifulSoup` objects have several useful attributes, e.g. `text`:"
   ]
  },
  {
   "cell_type": "code",
   "execution_count": null,
   "id": "5454f217",
   "metadata": {},
   "outputs": [],
   "source": [
    "print(soup.text)"
   ]
  },
  {
   "cell_type": "markdown",
   "id": "1f78233a",
   "metadata": {
    "slideshow": {
     "slide_type": "slide"
    }
   },
   "source": [
    "### Traversing through `descendants`\n",
    "\n",
    "The `descendants` attribute traverses a `BeautifulSoup` tree using **depth-first traversal**.\n",
    "\n",
    "Why depth-first? Elements closer to one another on a page are more likely to be related than elements further away.\n",
    "\n",
    "<center><img src=\"imgs/dom_tree_1.png\" width=\"60%\"></center>"
   ]
  },
  {
   "cell_type": "code",
   "execution_count": null,
   "id": "867dc3b8",
   "metadata": {},
   "outputs": [],
   "source": [
    "soup.descendants"
   ]
  },
  {
   "cell_type": "code",
   "execution_count": null,
   "id": "c5eb79a8",
   "metadata": {},
   "outputs": [],
   "source": [
    "list(soup.descendants)"
   ]
  },
  {
   "cell_type": "code",
   "execution_count": null,
   "id": "bf0d50ff",
   "metadata": {},
   "outputs": [],
   "source": [
    "for child in soup.descendants:\n",
    "    # print(child) # What would happen if we ran this instead?\n",
    "    if isinstance(child, str):\n",
    "        continue\n",
    "    print(child.name)\n",
    "    \n",
    "    \n",
    "# Traverse, BFS or DFS？\n"
   ]
  },
  {
   "cell_type": "markdown",
   "id": "e0a21d52",
   "metadata": {
    "slideshow": {
     "slide_type": "slide"
    }
   },
   "source": [
    "### Finding elements in a tree\n",
    "\n",
    "Practically speaking, you will not use the `descendants` attribute (or the related `children` attribute) directly very often. Instead, you will use the following methods:\n",
    "\n",
    "- `soup.find(tag)`, which finds the **first** instance of a tag (the first one on the page, i.e. the first one that DFS sees).\n",
    "    - More general: `soup.find(name=None, attrs={}, recursive=True, text=None, **kwargs)`.\n",
    "- `soup.find_all(tag)` will find **all** instances of a tag.\n"
   ]
  },
  {
   "cell_type": "markdown",
   "id": "1468475e",
   "metadata": {
    "slideshow": {
     "slide_type": "slide"
    }
   },
   "source": [
    "### Using `find`\n",
    "\n",
    "Let's try and extract the first `<div>` subtree.\n",
    "\n",
    "<center><img src=\"imgs/dom_tree_1.png\" width=\"60%\"></center>  "
   ]
  },
  {
   "cell_type": "code",
   "execution_count": null,
   "id": "3c7206f8",
   "metadata": {},
   "outputs": [],
   "source": [
    "soup"
   ]
  },
  {
   "cell_type": "code",
   "execution_count": null,
   "id": "6c1d60ad",
   "metadata": {},
   "outputs": [],
   "source": [
    "div = soup.find('div')\n",
    "div"
   ]
  },
  {
   "cell_type": "markdown",
   "id": "43a9ec73",
   "metadata": {},
   "source": [
    "<center><img src=\"imgs/dom_subtree_1.png\" width=\"30%\"></center>  "
   ]
  },
  {
   "cell_type": "markdown",
   "id": "9e3d7cfc",
   "metadata": {},
   "source": [
    "Let's try and find the `<div>` element that has an `id` attribute equal to `'nav'`."
   ]
  },
  {
   "cell_type": "code",
   "execution_count": null,
   "id": "360d0136",
   "metadata": {},
   "outputs": [],
   "source": [
    "soup.find('div', attrs={'id': 'nav'})"
   ]
  },
  {
   "cell_type": "markdown",
   "id": "dafc1aef",
   "metadata": {},
   "source": [
    "`find` will return the first occurrence of a tag, regardless of its depth in the tree."
   ]
  },
  {
   "cell_type": "code",
   "execution_count": null,
   "id": "f6359708",
   "metadata": {},
   "outputs": [],
   "source": [
    "soup.find('ul')"
   ]
  },
  {
   "cell_type": "code",
   "execution_count": null,
   "id": "f6bf895b",
   "metadata": {},
   "outputs": [],
   "source": [
    "soup.find('li')"
   ]
  },
  {
   "cell_type": "markdown",
   "id": "713e94fa",
   "metadata": {
    "slideshow": {
     "slide_type": "slide"
    }
   },
   "source": [
    "### Node attributes\n",
    "* The `text` attribute of a tag element gets the text between the opening and closing tags.\n",
    "* The `attrs` attribute lists all attributes of a tag.\n",
    "* The `get(key)` method gets the value of a tag attribute."
   ]
  },
  {
   "cell_type": "code",
   "execution_count": null,
   "id": "d183a0b4",
   "metadata": {},
   "outputs": [],
   "source": [
    "soup.find('p')"
   ]
  },
  {
   "cell_type": "code",
   "execution_count": null,
   "id": "e1a308ab",
   "metadata": {},
   "outputs": [],
   "source": [
    "soup.find('p').text"
   ]
  },
  {
   "cell_type": "code",
   "execution_count": null,
   "id": "b1919b9b",
   "metadata": {},
   "outputs": [],
   "source": [
    "soup.find('div')"
   ]
  },
  {
   "cell_type": "code",
   "execution_count": null,
   "id": "7331ff79",
   "metadata": {},
   "outputs": [],
   "source": [
    "soup.find('div').attrs"
   ]
  },
  {
   "cell_type": "code",
   "execution_count": null,
   "id": "32d5e41c",
   "metadata": {},
   "outputs": [],
   "source": [
    "soup.find('div').get('id')"
   ]
  },
  {
   "cell_type": "markdown",
   "id": "3e5f874f",
   "metadata": {
    "slideshow": {
     "slide_type": "slide"
    }
   },
   "source": [
    "The `get` method must be called directly on the node that contains the attribute you're looking for."
   ]
  },
  {
   "cell_type": "code",
   "execution_count": null,
   "id": "dbae92f9",
   "metadata": {},
   "outputs": [],
   "source": [
    "soup"
   ]
  },
  {
   "cell_type": "code",
   "execution_count": null,
   "id": "ddff20a7",
   "metadata": {},
   "outputs": [],
   "source": [
    "# While there are multiple 'id' attributes, none of them are in the <html> tag at the top.\n",
    "soup.get('id')"
   ]
  },
  {
   "cell_type": "code",
   "execution_count": null,
   "id": "24b4116d",
   "metadata": {
    "scrolled": true
   },
   "outputs": [],
   "source": [
    "soup.find('div').get('id')"
   ]
  },
  {
   "cell_type": "markdown",
   "id": "42ce4de4",
   "metadata": {
    "slideshow": {
     "slide_type": "slide"
    }
   },
   "source": [
    "### Using `find_all`\n",
    "\n",
    "`find_all` returns a list of all matches."
   ]
  },
  {
   "cell_type": "code",
   "execution_count": null,
   "id": "24d0e570",
   "metadata": {},
   "outputs": [],
   "source": [
    "len(soup.find_all('div'))"
   ]
  },
  {
   "cell_type": "code",
   "execution_count": null,
   "id": "0e3fb3a0",
   "metadata": {},
   "outputs": [],
   "source": [
    "soup.find_all('li')[0]"
   ]
  },
  {
   "cell_type": "code",
   "execution_count": null,
   "id": "3e5c50bd",
   "metadata": {},
   "outputs": [],
   "source": [
    "[x.text for x in soup.find_all('li')]"
   ]
  },
  {
   "cell_type": "markdown",
   "id": "ea3ab7da",
   "metadata": {
    "slideshow": {
     "slide_type": "slide"
    }
   },
   "source": [
    "### Summary\n",
    "\n",
    "- HTTP is the protocol the internet uses for transferring information.\n",
    "- Clients can make `GET` HTTP requests to ask for information and `POST` HTTP requests to send information.\n",
    "- Servers send responses with the desired information.\n",
    "- We can use `curl` in the command-line or the `requests` Python module to make HTTP requests.\n",
    "- The two main file formats used for storing information on the internet are HTML and JSON.\n",
    "    - JSON objects resemble Python dictionaries, but they are not quite the same. \n",
    "    - Use the `.json()` method of a response object or the `json` package to parse them, **not** `eval`.\n",
    "- APIs allow us to request information from web servers in a convenient fashion.\n",
    "- When APIs don't exist, we instead scrape webpages to access their source HTML and then parse the HTML to extract the information we care about.\n",
    "- Under the document object model (DOM), HTML documents are trees.\n",
    "    - Elements are defined by tags.\n",
    "- Beautiful Soup is an HTML parser that allows us to (somewhat) easily extract information from HTML documents.\n",
    "    - `soup.find` and `soup.find_all` are the functions you will use most often."
   ]
  },
  {
   "cell_type": "markdown",
   "id": "0acc2e7a",
   "metadata": {
    "slideshow": {
     "slide_type": "slide"
    }
   },
   "source": [
    "### Next time\n",
    "\n",
    "- Using HTTP to make API requests and scrape the web. \n",
    "- Parsing HTML files."
   ]
  }
 ],
 "metadata": {
  "celltoolbar": "Slideshow",
  "kernelspec": {
   "display_name": "Python 3 (ipykernel)",
   "language": "python",
   "name": "python3"
  },
  "language_info": {
   "codemirror_mode": {
    "name": "ipython",
    "version": 3
   },
   "file_extension": ".py",
   "mimetype": "text/x-python",
   "name": "python",
   "nbconvert_exporter": "python",
   "pygments_lexer": "ipython3",
   "version": "3.8.13"
  },
  "livereveal": {
   "scroll": true
  },
  "rise": {
   "transition": "none"
  },
  "vscode": {
   "interpreter": {
    "hash": "fa21447ba3ca0ac29cfe033d1e623e3db9da50a3031a1ad33c9e1c367d9ba6e8"
   }
  }
 },
 "nbformat": 4,
 "nbformat_minor": 5
}
