{
 "cells": [
  {
   "cell_type": "code",
   "execution_count": 2,
   "metadata": {},
   "outputs": [
    {
     "data": {
      "text/plain": [
       "['go', 'go']"
      ]
     },
     "execution_count": 2,
     "metadata": {},
     "output_type": "execute_result"
    }
   ],
   "source": [
    "import re\n",
    "pattern = r'[go]*(go)'\n",
    "re.findall(pattern, 'godoggogo100')"
   ]
  },
  {
   "cell_type": "code",
   "execution_count": 3,
   "metadata": {},
   "outputs": [
    {
     "data": {
      "text/plain": [
       "[('03', '04', '53', 'Horse awakens. '),\n",
       " ('03', '05', '14', 'Horse goes back to sleep.')]"
      ]
     },
     "execution_count": 3,
     "metadata": {},
     "output_type": "execute_result"
    }
   ],
   "source": [
    "text = \"\"\"Observations: 03:04:53 - Horse awakens. \n",
    "03:05:14 - Horse goes back to sleep.\"\"\"\n",
    "pattern = \"(\\d\\d):(\\d\\d):(\\d\\d) - (.*)\"\n",
    "matches = re.findall(pattern, text)\n",
    "matches"
   ]
  },
  {
   "cell_type": "code",
   "execution_count": 11,
   "metadata": {},
   "outputs": [
    {
     "data": {
      "text/plain": [
       "[True, True, False, True]"
      ]
     },
     "execution_count": 11,
     "metadata": {},
     "output_type": "execute_result"
    }
   ],
   "source": [
    "answer = [\"\\$(.*?)\", \"\\$\\d+\\.\\d{2}\", \"\\d+\", \"^\\d+\\$\"]\n",
    "pattern = r'\\\\\\$.*'\n",
    "lst = [bool(re.findall(pattern, answer[i])) for i in range(len(answer))]\n",
    "lst\n",
    "# print(pattern)"
   ]
  },
  {
   "cell_type": "code",
   "execution_count": 2,
   "metadata": {},
   "outputs": [],
   "source": [
    "import json\n",
    "import requests\n",
    "post_res = requests.post('https://httpbin.org/post',\n",
    "                         data={'name': 'King Triton'})\n"
   ]
  },
  {
   "cell_type": "code",
   "execution_count": 5,
   "metadata": {},
   "outputs": [
    {
     "data": {
      "text/plain": [
       "{'args': {},\n",
       " 'data': '',\n",
       " 'files': {},\n",
       " 'form': {'name': 'King Triton'},\n",
       " 'headers': {'Accept': '*/*',\n",
       "  'Accept-Encoding': 'gzip, deflate',\n",
       "  'Content-Length': '16',\n",
       "  'Content-Type': 'application/x-www-form-urlencoded',\n",
       "  'Host': 'httpbin.org',\n",
       "  'User-Agent': 'python-requests/2.27.1',\n",
       "  'X-Amzn-Trace-Id': 'Root=1-6695dee1-6efeac5979fae1b76ccc2da1'},\n",
       " 'json': None,\n",
       " 'origin': '58.247.22.201',\n",
       " 'url': 'https://httpbin.org/post'}"
      ]
     },
     "execution_count": 5,
     "metadata": {},
     "output_type": "execute_result"
    }
   ],
   "source": [
    "post_res.json()"
   ]
  }
 ],
 "metadata": {
  "kernelspec": {
   "display_name": "STAT471",
   "language": "python",
   "name": "python3"
  },
  "language_info": {
   "codemirror_mode": {
    "name": "ipython",
    "version": 3
   },
   "file_extension": ".py",
   "mimetype": "text/x-python",
   "name": "python",
   "nbconvert_exporter": "python",
   "pygments_lexer": "ipython3",
   "version": "3.6.13"
  },
  "orig_nbformat": 4
 },
 "nbformat": 4,
 "nbformat_minor": 2
}
